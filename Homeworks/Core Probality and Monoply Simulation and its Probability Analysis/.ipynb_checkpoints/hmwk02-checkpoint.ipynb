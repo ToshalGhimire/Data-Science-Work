{
 "cells": [
  {
   "cell_type": "markdown",
   "metadata": {},
   "source": [
    "# Homework 2: Introduction to Probability and Simulation \n",
    "***\n",
    "\n",
    "**Name**: \n",
    "\n",
    "**Section**: (001 or 002)\n",
    "***\n",
    "\n",
    "This assignment is due on Moodle by **5pm on Friday September 29th**. Your solutions to theoretical questions should be done in Markdown/MathJax directly below the associated question.  Your solutions to computational questions should include any specified Python code and results as well as written commentary on your conclusions.  Remember that you are encouraged to discuss the problems with your instructors and classmates, but **you must write all code and solutions on your own**.  For a refresher on the course **Collaboration Policy** click [here](https://github.com/chrisketelsen/csci3022/blob/master/resources/syllabus.md#collaboration-policy).  \n",
    "\n",
    "**NOTES**: \n",
    "\n",
    "- Some problems with code may be autograded.  If we provide a function API please do not change it.  If we do not provide a function API then you're free to structure your code however you like. \n",
    "- It is **bad form** to make your reader interpret numerical output from your code.  If a question asks you to compute some value from the data you should show your code output **AND** write a summary of the results in Markdown directly below your code.\n",
    "- Because you can technically evaluate notebook cells is a non-linear order, it's a good idea to do Cell $\\rightarrow$ Run All as a check before submitting your solutions.  That way if we need to run your code you will know that it will work as expected. \n",
    "- Submit only this Jupyter notebook to Moodle.  Do not compress it using tar, rar, zip, etc. "
   ]
  },
  {
   "cell_type": "markdown",
   "metadata": {},
   "source": [
    "Still to do\n",
    "    probelm 2 G\n",
    "    probelm 3 D\n",
    "    problem 4 E"
   ]
  },
  {
   "cell_type": "code",
   "execution_count": 2,
   "metadata": {
    "collapsed": true,
    "scrolled": true
   },
   "outputs": [],
   "source": [
    "import pandas as pd\n",
    "import numpy as np\n",
    "import random\n",
    "import decimal\n",
    "import matplotlib.pylab as plt\n",
    "%matplotlib inline"
   ]
  },
  {
   "cell_type": "markdown",
   "metadata": {},
   "source": [
    "### [20 points] Problem 1 \n",
    "***\n",
    "\n",
    "In a box there are 99 fair coins and 1 double-headed coin.  You grab one coin at random.  \n",
    "\n",
    "Work the following problems by hand (but don't be afraid to simulate to check your result!). \n"
   ]
  },
  {
   "cell_type": "markdown",
   "metadata": {},
   "source": [
    "**Part A**: You toss your coin one time.  What is the probability that you toss a Heads? "
   ]
  },
  {
   "cell_type": "markdown",
   "metadata": {},
   "source": [
    "$ (\\frac{1}{100} * 1) + (\\frac{99}{100} * \\frac{1}{2}) = \\frac{101}{200}$\n",
    "\n",
    "the probality of fliping heads is $\\frac{101}{200}$ or 0.505"
   ]
  },
  {
   "cell_type": "markdown",
   "metadata": {},
   "source": [
    "**Part B**: Suppose you toss a Heads.  What is the probability that the coin you chose from the box is double-sided? "
   ]
  },
  {
   "cell_type": "markdown",
   "metadata": {},
   "source": [
    "$P(DoubleSided \\mid Heads) = \\frac{P(Heads \\mid DoubleSided ) * P(DoubleSided)}{P( Heads)}$\n",
    "\n",
    "$P(DoubleSided \\mid Heads) = \\frac{1*\\frac{1}{100}}{\\frac{101}{200}}$ \n",
    "\n",
    "$P(DoubleSided \\mid Heads) = \\frac{2}{101} = 0.0198 $\n",
    "\n",
    "Using bayes probablity theorem: There is 0.0198% chance that the coin chosen was a double sided coin "
   ]
  },
  {
   "cell_type": "markdown",
   "metadata": {},
   "source": [
    "**Part C**: Suppose you flip your coin $n$ times and record each outcome.  Obviously, if you flip Tails you know you picked a fair coin. But, if you flipped $n$ Heads in a row you would have a stronger belief that you in fact grabbed the double-headed coin.  What is the smallest value of $n$ Heads in a row that would make you believe that there's a better-than-half chance that the coin you grabbed is double-headed?  "
   ]
  },
  {
   "cell_type": "markdown",
   "metadata": {},
   "source": [
    "$P(DoubleSided \\mid Heads) = \\frac{P(Heads \\mid DoubleSided )  P(DoubleSided)} {P(Heads \\mid DoubleSided ) P(DoubleSided) + P(Heads \\mid NotDoubleSided )  P(NotDoubleSided)}$\n",
    "\n",
    "$0.5 > \\frac{P(Heads \\mid DoubleSided )  P(DoubleSided)}{P(Heads \\mid DoubleSided )  P(DoubleSided) + P(Heads \\mid NotDoubleSided )P(NotDoubleSided)}$\n",
    "\n",
    "$0.5 > \\frac{1  \\frac{1}{100}}{\\frac{1}{100} + \\frac{1}{2}  \\frac{99}{100}} = .0198$\n",
    "for when the first coin is head \n",
    "\n",
    "This is beacuse for the $P(Heads \\mid NotDoubleSided )$ is 0.5 for the first flip\n",
    "\n",
    "Now we must find the chance of getting head multiple times in a row, this is represented by $ \\frac{1}{2}^n $\n",
    "\n",
    "solve for n\n",
    "$0.5 > \\frac{1  \\frac{1}{100}}{\\frac{1}{100} + \\frac{1}{2}^n  \\frac{99}{100}}$\n",
    "\n",
    "$ \\frac{1}{100} + \\frac{1}{2}^n  \\frac{99}{100} > \\frac{1  \\frac{1}{100}}{.5}$\n",
    "\n",
    "$ \\frac{1}{2}^n  \\frac{99}{100} > \\frac{1  \\frac{1}{100}}{.5} - \\frac{1}{100}$\n",
    "\n",
    "$ \\frac{1}{2}^n > \\frac{\\frac{1  \\frac{1}{100}}{.5} - \\frac{1}{100}}{\\frac{99}{100}}$\n",
    "\n",
    "$ \\frac{1}{2}^n > \\frac{.01}{.99}$\n",
    "using log properties i was able to determine the n to be 6.62\n",
    "\n",
    "rounding up to 7, the smallest value of n needs to be 7 inorder for the probality of grabing a doublesided coin to be better then half\n",
    "\n",
    "probality of grabing a double sided coin is 0.56 when head is fliped 7 times in a row"
   ]
  },
  {
   "cell_type": "markdown",
   "metadata": {},
   "source": [
    "### [20 points] Problem 2  \n",
    "***\n",
    "\n",
    "In soccer tournaments, [penalty shootouts](https://en.wikipedia.org/wiki/Penalty_shoot-out_(association_football) are used to determine the outcome of the game if the score is tied after regulation play.   In a penalty shootout, each team takes turns attempting 5 shots on the goal from the penalty mark that are defended only by the opposing team's goalkeeper, with the team that makes more successful kicks being declared the winner of the match.  If after 5 shots the score is still tied, the game enters _sudden death_ and the teams continue to take 1 shot each until one team scores and the other does not. \n",
    "\n",
    "Suppose that two teams ( Team $A$ and Team $B~$) are still tied at the end of the first round of 5 penalty shots and are entering sudden death.  Each team will now take one shot each in an attempt to win.  Suppose that the result of one shot is independent of the other shots, Team $A$ makes their shot with probability $p$, and Team $B$ makes their shot with probability $q$.  Let $W$ be the event that \"Team $A$ wins the game\", $E$ be the event that \"the game ends after the first round of sudden death penalty shots\", and $T$ be the event that \"the game is still tied after the first round of sudden death penalty shots\". \n",
    "\n",
    "**Part A**: The shootout continues until Team $A$ or Team $B$ wins.  What is the sample space $\\Omega$ for this experiment?  Represent the outcomes of individual shots by $G$ for a goal and $M$ for a miss and assume that Team $A$ shoots before Team $B$."
   ]
  },
  {
   "cell_type": "markdown",
   "metadata": {},
   "source": [
    "$ \\Omega$ = {(G,G),(M,M),(G,M),(M,G)} \n",
    "\n",
    "where (x,y) = (Team A's Shot, Team B's Shot) \n"
   ]
  },
  {
   "cell_type": "markdown",
   "metadata": {},
   "source": [
    "**Part B**: Determine $P(W \\mid E)$ in terms of $p$ and $q$."
   ]
  },
  {
   "cell_type": "markdown",
   "metadata": {},
   "source": [
    "$P(W \\mid E) = \\frac{P(E \\mid W)}{P(E)} $\n",
    "\n",
    "$P(W \\mid E) = \\frac{p~(1-q)}{P~(E)} $\n",
    "\n",
    "$P(W \\mid E) = \\frac{p~(1-q)}{p~(1-q)~ +~ q~(1-p)} $"
   ]
  },
  {
   "cell_type": "markdown",
   "metadata": {},
   "source": [
    "**Part C**: Explain why events $W$ and $T$ are independent. "
   ]
  },
  {
   "cell_type": "markdown",
   "metadata": {},
   "source": [
    "Independent means, one event does not alter the out come of another\n",
    "\n",
    "If it is a tie after the first round (**T**) then the event **W** \"Team A wins\" is not changed at all beacuse there will  be another round and all the goals in the previous rounds will not effect the outcomes of the next round, so it will not effect the event **W** and on whether **Team A** wins or not."
   ]
  },
  {
   "cell_type": "markdown",
   "metadata": {},
   "source": [
    "**Part D**: Use the Law of Total Probability to show that $P(W) = p(1-q) + (2pq - p - q +1) ~P(W \\mid T)$. "
   ]
  },
  {
   "cell_type": "markdown",
   "metadata": {},
   "source": [
    "\n",
    "law of total probility: $P(W) = \\sum P(W \\mid Event_{i})~P(Event_{i}) $\n",
    "\n",
    "Theres two ways that Team $A$ can win:\n",
    "\n",
    "one where event **E**  occur and team $A$ wins in first round (Part A), and the other event is where team A wins after Event **T** occurs \n",
    "\n",
    "$T^c$ is the same as event E \n",
    "\n",
    "$P(W) = P(W \\mid E)~P(E) + P(W \\mid T)~P(T)$\n",
    "\n",
    "$P(W) = 1~p(1-q) + P(W \\mid T)~($Two ways T can occur$)$\n",
    "\n",
    "$P(W) = p(1-q) + P(W \\mid T)~(pq + (1-p)(1-q))$\n",
    "\n",
    "$P(W) = p(1-q) + P(W \\mid T)~(pq + 1-p-q+ pq)$\n",
    "\n",
    "$P(W) = p(1-q) + (2pq-p-q + 1)P(W \\mid T)$"
   ]
  },
  {
   "cell_type": "markdown",
   "metadata": {},
   "source": [
    "**Part E**: Use the fact from **Part C** that $P(W \\mid T) = P(W)$ to determine $P(W)$ in terms of $p$ and $q$. "
   ]
  },
  {
   "cell_type": "markdown",
   "metadata": {},
   "source": [
    "$P(W) = p(1-q) + (2pq-p-q + 1)~P(W \\mid T)$\n",
    "\n",
    "$P(W) = p(1-q) + (2pq-p-q + 1)~P(W)$\n",
    "\n",
    "$P(W) - (2pq-p-q + 1)~P(W) = p~(1-q)  $\n",
    "\n",
    "$P(W)~(1 - (2pq-p-q + 1)) = p~(1-q)  $\n",
    "\n",
    "$P(W)~(1 - 2pq +p+q - 1)) = p~(1-q)  $\n",
    "\n",
    "$P(W) = \\frac{p~(1-q)}{1 - 2pq +p+q - 1}  $\n",
    "\n",
    "$P(W) = \\frac{p~(1-q)}{p+q - 2pq  }  $"
   ]
  },
  {
   "cell_type": "markdown",
   "metadata": {},
   "source": [
    "**Part F**: Explain why the answers to **Part B** and **Part E** are the same. "
   ]
  },
  {
   "cell_type": "markdown",
   "metadata": {
    "collapsed": true
   },
   "source": [
    "Beacuse event W and event E are also independent of eachother, since event E is the complement of event T, so the probality of $P(W \\mid E)$ = P(W) since these events are independent of one another"
   ]
  },
  {
   "cell_type": "markdown",
   "metadata": {},
   "source": [
    "**Part G**: Explain the significance of the solution technique for $P(W)$ outlined in **Part D** and **Part E**.  Why did we go this route instead of computing $P(W)$ directly?  Can we always use such techniques?  "
   ]
  },
  {
   "cell_type": "markdown",
   "metadata": {},
   "source": [
    "It is beacuse we cannot compute the P(W) directly beacuse we dont have enough information on W alone, but its easy once we know that event E or T has occerred (IE its conditinon probality), then we can compute P(W) using law of total probality"
   ]
  },
  {
   "cell_type": "markdown",
   "metadata": {},
   "source": [
    "### [25 points] Problem 3 \n",
    "***\n",
    "\n",
    "After Intro. Data Science lets out for the day, there are a bunch of different locations that Dan and Chris individually end up at.  Sometimes they go get dinner at the UMC ($~U~$) or coffee at Starbucks ($~S~$). Sometimes they go straight to their vehicles in the parking lot ($~P~$) and head home.  And sometimes they go back to their respective offices in the Engineering Center ($~E~$) or Fleming ($~F~$) to work. You can see the locations and paths that they take from Muenzinger ($~M~$) and between other locations on the linked [map](https://www.cs.colorado.edu/~ketelsen/files/courses/csci3022/hmwk/hmwk02/campus_map.pdf).\n",
    "\n",
    "Now, on a Wednesday after a particularly grueling start to the week, Dan and Chris leave class at Muenzinger in a bit of a daze and just sorta wander randomly between their usual haunts.  Their movement is governed by the following rule: when leaving a particular location, they randomly select one of the available paths to travel along (again, see the [map](https://www.cs.colorado.edu/~ketelsen/files/courses/csci3022/hmwk/hmwk02/campus_map.pdf)) with equal probability. "
   ]
  },
  {
   "cell_type": "markdown",
   "metadata": {},
   "source": [
    "**Part A**: Compute (by hand) the probability that Chris ends up at the Engineering Center after first visiting one other location after leaving Muenzinger. "
   ]
  },
  {
   "cell_type": "markdown",
   "metadata": {
    "collapsed": true
   },
   "source": [
    "Probality of going to EC via UMC is $\\frac{1}{16}$\n",
    "\n",
    "Probality of going to EC via Parking lot is $\\frac{1}{8}$\n",
    "\n",
    "Total probality is $\\frac{1}{16} + \\frac{1}{8} = \\frac{3}{16}$"
   ]
  },
  {
   "cell_type": "markdown",
   "metadata": {},
   "source": [
    "**Part B**: Compute (by hand) the probability that Dan ends up at the UMC _either_ as his first _or_ second location visited after leaving Muenzinger. "
   ]
  },
  {
   "cell_type": "markdown",
   "metadata": {
    "collapsed": true
   },
   "source": [
    "Probality of going to UMC via Starbucks is $\\frac{1}{8}$\n",
    "\n",
    "Probality of going to UMC via EC is $\\frac{1}{16}$\n",
    "\n",
    "Probality of going to UMC is $\\frac{1}{4}$\n",
    "\n",
    "Total probality is $\\frac{1}{8} + \\frac{1}{16} + \\frac{1}{4} = \\frac{7}{16}$"
   ]
  },
  {
   "cell_type": "markdown",
   "metadata": {},
   "source": [
    "**Part C**: Suppose that Chris goes back to his office in the Engineering Center and Dan goes back to his office in Fleming.  Later that night they both leave their offices and wander around. You should assume that they take the same amount of time to go from location to location.  What is the probability that they run into each other in the same location on their second location visited? "
   ]
  },
  {
   "cell_type": "markdown",
   "metadata": {},
   "source": [
    "the probablity of them meeting eachother on their second visited location is the sum of the products of the probality of dan and crish at each location. \n",
    "\n",
    "i found the probality of dan and chris at each location and was able to multipy with one another to get the probality of them each being there, summing them up gave me the total probablity of them meeting \n",
    "\n",
    "below is the dataframe of the values"
   ]
  },
  {
   "cell_type": "code",
   "execution_count": 3,
   "metadata": {},
   "outputs": [],
   "source": [
    "\n",
    "   \n",
    "df = pd.DataFrame(columns=[\"location\",\"Dan\", \"Chris\", \"Both\"])\n",
    "df.loc[0] = [\"Starbucks\",1/8,2/16,2/128] \n",
    "df.loc[1] = [\"Muenzinger\",2/8,3/16,6/128] \n",
    "df.loc[2] = [\"Parking Lot\",1/8,1/16,1/128] \n",
    "df.loc[3] = [\"UMC\",1/8,3/16,3/128] \n",
    "df.loc[4] = [\"Engineering Center\",1/8,6/16,6/128] \n",
    "df.loc[5] = [\"Felming\",2/8,1/16,2/128] \n",
    "df.loc[6] = [\"TOTAL\",df.Dan.sum(),df.Chris.sum(),df.Both.sum()] \n",
    "\n",
    "\n"
   ]
  },
  {
   "cell_type": "markdown",
   "metadata": {},
   "source": [
    "so the probality for them to meet at a certian location is **0.156250**  or **5/32**"
   ]
  },
  {
   "cell_type": "markdown",
   "metadata": {},
   "source": [
    "**Part D**: Write a simulation to confirm that your by-hand calculations in **Part A**, **Part B**, and **Part C** are correct. Make sure you run your simulations for enough trials that your estimates are reasonably close to your analytic results. In addition to showing your code, you should thoroughly explain in Markdown (not just in code comments) what your code is doing and why it is a reasonable approximation of the probabilities in **Part A**, **Part B**, and **Part C**.  "
   ]
  },
  {
   "cell_type": "markdown",
   "metadata": {},
   "source": [
    "i made the graph using a nested dictornary, with the first layar being the graph itself, and the second layer being the probality values\n",
    "\n",
    "then i initialized the starting locations for dan and chris based on each problem\n",
    "\n",
    "i made a counter variable that uses an if statement( ie if location == UMC) to increment the counter every time a certian location is met in the trial\n",
    "\n",
    "the forloop, uses random.choice for geting a random location from the list of the dictornary values\n",
    "\n",
    "to calcuate the probality i used, the counter variable divided by the number of trials variabe.\n",
    "\n",
    "this simulation confrims my handwriten calcuations beacuse the values every close to one another, and the accarcy will increase as we increase the number of trials"
   ]
  },
  {
   "cell_type": "code",
   "execution_count": 4,
   "metadata": {},
   "outputs": [
    {
     "name": "stdout",
     "output_type": "stream",
     "text": [
      "With 100000 trials the probality of Chris ending up at the Engineering Center for second location is 0.18852\n",
      "With 100000 trials the probality of Dan ending up at the UMC for first and second location is 0.43735\n",
      "With 100000 trials the probality of them runing into each other, starting from fleming and engineering center is 0.15703\n"
     ]
    }
   ],
   "source": [
    "def Probalitytest(trials):\n",
    "    #Nested dict for the map, first dict has locations of each node, the nested dict, has the probality values\n",
    "    graph = {'S':{'M':.5,'U':.5},\n",
    "             'M':{'S':.25,'U':.25,'P':.25,'E':.25},\n",
    "             'P':{'M':.5,'E':.5},\n",
    "             'U':{'M':.25,'S':.25,'E':.25,'F':.25},\n",
    "             'E':{'U':.25,'F':.25,'M':.25,'P':.25},\n",
    "             'F':{'U':.5,'E':.5}\n",
    "            }\n",
    "    \n",
    "    #initlized the starting location values for each problem\n",
    "    partA = graph.get('M',{})\n",
    "    partB = graph.get('M',{})\n",
    "    startdan = graph.get('F',{})\n",
    "    startchris = graph.get('E',{})\n",
    "    \n",
    "    \n",
    "    count = 0\n",
    "    countA = 0\n",
    "    countB = 0\n",
    "    nn = 0 \n",
    "    #forloop for part A\n",
    "    for i in range(trials):\n",
    "       \n",
    "        firstL_C = random.choice(list(partA.keys()))\n",
    "        secondL_C = random.choice(list(graph[firstL_C].keys()))\n",
    "    \n",
    "        if secondL_C == 'E':\n",
    "            countA = countA + 1 \n",
    "\n",
    "    probalityA = countA /trials\n",
    "    print(\"With\",trials,\"trials the probality of Chris ending up at the Engineering Center for second location is\",probalityA)\n",
    "    \n",
    "    #forloop for part B\n",
    "    for i in range(trials):\n",
    "       \n",
    "        firstL_D = random.choice(list(partB.keys()))\n",
    "        secondL_D = random.choice(list(graph[firstL_D].keys()))\n",
    "    \n",
    "        if (secondL_D == 'U' or firstL_D == 'U'):\n",
    "            countB = countB + 1 \n",
    "\n",
    "    probalityB = countB /trials\n",
    "    print(\"With\",trials,\"trials the probality of Dan ending up at the UMC for first and second location is\",probalityB)\n",
    "\n",
    "    #forloop for part C\n",
    "    for i in range(trials):\n",
    "           \n",
    "        firstL_C = random.choice(list(startchris.keys()))\n",
    "        secondL_C = random.choice(list(graph[firstL_C].keys()))\n",
    "\n",
    "   \n",
    "        firstL_D = random.choice(list(startdan.keys()))\n",
    "        secondL_D = random.choice(list(graph[firstL_D].keys()))\n",
    "      \n",
    "     \n",
    "        if secondL_C == secondL_D:\n",
    "            count = count + 1\n",
    "        \n",
    "\n",
    "    probalityBoth = count /trials\n",
    "    print(\"With\",trials,\"trials the probality of them runing into each other, starting from fleming and engineering center is\",probalityBoth)    \n",
    "    \n",
    "        \n",
    "\n",
    "\n",
    "\n",
    "Probalitytest(100000)"
   ]
  },
  {
   "cell_type": "markdown",
   "metadata": {},
   "source": [
    "### [20 points] Problem 4 \n",
    "***\n",
    "\n",
    "In this problem you will write some code to simulate the game of **Miniopoly** (a very rough approximation of [Monopoly](https://en.wikipedia.org/wiki/Monopoly_(game)).  The game consists of a round board with 40 \"squares\" numbered from $0$ to $40$, where squares $0$ and $40$ are [coincident](https://en.wikipedia.org/wiki/Coincident) and called **GO**.  A player starts on **GO** with \\$200 in their pocket.  On each turn the player rolls a pair of dice and then moves a number of spaces equal to the sum of the dice.  Landing on different squares have different results: \n",
    "\n",
    "- Squares 2, 7, 17, 22, 33, and 36 cause you to draw a card.  The cards tell you to collect \\$50, \\$100, or \\$200, or pay the bank \\$100 or \\$150.  \n",
    "\n",
    "<p> </p>\n",
    "\n",
    "- Squares 0, 10, and 20 do not trigger any action \n",
    "\n",
    "<p> </p>\n",
    "\n",
    "- Square 30 is **Go To Jail**, which sends the player directly to **Jail** and ends the turn \n",
    "\n",
    "<p> </p>\n",
    "\n",
    "- If a player starts a turn from **Jail** she rolls two dice: \n",
    "\n",
    "    - If the player rolls doubles (i.e. the dice have equal values) the player moves from Square 10 a number of squares equal to the sum of the dice\n",
    "    \n",
    "    - If the player rolls anything other than doubles she pays the bank \\$10 and remains in **Jail** \n",
    "    \n",
    "<p> </p>\n",
    "\n",
    "- If the player passes or lands on **GO** she collects \\$200. \n",
    "\n",
    "<p> </p>\n",
    "\n",
    "- If the player lands on any other square not mentioned above, she pays the bank an amount equal to the square's number (e.g. if she lands on Square 29 she pays the bank \\$29). \n",
    "\n",
    "<p> </p>\n",
    "\n",
    "If at any point the player has \\$0 or less they go bankrupt and the game ends. \n",
    "\n",
    "<br>\n",
    "\n",
    "**Part A**: Complete the function miniopoly_turn below. The function should simulate one turn of Miniopoly.  It should take as arguments the player's current location on the board as well as the player's current cash reserves, and return the player's new location and cash reserves after the turn has completed. Note that if a player goes bankrupt during the game you should return their cash as 0 instead of a negative value.  "
   ]
  },
  {
   "cell_type": "code",
   "execution_count": 5,
   "metadata": {
    "collapsed": true,
    "scrolled": true
   },
   "outputs": [],
   "source": [
    "move = 0 \n",
    "def miniopoly_turn(state, cash):\n",
    "    d1 = random.randint(1,6)\n",
    "    d2 = random.randint(1,6)\n",
    "    miniopoly_turn.moves = d1 + d2\n",
    "    move = miniopoly_turn.moves\n",
    "    #Bankrupt case\n",
    "    if cash <= 0: \n",
    "        cash = 0\n",
    "        return state,cash\n",
    "   \n",
    "    #Jail case: Free\n",
    "    if state == 30 and (d1 - d2) == 0:\n",
    "        state = 10\n",
    "        state = state + move\n",
    "        if state in (17, 22):\n",
    "            #Card Draw\n",
    "            card = (50,100,200,-100,-150)\n",
    "            cardDraw = random.choice(card)\n",
    "        \n",
    "            cash = cash + cardDraw\n",
    "            #If card drawn makes them bankrupt \n",
    "            if cash <= 0: \n",
    "                cash = 0\n",
    "                return state,cash\n",
    "            return state,cash\n",
    "        \n",
    "        #Paying the Bank    \n",
    "        if state not in (17,22):\n",
    "            cash = cash - state\n",
    "            return state, cash  \n",
    "    \n",
    "    #jail case: No luck\n",
    "    if state == 30 and (d1 - d2) != 0:\n",
    "        cash = cash - 10 \n",
    "        #Bankrupt case\n",
    "        if cash <= 0: \n",
    "            cash = 0\n",
    "            return state,cash\n",
    "        \n",
    "        return state, cash \n",
    "        \n",
    "    \n",
    "    #Moving according to dice role\n",
    "    state = state + move\n",
    "    \n",
    "    #looping and awarding after passing 40\n",
    "    if state >= 40 :\n",
    "        state = state - 40\n",
    "        cash = cash + 200\n",
    "    \n",
    "    #drawing a card \n",
    "    if state in (2, 7, 17, 22, 33, 36):\n",
    "        \n",
    "        #Card Draw\n",
    "        card = (50,100,200,-100,-150)\n",
    "        cardDraw = random.choice(card)\n",
    "        \n",
    "        cash = cash + cardDraw\n",
    "        \n",
    "        #If card drawn makes them bankrupt \n",
    "        if cash <= 0: \n",
    "            cash = 0\n",
    "            return state,cash\n",
    "        \n",
    "    #Paying the Bank    \n",
    "    if state not in (2,7,17,22,33,30,36,0,10,20):\n",
    "        cash = cash - state\n",
    "        \n",
    "        #If paying bank makes them bankrupt \n",
    "        if cash <= 0: \n",
    "            cash = 0\n",
    "            return state,cash\n",
    "    \n",
    "    return state, cash \n",
    "\n",
    "\n",
    "\n"
   ]
  },
  {
   "cell_type": "markdown",
   "metadata": {},
   "source": [
    "**Part B**: Use your function from **Part A** to Simulate at least 5000 30-turn games of Miniopoly and make a frequency histogram of the player's cash at the end of the game. "
   ]
  },
  {
   "cell_type": "code",
   "execution_count": 6,
   "metadata": {},
   "outputs": [
    {
     "data": {
      "image/png": "[encoded data removed]",
      "text/plain": [
       "<matplotlib.figure.Figure at 0x26d5f4803c8>"
      ]
     },
     "metadata": {},
     "output_type": "display_data"
    }
   ],
   "source": [
    "#returns the remaining cash after 30 turns\n",
    "def start(x,y):\n",
    "    i =0\n",
    "    while(i<30):\n",
    "        a,b = miniopoly_turn(x,y)\n",
    "        x,y = a,b\n",
    "        i = i + 1\n",
    "        #print (a,b)\n",
    "    \n",
    "        if i == 30:\n",
    "            return b\n",
    "    \n",
    "        \n",
    "#making a dataframe and storing trials insided the column\n",
    "df = pd.DataFrame(index=range(0,5000),columns=['EndCash'])\n",
    "\n",
    "i = 0\n",
    "while (i < 5000):\n",
    "    x = (start(0,200))\n",
    "    df.iloc[[i]] = x\n",
    "    i = i + 1\n",
    "\n",
    "    \n",
    "#graphing the columns\n",
    "fig, ax = plt.subplots(figsize=(15,6))\n",
    "df.EndCash.hist(ax=ax, bins=20)\n",
    "ax.set_xlable = \"CASH at the end of the Game\"\n",
    "ax.set_ylable = \"Frequency\"\n",
    "ax.set_xticks = 100\n",
    "\n"
   ]
  },
  {
   "cell_type": "markdown",
   "metadata": {},
   "source": [
    "**Part C**: Use your code from **Part A** to estimate the probability that a player goes bankrupt in the first 30 turns of the game. "
   ]
  },
  {
   "cell_type": "code",
   "execution_count": 7,
   "metadata": {
    "scrolled": true
   },
   "outputs": [
    {
     "name": "stdout",
     "output_type": "stream",
     "text": [
      "Using 100 thirty turn trials, the probality of going bankrupt was  0.24\n",
      "Using 500 thirty turn trials, the probality of going bankrupt was  0.224\n",
      "Using 10000 thirty turn trials, the probality of going bankrupt was  0.223\n"
     ]
    }
   ],
   "source": [
    "#Runs 30 turns and returns 0 if player is bankrupt \n",
    "def start_bankrupt(x,y):\n",
    "    i =0\n",
    "    while(i<30):\n",
    "        a,b = miniopoly_turn(x,y)\n",
    "        x,y = a,b\n",
    "        i = i + 1   \n",
    "        if b == 0:\n",
    "            return b\n",
    "\n",
    "#calcuates the probablity, # of bankrupt players / # of trials\n",
    "def probablity_bankrupt(trials):\n",
    "    i = 0 \n",
    "    Sum = 0\n",
    "    while(i<trials):\n",
    "        Sum = Sum + np.sum(start_bankrupt(0,200)== 0)\n",
    "        i = i + 1\n",
    "    probality = Sum/trials \n",
    "    return probality\n",
    "\n",
    "print(\"Using 100 thirty turn trials, the probality of going bankrupt was \",probablity_bankrupt(100))\n",
    "print(\"Using 500 thirty turn trials, the probality of going bankrupt was \",probablity_bankrupt(500))\n",
    "print(\"Using 10000 thirty turn trials, the probality of going bankrupt was \",probablity_bankrupt(10000))"
   ]
  },
  {
   "cell_type": "markdown",
   "metadata": {},
   "source": [
    "i used if b == 0 to count each time the event occured ( going bankrupt)"
   ]
  },
  {
   "cell_type": "markdown",
   "metadata": {},
   "source": [
    "**Part D**: Use your code from **Part A** to estimate the probability that a player goes bankrupt in the first 30 turns _given_ that they went to **Jail** at least once.  Is a player more or less likely to go bankrupt if they've been to **Jail**?  "
   ]
  },
  {
   "cell_type": "code",
   "execution_count": 8,
   "metadata": {},
   "outputs": [
    {
     "name": "stdout",
     "output_type": "stream",
     "text": [
      "Using 100 thirty turn trials given Jail happend, the probality of going bankrupt was 0.08\n",
      "Using 500 thirty turn trials given Jail happend, the probality of going bankrupt was 0.078\n",
      "Using 10000 thirty turn trials given Jail happend, the probality of going bankrupt was 0.0812\n"
     ]
    }
   ],
   "source": [
    "def start_bankrupt_GivenJailed(x,y):\n",
    "    i =0\n",
    "    z=0\n",
    "    while(i<30):  \n",
    "        a,b = miniopoly_turn(x,y)\n",
    "        if a == 30: z = 1 \n",
    "        x,y = a,b\n",
    "        #print (a,b)\n",
    "        i = i + 1\n",
    "        if (z==1 and b == 0):\n",
    "            return z\n",
    "        \n",
    "\n",
    "def probablity_bankrupt_GivenJailed(trials):\n",
    "    i = 0 \n",
    "    Sum = 0\n",
    "    while(i<trials):\n",
    "        Sum = Sum + np.sum(start_bankrupt_GivenJailed(0,200)== 1)\n",
    "        i = i + 1\n",
    "    probality = Sum/trials \n",
    "    return probality\n",
    "\n",
    "#b = probablity_bankrupt_GivenJailed(500)\n",
    "#start_bankrupt_GivenJailed(0,100)\n",
    "print(\"Using 100 thirty turn trials given Jail happend, the probality of going bankrupt was\",probablity_bankrupt_GivenJailed(100))\n",
    "print(\"Using 500 thirty turn trials given Jail happend, the probality of going bankrupt was\",probablity_bankrupt_GivenJailed(500))\n",
    "print(\"Using 10000 thirty turn trials given Jail happend, the probality of going bankrupt was\",probablity_bankrupt_GivenJailed(10000))"
   ]
  },
  {
   "cell_type": "markdown",
   "metadata": {},
   "source": [
    "i created a counter z, witch checks if the state ever equaled 30 in order to check if the player had gone to jail\n",
    "then i summed up all the times this event occured "
   ]
  },
  {
   "cell_type": "markdown",
   "metadata": {},
   "source": [
    "**Part E**: Use your code from **Part A** to estimate the probability that a player goes bankrupt in the first 30 turns _given_ that they passed **Go** two or more times.  Is a player more or less likely to go bankrupt if they've managed to pass **Go** at least twice?"
   ]
  },
  {
   "cell_type": "code",
   "execution_count": 9,
   "metadata": {},
   "outputs": [
    {
     "name": "stdout",
     "output_type": "stream",
     "text": [
      "Using 100 thirty turn trials given GO was passed twice, the probality of going bankrupt was 0.1\n",
      "Using 500 thirty turn trials given GO was passed twice, the probality of going bankrupt was 0.046\n",
      "Using 10000 thirty turn trials given GO was passed twice, the probality of going bankrupt was 0.0659\n"
     ]
    }
   ],
   "source": [
    "#30 turn trial once\n",
    "def start_bankrupt_GivenPass80(x,y):\n",
    "    i =0\n",
    "    z=0\n",
    "    while(i<30):  \n",
    "        a,b = miniopoly_turn(x,y)\n",
    "        z =z + miniopoly_turn.moves\n",
    "        x,y = a,b\n",
    "        i = i + 1\n",
    "        #if the move is less then 80 (hasnt gone passed go twice) and cash = 0 then return. else if cash = 0 then return b\n",
    "        #i chose z is larger then 80 beacuse z is the total movement the player moved, and passing 80 means they went around twice\n",
    "        if z <80 and b == 0 :\n",
    "            return\n",
    "        elif(b==0):\n",
    "            return b\n",
    "            \n",
    "    \n",
    "#running the 30 trurn trials, multiple times            \n",
    "def probablity_bankrupt_GivenPass80(trials):\n",
    "    i = 0 \n",
    "    Sum = 0\n",
    "    #trial loop, increases sum by one every time start_bankrupt_givenPass80 == 0\n",
    "    while(i<trials):\n",
    "        Sum = Sum + np.sum(start_bankrupt_GivenPass80(0,200)== 0)\n",
    "        i = i + 1\n",
    "        \n",
    "    probality = Sum/trials\n",
    "    #print(Sum)\n",
    "    return probality\n",
    "\n",
    "\n",
    "\n",
    "print(\"Using 100 thirty turn trials given GO was passed twice, the probality of going bankrupt was\",probablity_bankrupt_GivenPass80(100))\n",
    "print(\"Using 500 thirty turn trials given GO was passed twice, the probality of going bankrupt was\",probablity_bankrupt_GivenPass80(500))\n",
    "print(\"Using 10000 thirty turn trials given GO was passed twice, the probality of going bankrupt was\",probablity_bankrupt_GivenPass80(10000))"
   ]
  },
  {
   "cell_type": "markdown",
   "metadata": {},
   "source": [
    "a player is less likey to go bankrupt if the player passes go twice. they are only 6% likely to go bankrupt after they pass it twice"
   ]
  },
  {
   "cell_type": "markdown",
   "metadata": {},
   "source": [
    "\n",
    "### [15 points] Problem 5 \n",
    "***\n",
    "\n",
    "### Board Game Calamity! \n",
    "\n",
    "Dan and Chris have been playing board games for ages. Among the games they play a lot are Miniopoly and a similar game with slightly tweaked rules called **Fakeiopoly!**  Being Data-Nerds, they like to record the details of each game they play for future analysis.  Since the games are similar, they store the results for Miniopoly and Fakeiopoly in the same database.  Unfortunately, their data has been corrupted!  The only data that survived are the states (i.e. square numbers) they were on after each of the first 20 turns as well a the amount of cash they had on hand after each of the first 20 turns. This information is stored in the columns **S1**-**S20** and **C1**-**C20** in the following DataFrame. "
   ]
  },
  {
   "cell_type": "code",
   "execution_count": 10,
   "metadata": {},
   "outputs": [
    {
     "data": {
      "text/plain": [
       "7991.346303501946"
      ]
     },
     "execution_count": 10,
     "metadata": {},
     "output_type": "execute_result"
    }
   ],
   "source": [
    "dfLog = pd.read_csv(\"https://raw.githubusercontent.com/chrisketelsen/csci3022/master/hmwk/hmwk02/game_log.csv\")\n",
    "dfLog1 = dfLog\n",
    "pd.set_option('display.max_columns', None)\n",
    "dfLog1 = dfLog1.dropna()\n",
    "state = pd.concat([dfLog1.loc[:,'S1':'S20'],dfLog1.loc[:,\"Game\"]],axis=1)\n",
    "cash = pd.concat([dfLog1.loc[:,'C1':'C20'],dfLog1.loc[:,\"Game\"]],axis=1)\n",
    "\n",
    "fakeC = cash.loc[cash[\"Game\"]==\"fake\"]\n",
    "fakeS = state.loc[cash[\"Game\"]==\"fake\"]\n",
    "\n",
    "realC = cash.loc[cash[\"Game\"]==\"real\"]\n",
    "realS = state.loc[cash[\"Game\"]==\"real\"]\n",
    "\n",
    "\n",
    "#realC.sum(axis=1).mean()\n",
    "fakeC.sum(axis = 1).mean()"
   ]
  },
  {
   "cell_type": "code",
   "execution_count": 14,
   "metadata": {},
   "outputs": [
    {
     "data": {
      "text/html": [
       "<div>\n",
       "<style>\n",
       "    .dataframe thead tr:only-child th {\n",
       "        text-align: right;\n",
       "    }\n",
       "\n",
       "    .dataframe thead th {\n",
       "        text-align: left;\n",
       "    }\n",
       "\n",
       "    .dataframe tbody tr th {\n",
       "        vertical-align: top;\n",
       "    }\n",
       "</style>\n",
       "<table border=\"1\" class=\"dataframe\">\n",
       "  <thead>\n",
       "    <tr style=\"text-align: right;\">\n",
       "      <th></th>\n",
       "      <th>C1</th>\n",
       "      <th>C2</th>\n",
       "      <th>C3</th>\n",
       "      <th>C4</th>\n",
       "      <th>C5</th>\n",
       "      <th>C6</th>\n",
       "      <th>C7</th>\n",
       "      <th>C8</th>\n",
       "      <th>C9</th>\n",
       "      <th>C10</th>\n",
       "      <th>C11</th>\n",
       "      <th>C12</th>\n",
       "      <th>C13</th>\n",
       "      <th>C14</th>\n",
       "      <th>C15</th>\n",
       "      <th>C16</th>\n",
       "      <th>C17</th>\n",
       "      <th>C18</th>\n",
       "      <th>C19</th>\n",
       "      <th>C20</th>\n",
       "    </tr>\n",
       "  </thead>\n",
       "  <tbody>\n",
       "    <tr>\n",
       "      <th>count</th>\n",
       "      <td>257.000000</td>\n",
       "      <td>257.000000</td>\n",
       "      <td>257.000000</td>\n",
       "      <td>257.000000</td>\n",
       "      <td>257.000000</td>\n",
       "      <td>257.000000</td>\n",
       "      <td>257.000000</td>\n",
       "      <td>257.000000</td>\n",
       "      <td>257.000000</td>\n",
       "      <td>257.000000</td>\n",
       "      <td>257.000000</td>\n",
       "      <td>257.000000</td>\n",
       "      <td>257.000000</td>\n",
       "      <td>257.000000</td>\n",
       "      <td>257.000000</td>\n",
       "      <td>257.000000</td>\n",
       "      <td>257.000000</td>\n",
       "      <td>257.000000</td>\n",
       "      <td>257.000000</td>\n",
       "      <td>257.000000</td>\n",
       "    </tr>\n",
       "    <tr>\n",
       "      <th>mean</th>\n",
       "      <td>202.797665</td>\n",
       "      <td>193.871595</td>\n",
       "      <td>177.420233</td>\n",
       "      <td>193.206226</td>\n",
       "      <td>277.315175</td>\n",
       "      <td>314.101167</td>\n",
       "      <td>312.217899</td>\n",
       "      <td>311.673152</td>\n",
       "      <td>342.564202</td>\n",
       "      <td>398.042802</td>\n",
       "      <td>422.591440</td>\n",
       "      <td>440.719844</td>\n",
       "      <td>448.766537</td>\n",
       "      <td>491.000000</td>\n",
       "      <td>526.159533</td>\n",
       "      <td>547.634241</td>\n",
       "      <td>563.739300</td>\n",
       "      <td>582.482490</td>\n",
       "      <td>607.929961</td>\n",
       "      <td>637.112840</td>\n",
       "    </tr>\n",
       "    <tr>\n",
       "      <th>std</th>\n",
       "      <td>56.934566</td>\n",
       "      <td>73.182637</td>\n",
       "      <td>87.224580</td>\n",
       "      <td>118.479759</td>\n",
       "      <td>163.456075</td>\n",
       "      <td>157.660649</td>\n",
       "      <td>161.979428</td>\n",
       "      <td>171.133863</td>\n",
       "      <td>203.129531</td>\n",
       "      <td>219.571640</td>\n",
       "      <td>238.729336</td>\n",
       "      <td>238.432264</td>\n",
       "      <td>256.045284</td>\n",
       "      <td>280.471241</td>\n",
       "      <td>290.158257</td>\n",
       "      <td>300.561802</td>\n",
       "      <td>302.144662</td>\n",
       "      <td>314.208046</td>\n",
       "      <td>322.950005</td>\n",
       "      <td>340.379945</td>\n",
       "    </tr>\n",
       "    <tr>\n",
       "      <th>min</th>\n",
       "      <td>50.000000</td>\n",
       "      <td>34.000000</td>\n",
       "      <td>0.000000</td>\n",
       "      <td>0.000000</td>\n",
       "      <td>0.000000</td>\n",
       "      <td>0.000000</td>\n",
       "      <td>0.000000</td>\n",
       "      <td>0.000000</td>\n",
       "      <td>0.000000</td>\n",
       "      <td>0.000000</td>\n",
       "      <td>0.000000</td>\n",
       "      <td>0.000000</td>\n",
       "      <td>0.000000</td>\n",
       "      <td>0.000000</td>\n",
       "      <td>0.000000</td>\n",
       "      <td>0.000000</td>\n",
       "      <td>0.000000</td>\n",
       "      <td>0.000000</td>\n",
       "      <td>0.000000</td>\n",
       "      <td>0.000000</td>\n",
       "    </tr>\n",
       "    <tr>\n",
       "      <th>25%</th>\n",
       "      <td>189.000000</td>\n",
       "      <td>173.000000</td>\n",
       "      <td>145.000000</td>\n",
       "      <td>116.000000</td>\n",
       "      <td>146.000000</td>\n",
       "      <td>238.000000</td>\n",
       "      <td>233.000000</td>\n",
       "      <td>226.000000</td>\n",
       "      <td>211.000000</td>\n",
       "      <td>251.000000</td>\n",
       "      <td>259.000000</td>\n",
       "      <td>311.000000</td>\n",
       "      <td>313.000000</td>\n",
       "      <td>304.000000</td>\n",
       "      <td>323.000000</td>\n",
       "      <td>352.000000</td>\n",
       "      <td>420.000000</td>\n",
       "      <td>407.000000</td>\n",
       "      <td>438.000000</td>\n",
       "      <td>439.000000</td>\n",
       "    </tr>\n",
       "    <tr>\n",
       "      <th>50%</th>\n",
       "      <td>192.000000</td>\n",
       "      <td>179.000000</td>\n",
       "      <td>158.000000</td>\n",
       "      <td>156.000000</td>\n",
       "      <td>301.000000</td>\n",
       "      <td>305.000000</td>\n",
       "      <td>295.000000</td>\n",
       "      <td>285.000000</td>\n",
       "      <td>328.000000</td>\n",
       "      <td>414.000000</td>\n",
       "      <td>429.000000</td>\n",
       "      <td>437.000000</td>\n",
       "      <td>444.000000</td>\n",
       "      <td>506.000000</td>\n",
       "      <td>546.000000</td>\n",
       "      <td>567.000000</td>\n",
       "      <td>585.000000</td>\n",
       "      <td>589.000000</td>\n",
       "      <td>639.000000</td>\n",
       "      <td>650.000000</td>\n",
       "    </tr>\n",
       "    <tr>\n",
       "      <th>75%</th>\n",
       "      <td>200.000000</td>\n",
       "      <td>191.000000</td>\n",
       "      <td>191.000000</td>\n",
       "      <td>259.000000</td>\n",
       "      <td>357.000000</td>\n",
       "      <td>412.000000</td>\n",
       "      <td>398.000000</td>\n",
       "      <td>407.000000</td>\n",
       "      <td>465.000000</td>\n",
       "      <td>530.000000</td>\n",
       "      <td>562.000000</td>\n",
       "      <td>574.000000</td>\n",
       "      <td>603.000000</td>\n",
       "      <td>642.000000</td>\n",
       "      <td>720.000000</td>\n",
       "      <td>744.000000</td>\n",
       "      <td>769.000000</td>\n",
       "      <td>792.000000</td>\n",
       "      <td>806.000000</td>\n",
       "      <td>868.000000</td>\n",
       "    </tr>\n",
       "    <tr>\n",
       "      <th>max</th>\n",
       "      <td>400.000000</td>\n",
       "      <td>500.000000</td>\n",
       "      <td>491.000000</td>\n",
       "      <td>585.000000</td>\n",
       "      <td>763.000000</td>\n",
       "      <td>760.000000</td>\n",
       "      <td>859.000000</td>\n",
       "      <td>1058.000000</td>\n",
       "      <td>1050.000000</td>\n",
       "      <td>1058.000000</td>\n",
       "      <td>1158.000000</td>\n",
       "      <td>1358.000000</td>\n",
       "      <td>1553.000000</td>\n",
       "      <td>1539.000000</td>\n",
       "      <td>1514.000000</td>\n",
       "      <td>1482.000000</td>\n",
       "      <td>1682.000000</td>\n",
       "      <td>1674.000000</td>\n",
       "      <td>1724.000000</td>\n",
       "      <td>1696.000000</td>\n",
       "    </tr>\n",
       "  </tbody>\n",
       "</table>\n",
       "</div>"
      ],
      "text/plain": [
       "               C1          C2          C3          C4          C5          C6  \\\n",
       "count  257.000000  257.000000  257.000000  257.000000  257.000000  257.000000   \n",
       "mean   202.797665  193.871595  177.420233  193.206226  277.315175  314.101167   \n",
       "std     56.934566   73.182637   87.224580  118.479759  163.456075  157.660649   \n",
       "min     50.000000   34.000000    0.000000    0.000000    0.000000    0.000000   \n",
       "25%    189.000000  173.000000  145.000000  116.000000  146.000000  238.000000   \n",
       "50%    192.000000  179.000000  158.000000  156.000000  301.000000  305.000000   \n",
       "75%    200.000000  191.000000  191.000000  259.000000  357.000000  412.000000   \n",
       "max    400.000000  500.000000  491.000000  585.000000  763.000000  760.000000   \n",
       "\n",
       "               C7           C8           C9          C10          C11  \\\n",
       "count  257.000000   257.000000   257.000000   257.000000   257.000000   \n",
       "mean   312.217899   311.673152   342.564202   398.042802   422.591440   \n",
       "std    161.979428   171.133863   203.129531   219.571640   238.729336   \n",
       "min      0.000000     0.000000     0.000000     0.000000     0.000000   \n",
       "25%    233.000000   226.000000   211.000000   251.000000   259.000000   \n",
       "50%    295.000000   285.000000   328.000000   414.000000   429.000000   \n",
       "75%    398.000000   407.000000   465.000000   530.000000   562.000000   \n",
       "max    859.000000  1058.000000  1050.000000  1058.000000  1158.000000   \n",
       "\n",
       "               C12          C13          C14          C15          C16  \\\n",
       "count   257.000000   257.000000   257.000000   257.000000   257.000000   \n",
       "mean    440.719844   448.766537   491.000000   526.159533   547.634241   \n",
       "std     238.432264   256.045284   280.471241   290.158257   300.561802   \n",
       "min       0.000000     0.000000     0.000000     0.000000     0.000000   \n",
       "25%     311.000000   313.000000   304.000000   323.000000   352.000000   \n",
       "50%     437.000000   444.000000   506.000000   546.000000   567.000000   \n",
       "75%     574.000000   603.000000   642.000000   720.000000   744.000000   \n",
       "max    1358.000000  1553.000000  1539.000000  1514.000000  1482.000000   \n",
       "\n",
       "               C17          C18          C19          C20  \n",
       "count   257.000000   257.000000   257.000000   257.000000  \n",
       "mean    563.739300   582.482490   607.929961   637.112840  \n",
       "std     302.144662   314.208046   322.950005   340.379945  \n",
       "min       0.000000     0.000000     0.000000     0.000000  \n",
       "25%     420.000000   407.000000   438.000000   439.000000  \n",
       "50%     585.000000   589.000000   639.000000   650.000000  \n",
       "75%     769.000000   792.000000   806.000000   868.000000  \n",
       "max    1682.000000  1674.000000  1724.000000  1696.000000  "
      ]
     },
     "execution_count": 14,
     "metadata": {},
     "output_type": "execute_result"
    }
   ],
   "source": [
    "fakeC.describe()"
   ]
  },
  {
   "cell_type": "code",
   "execution_count": 15,
   "metadata": {
    "collapsed": true
   },
   "outputs": [],
   "source": [
    "#fakeC.iloc[1,\"Game\"] = 'real'\n",
    "#fakeC.loc['Game'] = 0\n",
    "#dfLog.loc[1,'Game']=44\n"
   ]
  },
  {
   "cell_type": "code",
   "execution_count": 16,
   "metadata": {
    "collapsed": true
   },
   "outputs": [],
   "source": [
    "#fakeC.mean()"
   ]
  },
  {
   "cell_type": "markdown",
   "metadata": {},
   "source": [
    "You might notice that there is one extra column in the DataFrame called **Game** which describes whether they were playing Miniopoly (labeled real) or Fakeiopoly (labeled fake).  Unfortunately, the **Game** labels only survived in the first half of the DataFrame.  As you can see, the **Game** labels in the second half of the database were lost. "
   ]
  },
  {
   "cell_type": "code",
   "execution_count": 17,
   "metadata": {
    "collapsed": true
   },
   "outputs": [],
   "source": [
    "fakeC = fakeC.drop(fakeC.index[256])\n",
    "fakeC = fakeC.drop(fakeC.index[255])\n",
    "fakeC = fakeC.drop(fakeC.index[254])\n",
    "fakeC = fakeC.drop(fakeC.index[253])\n",
    "fakeC = fakeC.drop(fakeC.index[252])\n",
    "fakeC = fakeC.drop(fakeC.index[251])\n",
    "fakeC = fakeC.drop(fakeC.index[250])\n",
    "fakeC = fakeC.drop(fakeC.index[249])\n",
    "fakeC = fakeC.drop(fakeC.index[248])\n",
    "fakeC = fakeC.drop(fakeC.index[247])\n",
    "fakeC = fakeC.drop(fakeC.index[246])\n",
    "fakeC = fakeC.drop(fakeC.index[245])\n",
    "fakeC = fakeC.drop(fakeC.index[244])\n",
    "fakeC = fakeC.drop(fakeC.index[243])\n",
    "\n",
    "#droped some values in order to even the amount to compare in fakeC and realC"
   ]
  },
  {
   "cell_type": "code",
   "execution_count": null,
   "metadata": {
    "collapsed": true
   },
   "outputs": [],
   "source": [
    "\n"
   ]
  },
  {
   "cell_type": "code",
   "execution_count": 18,
   "metadata": {},
   "outputs": [
    {
     "data": {
      "text/html": [
       "<div>\n",
       "<style>\n",
       "    .dataframe thead tr:only-child th {\n",
       "        text-align: right;\n",
       "    }\n",
       "\n",
       "    .dataframe thead th {\n",
       "        text-align: left;\n",
       "    }\n",
       "\n",
       "    .dataframe tbody tr th {\n",
       "        vertical-align: top;\n",
       "    }\n",
       "</style>\n",
       "<table border=\"1\" class=\"dataframe\">\n",
       "  <thead>\n",
       "    <tr style=\"text-align: right;\">\n",
       "      <th></th>\n",
       "      <th>S1</th>\n",
       "      <th>S2</th>\n",
       "      <th>S3</th>\n",
       "      <th>S4</th>\n",
       "      <th>S5</th>\n",
       "      <th>S6</th>\n",
       "      <th>S7</th>\n",
       "      <th>S8</th>\n",
       "      <th>S9</th>\n",
       "      <th>S10</th>\n",
       "      <th>S11</th>\n",
       "      <th>S12</th>\n",
       "      <th>S13</th>\n",
       "      <th>S14</th>\n",
       "      <th>S15</th>\n",
       "      <th>S16</th>\n",
       "      <th>S17</th>\n",
       "      <th>S18</th>\n",
       "      <th>S19</th>\n",
       "      <th>S20</th>\n",
       "      <th>C1</th>\n",
       "      <th>C2</th>\n",
       "      <th>C3</th>\n",
       "      <th>C4</th>\n",
       "      <th>C5</th>\n",
       "      <th>C6</th>\n",
       "      <th>C7</th>\n",
       "      <th>C8</th>\n",
       "      <th>C9</th>\n",
       "      <th>C10</th>\n",
       "      <th>C11</th>\n",
       "      <th>C12</th>\n",
       "      <th>C13</th>\n",
       "      <th>C14</th>\n",
       "      <th>C15</th>\n",
       "      <th>C16</th>\n",
       "      <th>C17</th>\n",
       "      <th>C18</th>\n",
       "      <th>C19</th>\n",
       "      <th>C20</th>\n",
       "      <th>Game</th>\n",
       "    </tr>\n",
       "  </thead>\n",
       "  <tbody>\n",
       "    <tr>\n",
       "      <th>995</th>\n",
       "      <td>5</td>\n",
       "      <td>13</td>\n",
       "      <td>20</td>\n",
       "      <td>22</td>\n",
       "      <td>32</td>\n",
       "      <td>38</td>\n",
       "      <td>7</td>\n",
       "      <td>15</td>\n",
       "      <td>28</td>\n",
       "      <td>0</td>\n",
       "      <td>11</td>\n",
       "      <td>15</td>\n",
       "      <td>23</td>\n",
       "      <td>27</td>\n",
       "      <td>35</td>\n",
       "      <td>0</td>\n",
       "      <td>7</td>\n",
       "      <td>16</td>\n",
       "      <td>28</td>\n",
       "      <td>38</td>\n",
       "      <td>195</td>\n",
       "      <td>182</td>\n",
       "      <td>182</td>\n",
       "      <td>282</td>\n",
       "      <td>250</td>\n",
       "      <td>212</td>\n",
       "      <td>312</td>\n",
       "      <td>297</td>\n",
       "      <td>269</td>\n",
       "      <td>469</td>\n",
       "      <td>458</td>\n",
       "      <td>443</td>\n",
       "      <td>420</td>\n",
       "      <td>393</td>\n",
       "      <td>358</td>\n",
       "      <td>558</td>\n",
       "      <td>408</td>\n",
       "      <td>392</td>\n",
       "      <td>364</td>\n",
       "      <td>326</td>\n",
       "      <td>NaN</td>\n",
       "    </tr>\n",
       "    <tr>\n",
       "      <th>996</th>\n",
       "      <td>8</td>\n",
       "      <td>14</td>\n",
       "      <td>18</td>\n",
       "      <td>24</td>\n",
       "      <td>32</td>\n",
       "      <td>39</td>\n",
       "      <td>6</td>\n",
       "      <td>10</td>\n",
       "      <td>14</td>\n",
       "      <td>21</td>\n",
       "      <td>29</td>\n",
       "      <td>37</td>\n",
       "      <td>39</td>\n",
       "      <td>9</td>\n",
       "      <td>18</td>\n",
       "      <td>23</td>\n",
       "      <td>29</td>\n",
       "      <td>36</td>\n",
       "      <td>6</td>\n",
       "      <td>14</td>\n",
       "      <td>192</td>\n",
       "      <td>178</td>\n",
       "      <td>160</td>\n",
       "      <td>136</td>\n",
       "      <td>104</td>\n",
       "      <td>65</td>\n",
       "      <td>259</td>\n",
       "      <td>259</td>\n",
       "      <td>245</td>\n",
       "      <td>224</td>\n",
       "      <td>195</td>\n",
       "      <td>158</td>\n",
       "      <td>119</td>\n",
       "      <td>310</td>\n",
       "      <td>292</td>\n",
       "      <td>269</td>\n",
       "      <td>240</td>\n",
       "      <td>290</td>\n",
       "      <td>484</td>\n",
       "      <td>470</td>\n",
       "      <td>NaN</td>\n",
       "    </tr>\n",
       "    <tr>\n",
       "      <th>997</th>\n",
       "      <td>7</td>\n",
       "      <td>14</td>\n",
       "      <td>19</td>\n",
       "      <td>23</td>\n",
       "      <td>33</td>\n",
       "      <td>1</td>\n",
       "      <td>8</td>\n",
       "      <td>15</td>\n",
       "      <td>26</td>\n",
       "      <td>38</td>\n",
       "      <td>3</td>\n",
       "      <td>6</td>\n",
       "      <td>13</td>\n",
       "      <td>19</td>\n",
       "      <td>29</td>\n",
       "      <td>36</td>\n",
       "      <td>0</td>\n",
       "      <td>7</td>\n",
       "      <td>15</td>\n",
       "      <td>26</td>\n",
       "      <td>400</td>\n",
       "      <td>386</td>\n",
       "      <td>367</td>\n",
       "      <td>344</td>\n",
       "      <td>194</td>\n",
       "      <td>393</td>\n",
       "      <td>385</td>\n",
       "      <td>370</td>\n",
       "      <td>344</td>\n",
       "      <td>306</td>\n",
       "      <td>503</td>\n",
       "      <td>497</td>\n",
       "      <td>484</td>\n",
       "      <td>465</td>\n",
       "      <td>436</td>\n",
       "      <td>486</td>\n",
       "      <td>686</td>\n",
       "      <td>586</td>\n",
       "      <td>571</td>\n",
       "      <td>545</td>\n",
       "      <td>NaN</td>\n",
       "    </tr>\n",
       "    <tr>\n",
       "      <th>998</th>\n",
       "      <td>5</td>\n",
       "      <td>13</td>\n",
       "      <td>22</td>\n",
       "      <td>29</td>\n",
       "      <td>38</td>\n",
       "      <td>7</td>\n",
       "      <td>16</td>\n",
       "      <td>27</td>\n",
       "      <td>37</td>\n",
       "      <td>8</td>\n",
       "      <td>12</td>\n",
       "      <td>18</td>\n",
       "      <td>27</td>\n",
       "      <td>33</td>\n",
       "      <td>3</td>\n",
       "      <td>16</td>\n",
       "      <td>23</td>\n",
       "      <td>33</td>\n",
       "      <td>1</td>\n",
       "      <td>13</td>\n",
       "      <td>195</td>\n",
       "      <td>182</td>\n",
       "      <td>232</td>\n",
       "      <td>203</td>\n",
       "      <td>165</td>\n",
       "      <td>465</td>\n",
       "      <td>449</td>\n",
       "      <td>422</td>\n",
       "      <td>385</td>\n",
       "      <td>577</td>\n",
       "      <td>565</td>\n",
       "      <td>547</td>\n",
       "      <td>520</td>\n",
       "      <td>620</td>\n",
       "      <td>817</td>\n",
       "      <td>801</td>\n",
       "      <td>778</td>\n",
       "      <td>978</td>\n",
       "      <td>1177</td>\n",
       "      <td>1164</td>\n",
       "      <td>NaN</td>\n",
       "    </tr>\n",
       "    <tr>\n",
       "      <th>999</th>\n",
       "      <td>8</td>\n",
       "      <td>13</td>\n",
       "      <td>23</td>\n",
       "      <td>30</td>\n",
       "      <td>30</td>\n",
       "      <td>30</td>\n",
       "      <td>22</td>\n",
       "      <td>28</td>\n",
       "      <td>34</td>\n",
       "      <td>38</td>\n",
       "      <td>10</td>\n",
       "      <td>17</td>\n",
       "      <td>23</td>\n",
       "      <td>31</td>\n",
       "      <td>0</td>\n",
       "      <td>8</td>\n",
       "      <td>14</td>\n",
       "      <td>21</td>\n",
       "      <td>26</td>\n",
       "      <td>34</td>\n",
       "      <td>192</td>\n",
       "      <td>179</td>\n",
       "      <td>156</td>\n",
       "      <td>156</td>\n",
       "      <td>146</td>\n",
       "      <td>136</td>\n",
       "      <td>236</td>\n",
       "      <td>208</td>\n",
       "      <td>174</td>\n",
       "      <td>136</td>\n",
       "      <td>336</td>\n",
       "      <td>536</td>\n",
       "      <td>513</td>\n",
       "      <td>482</td>\n",
       "      <td>682</td>\n",
       "      <td>674</td>\n",
       "      <td>660</td>\n",
       "      <td>639</td>\n",
       "      <td>613</td>\n",
       "      <td>579</td>\n",
       "      <td>NaN</td>\n",
       "    </tr>\n",
       "  </tbody>\n",
       "</table>\n",
       "</div>"
      ],
      "text/plain": [
       "     S1  S2  S3  S4  S5  S6  S7  S8  S9  S10  S11  S12  S13  S14  S15  S16  \\\n",
       "995   5  13  20  22  32  38   7  15  28    0   11   15   23   27   35    0   \n",
       "996   8  14  18  24  32  39   6  10  14   21   29   37   39    9   18   23   \n",
       "997   7  14  19  23  33   1   8  15  26   38    3    6   13   19   29   36   \n",
       "998   5  13  22  29  38   7  16  27  37    8   12   18   27   33    3   16   \n",
       "999   8  13  23  30  30  30  22  28  34   38   10   17   23   31    0    8   \n",
       "\n",
       "     S17  S18  S19  S20   C1   C2   C3   C4   C5   C6   C7   C8   C9  C10  \\\n",
       "995    7   16   28   38  195  182  182  282  250  212  312  297  269  469   \n",
       "996   29   36    6   14  192  178  160  136  104   65  259  259  245  224   \n",
       "997    0    7   15   26  400  386  367  344  194  393  385  370  344  306   \n",
       "998   23   33    1   13  195  182  232  203  165  465  449  422  385  577   \n",
       "999   14   21   26   34  192  179  156  156  146  136  236  208  174  136   \n",
       "\n",
       "     C11  C12  C13  C14  C15  C16  C17  C18   C19   C20 Game  \n",
       "995  458  443  420  393  358  558  408  392   364   326  NaN  \n",
       "996  195  158  119  310  292  269  240  290   484   470  NaN  \n",
       "997  503  497  484  465  436  486  686  586   571   545  NaN  \n",
       "998  565  547  520  620  817  801  778  978  1177  1164  NaN  \n",
       "999  336  536  513  482  682  674  660  639   613   579  NaN  "
      ]
     },
     "execution_count": 18,
     "metadata": {},
     "output_type": "execute_result"
    }
   ],
   "source": [
    "dfLog.tail()"
   ]
  },
  {
   "cell_type": "markdown",
   "metadata": {},
   "source": [
    "While they can deal with the loss of information about later turns, doing any kind of meaningful analysis on the data requires knowledge of which game they were playing.  Your job is to see if you can reconstruct the missing **Game** labels in the second half of the DataFrame.  \n",
    "\n",
    "Sadly, Fakeiopoly was a game of their own invention, and the rules were among the lost data.  But, being budding data scientists, you can probably glean some insights into the non-standard rules by exploring the data with intact labels in the first half of the DataFrame. \n",
    "\n",
    "**Part A**: Complete the function predict_game_log below to predict whether each game in the DataFrame is real or fake.  To help you, we've provided a score function that reports the accuracy of your predictions on the rows that have intact labels.  \n",
    "\n",
    "OK, here are the **rules**: \n",
    "\n",
    "- You may **NOT** load any external libraries beyond Pandas, Numpy, and Matplotlib.  Instead of fancy Machine Learning techniques you may have picked up on the streets, you'll have to rely on your probability, heuristics, and exploratory data analysis skills. \n",
    "- You may write any additional functions you like, but you should **NOT** change the way that predict_game_log is called or what it returns. \n",
    "\n",
    "And some final **guidance**: \n",
    "\n",
    "- While we hope you do well, and obtain great accuracies, we're more interested in seeing how you approach the problem.  As part of your solution you should describe in detail how you based your predictions.  A solution with high accuracy and no justification of you approach may receive a low score, while a solution with mediocre accuracy and good justification may receive a high score.  What aspects of the data lead you to believe that your approach might be successful? Supporting evidence might include graphical summaries of the data and extensive description of trial and error. "
   ]
  },
  {
   "cell_type": "code",
   "execution_count": 19,
   "metadata": {
    "collapsed": true
   },
   "outputs": [],
   "source": [
    "\n",
    "def predict_game_log():\n",
    "    '''\n",
    "    Function to read in the corrupted DataFrame and make predictions\n",
    "    about which game is associated with each sequence of states \n",
    "    and cash values.  You should store your predictions (\"real\"/\"fake\")\n",
    "    in the column \"Prediction\" in the DataFrame. \n",
    "    '''\n",
    "    \n",
    "    dfPredict = pd.read_csv(\"https://raw.githubusercontent.com/chrisketelsen/csci3022/master/hmwk/hmwk02/game_log.csv\")\n",
    "    \n",
    "    dfPredict.loc[:, \"Prediction\"] = \"real\"\n",
    "    i = 0 \n",
    "    while(i < len(dfLog.index)):\n",
    "        if(dfPredict.loc[i].C20 >=423):\n",
    "            dfPredict.loc[i,'Prediction'] = \"fake\"\n",
    "        if(dfPredict.loc[i].C10 >=428):\n",
    "            dfPredict.loc[i,'Prediction'] = \"fake\"\n",
    "        if(dfPredict.loc[i,'C1':'C20'].sum() >= 7800):\n",
    "            dfPredict.loc[i,'Prediction'] = \"fake\"\n",
    "        i +=1\n",
    "    \n",
    "    return dfPredict"
   ]
  },
  {
   "cell_type": "code",
   "execution_count": 20,
   "metadata": {
    "collapsed": true
   },
   "outputs": [],
   "source": [
    "def score(df):\n",
    "    '''\n",
    "    Function to score your predictions on the labeled game data. \n",
    "    '''\n",
    "    num_samples = len(df.loc[pd.notnull(df[\"Game\"])])\n",
    "    num_correct = np.sum(df.loc[pd.notnull(df[\"Game\"]), \"Game\"] == df.loc[pd.notnull(df[\"Game\"]), \"Prediction\"])\n",
    "    print(\"accuracy on labeled data: {}\".format(num_correct / num_samples))"
   ]
  },
  {
   "cell_type": "code",
   "execution_count": 21,
   "metadata": {},
   "outputs": [
    {
     "name": "stdout",
     "output_type": "stream",
     "text": [
      "accuracy on labeled data: 0.642\n"
     ]
    }
   ],
   "source": [
    "a = predict_game_log()\n",
    "a\n",
    "score(a)"
   ]
  },
  {
   "cell_type": "markdown",
   "metadata": {},
   "source": [
    "i analyed this data by first spliting the data frame into 4 smaller dataframe. i split it based on weather the known games were real and fake, and also split it based on the state and the cash. \n",
    "\n",
    "so i had 4 dataframes, games that were real and their state (realS) and cash (realC)\n",
    "                       games that were fake and theri state (fakeS) and cash (fakeC)\n",
    "                       \n",
    "I used the describe function, on realC and fakeC and noticed that towards the later rounds, the Fake games cash was almost 200 higher then the real games cash, thats why i have the first if statement: if(dfPredict.loc[i].C20 >= 423)\n",
    "\n",
    "the second if statement was mined using the average but insead of C20 i used C19\n",
    "\n",
    "the third if statement if(dfPredict.loc[i,'C1':'C20'].sum() >= 7800) i found when i added all the values in one row for fakeC and realC using df.sum(axis = 1).mean(). i found that there was a significant diffrence in the total. for the realC the average value was  5760 while the fakeC average value was 7991.\n",
    "\n",
    "within each of the if statment, i brute forced the value increacing 30 each time to find the value that gave me the best predictions.(that is why you see numbers like 423 or 428 in these ifstatements.\n",
    "\n",
    "basicly the fake game ended you up with more cash and that is what i based my prediction function off"
   ]
  },
  {
   "cell_type": "markdown",
   "metadata": {},
   "source": [
    "**[Extra Credit] Part B**: Based on your exploratory data analysis, can you predict how the rules of Fakeiopoly differ from Miniopoly?  Be sure to thoroughly justify your conclusions. "
   ]
  },
  {
   "cell_type": "code",
   "execution_count": null,
   "metadata": {
    "collapsed": true
   },
   "outputs": [],
   "source": []
  },
  {
   "cell_type": "markdown",
   "metadata": {},
   "source": [
    "### Challenge Problem - Night Falls. A Storm Rolls In. Can You Cross The River?\n",
    "***\n",
    "\n",
    "In every homework assignment we'll give you a Challenge Problem.  Challenge Problems never need to be turned in (and in fact, will not be graded) but we encourage you to give them a shot (after completing the required homework problems) and discuss them with your classmates and your instructors. \n",
    "\n",
    "The following Challenge Problem was a [Riddler](https://fivethirtyeight.com/tag/the-riddler/) on [FiveThirtyEight](https://fivethirtyeight.com) a few years back. \n",
    "\n",
    "You’re on the north shore of a river, and want to cross to the south, via a series of 13 bridges and six islands, which you can see in the diagram below. But, as you approach the water, night falls, a bad storm rolls in, and you’re forced to wait until morning to try to cross. Overnight, the storm could render some of the bridges unusable — it has a 50 percent chance of knocking out each of the bridges. (The chance is independent for each bridge.)\n",
    "\n",
    "<br>\n",
    "\n",
    "![alt text](https://espnfivethirtyeight.files.wordpress.com/2016/01/roeder-riddler-diagram-11.png?w=575&h=449&quality=90&strip=info)\n",
    "\n",
    "<br>\n",
    "\n",
    "What’s the probability you will be able to cross the river in the morning? (You have no boat, can’t swim, can’t fix the bridges, etc. No tricks.)"
   ]
  },
  {
   "cell_type": "code",
   "execution_count": null,
   "metadata": {
    "collapsed": true
   },
   "outputs": [],
   "source": []
  }
 ],
 "metadata": {
  "kernelspec": {
   "display_name": "Python 3",
   "language": "python",
   "name": "python3"
  },
  "language_info": {
   "codemirror_mode": {
    "name": "ipython",
    "version": 3
   },
   "file_extension": ".py",
   "mimetype": "text/x-python",
   "name": "python",
   "nbconvert_exporter": "python",
   "pygments_lexer": "ipython3",
   "version": "3.6.2"
  }
 },
 "nbformat": 4,
 "nbformat_minor": 2
}
