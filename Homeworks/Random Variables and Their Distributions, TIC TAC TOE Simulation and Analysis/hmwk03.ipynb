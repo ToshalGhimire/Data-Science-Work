{
 "cells": [
  {
   "cell_type": "markdown",
   "metadata": {},
   "source": [
    "# Homework 3: Random Variables and Their Distributions\n",
    "***\n",
    "\n",
    "**Name**: Toshal Ghimire\n",
    "\n",
    "**Section**: (001 or 002)\n",
    "***\n",
    "\n",
    "This assignment is due on Moodle by **5pm on Friday October 13th**. Your solutions to theoretical questions should be done in Markdown/MathJax directly below the associated question.  Your solutions to computational questions should include any specified Python code and results as well as written commentary on your conclusions.  Remember that you are encouraged to discuss the problems with your instructors and classmates, but **you must write all code and solutions on your own**.  For a refresher on the course **Collaboration Policy** click [here](https://github.com/chrisketelsen/csci3022/blob/master/resources/syllabus.md#collaboration-policy).  \n",
    "\n",
    "**NOTES**: \n",
    "\n",
    "- Do **NOT** load or use any Python packages that are not available in Anaconda 3.6. \n",
    "- Some problems with code may be autograded.  If we provide a function API **do not** change it.  If we do not provide a function API then you're free to structure your code however you like. \n",
    "- Because you can technically evaluate notebook cells is a non-linear order, it's a good idea to do Cell $\\rightarrow$ Run All as a check before submitting your solutions.  That way if we need to run your code you will know that it will work as expected. \n",
    "- Submit only this Jupyter notebook to Moodle.  Do not compress it using tar, rar, zip, etc. "
   ]
  },
  {
   "cell_type": "code",
   "execution_count": 2,
   "metadata": {
    "collapsed": true,
    "scrolled": true
   },
   "outputs": [],
   "source": [
    "import pandas as pd\n",
    "import numpy as np\n",
    "import random\n",
    "import math\n",
    "import matplotlib.pylab as plt\n",
    "from scipy.special import binom\n",
    "%matplotlib inline\n",
    "\n",
    "boywon=0"
   ]
  },
  {
   "cell_type": "markdown",
   "metadata": {},
   "source": [
    "### [15 points] Problem 1 \n",
    "***\n",
    "\n",
    "A young boy and an old woman are playing [tic tac toe](https://en.wikipedia.org/wiki/Tic-tac-toe). Unfortunately, the boy is too young to know the strategy and the old woman can't see the board well enough to enact a strategy. Nevertheless, they are content to play games with each other. The boy plays first and randomly places an X in an open square. The woman plays next, and randomly places an O in one of the remaining open squares. They each play randomly until someone gets three in a row, and then start a new game. Estimate, via simulation, the probability that the boy wins.\n",
    "\n",
    "**Note**: Part of the goal of this exercises is to give you more practice structuring a simulation. Definitely don't be afraid to write helper functions that get called from your main simulation routine. Things you might want to do modularly are (i) play a single game of tic-tac-toe, (ii) place an $X$ or an $O$ on an free square, or (iii) check if someone has one the game. This problem will not be autograded so feel free to get creative.  Just make sure to clearly display your results in code output and summarize things in Markdown. "
   ]
  },
  {
   "cell_type": "code",
   "execution_count": 3,
   "metadata": {},
   "outputs": [
    {
     "data": {
      "text/plain": [
       "0.7723"
      ]
     },
     "execution_count": 3,
     "metadata": {},
     "output_type": "execute_result"
    }
   ],
   "source": [
    "\n",
    "\n",
    "BTop = [0,0,0]\n",
    "BMid = [0,0,0]\n",
    "BBot = [0,0,0]\n",
    "\n",
    "\n",
    "b = [BTop,BMid,BBot] #b is the tic tac toe board \n",
    "\n",
    "\n",
    "\n",
    "\n",
    "def iswinner(b,l):\n",
    "    if ((b[0][0] == l and b[0][1] == l and b[0][2] == l) or\n",
    "        (b[1][0] == l and b[1][1] == l and b[1][2] == l) or \n",
    "        (b[2][0] == l and b[2][1] == l and b[2][2] == l) or\n",
    "        (b[0][0] == l and b[1][0] == l and b[2][0] == l) or\n",
    "        (b[0][1] == l and b[1][1] == l and b[2][1] == l) or\n",
    "        (b[0][2] == l and b[1][2] == l and b[2][2] == l) or\n",
    "        (b[0][0] == l and b[1][1] == l and b[2][2] == l) or\n",
    "        (b[0][2] == l and b[1][1] == l and b[2][0] == l)):\n",
    "        return True\n",
    "    else: \n",
    "        return False\n",
    "\n",
    "\n",
    "def boysTurn(b):\n",
    "    while True:\n",
    "        x = random.randint(0, 2)\n",
    "        y = random.randint(0, 2)\n",
    "        if (b[x][y] == 0):\n",
    "            b[x][y]='X'\n",
    "            return b\n",
    "            break\n",
    "            \n",
    "    \n",
    "\n",
    "def womenTurn(b):\n",
    "    while True:\n",
    "        x = random.randint(0, 2)\n",
    "        y = random.randint(0, 2)\n",
    "        if (b[x][y] == 0):\n",
    "            b[x][y]='O'\n",
    "            return b\n",
    "            break\n",
    "    \n",
    "\n",
    "def oneGame(b):\n",
    "    b = reset(b)\n",
    "    b = boysTurn(b)\n",
    "    b = womenTurn(b)\n",
    "    b = boysTurn(b)\n",
    "    b = womenTurn(b) \n",
    "    b = boysTurn(b)\n",
    "    b = womenTurn(b) \n",
    "    b = boysTurn(b)\n",
    "    b = womenTurn(b) \n",
    "    b = boysTurn(b)\n",
    "\n",
    "    boywon = iswinner(b,'X')\n",
    "    b = reset(b)\n",
    "    return boywon\n",
    "\n",
    "def reset(b):\n",
    "    BTop = [0,0,0]\n",
    "    BMid = [0,0,0]\n",
    "    BBot = [0,0,0]\n",
    "    b = [BTop,BMid,BBot]\n",
    "    return b\n",
    "\n",
    "\n",
    "def simulation(b,trials):\n",
    "    i = 0 \n",
    "    countWon = 0\n",
    "    while (i < trials):\n",
    "        a = oneGame(b)\n",
    "        countWon +=a\n",
    "        i = i + 1\n",
    "    return (countWon/trials)\n",
    "\n",
    "\n",
    "simulation(b,10000)\n",
    "\n",
    "\n"
   ]
  },
  {
   "cell_type": "markdown",
   "metadata": {},
   "source": [
    "for my problem one i have 6 functions: I inmplemented this using a two dimensional array  \n",
    "\n",
    "**iswinner(board, 'X' )** is a function that returns true if the char in the second paramater is the winner of the game\n",
    "i used if statements with ands and ors to return true if the 8 possible ways to win has been met\n",
    "\n",
    "**reset(board)** is a function that takes the two dimentional array and resets it so all elements are 0 again \n",
    "\n",
    "\n",
    "**oneGame(board)** is a function that runs until the board is filled, it calls the **isWinner** function once the board is filled, and returns true or false based on if the boy won or not, it also calls the **reset** function at the begining and the end of the function, this is so the turn functions dont go into an infinite loop\n",
    "\n",
    "The two turn functions i have is **boyTurn(board)** and ** womanTurn(board)** these functions run infinitly until the value of board[x][y] == 0, meaning that the spot is empty and there isnt already an X or a O in it. if it finds a zero then it plugs in 'X' in boyTurn and 'O' in womanTurn at that array index. The array index x and y are randomly generated by using randint this is how the game is randomly inputed\n",
    "\n",
    "the last function is the **simulation** that takes board and number of trials as its arguments, and does a while loop, it calls oneGame a number of times based on the second argument and sums all the times that TRUE was returned in oneGame, then it returns the count divided by the number of trials, and this is the probality of the boy winning if they both played randomly \n",
    "\n",
    "I found the probaly to be about 0.7784 this is beacuse the boy will always get one more move then the old women beacuse he started first and the number of spots in the board is odd\n"
   ]
  },
  {
   "cell_type": "markdown",
   "metadata": {},
   "source": [
    "### [20 points] Problem 2 \n",
    "***\n",
    "\n",
    "Let $X$ be the lifespan (in years) of a BF Goodrich Rugged Trail T/A tire under normal driving conditions, and suppose $X$ is described by the following probability density function: \n",
    "\n",
    "$$\n",
    "f(x) = \\left\\{ \n",
    "\\begin{array}{ll}\n",
    "\\dfrac{10}{cx^2} & 1 \\leq x \\leq 10 \\\\\n",
    "0 & \\textrm{otherwise}\n",
    "\\end{array}\n",
    "\\right.\n",
    "$$\n",
    "\n",
    "**Part A**: Determine the value of $c$ such that $f(x)$ is a valid density function. "
   ]
  },
  {
   "cell_type": "markdown",
   "metadata": {
    "collapsed": true
   },
   "source": [
    "c = 9 \n",
    "\n",
    "i found this vlaue by doing the integral of the function\n",
    "$$ \\int_1^{10} {\\frac{10}{cx^2} dx} $$\n",
    "\n",
    "$$  \\frac{-10}{cx}\\mid_{1}^{10}  $$\n",
    "\n",
    "$$  \\frac{1}{c}~\\frac{-10}{x}\\mid_{1}^{10}  $$\n",
    "\n",
    "$$  \\frac{1}{c}~(\\frac{-10}{10} - \\frac{-10}{1})  $$\n",
    "\n",
    "$$  \\frac{1}{c}~(-1 + 10)  $$\n",
    "\n",
    "$$ \\frac{9}{c}$$\n",
    "\n",
    "since this value has to equal 1 we know that c must be 9\n",
    "\n",
    "$$ c = {9} $$"
   ]
  },
  {
   "cell_type": "markdown",
   "metadata": {},
   "source": [
    "**Part B**: Compute the cumulative distribution function $F(y)$ for $X$. \n",
    "\n",
    "we do this by intgrating from 1 to y of the PDF function "
   ]
  },
  {
   "cell_type": "markdown",
   "metadata": {
    "collapsed": true
   },
   "source": [
    "$$  F(y) = \\int_1^{y} {\\frac{10}{9x^2} dx} $$\n",
    "\n",
    "$$= \\frac{10}{9}~\\int_1^{y} {\\frac{1}{x^2} dx} $$\n",
    "\n",
    "$$= \\frac{10}{9}~\\frac{-1}{x}\\mid_{1}^{y}  $$\n",
    "\n",
    "$$= \\frac{10}{9}~(\\frac{-1}{y} - \\frac{-1}{1} )  $$\n",
    "\n",
    "$$= \\frac{10}{9}~(\\frac{-1}{y} + 1 )  $$\n",
    "\n",
    "$$F(y) = \\frac{10}{9}-\\frac{10}{9y}   $$\n"
   ]
  },
  {
   "cell_type": "markdown",
   "metadata": {},
   "source": [
    "**Part C**: Use the cdf you computed in **Part B** to find the probability that a single tire goes longer than 8 years without failing. "
   ]
  },
  {
   "cell_type": "markdown",
   "metadata": {
    "collapsed": true
   },
   "source": [
    "to find the probalty of a tire going longer then 8 years, it is F(10) - F(8)  or 1-F(8)\n",
    "\n",
    "$$ F(8) = \\frac{10}{9} - \\frac{10}{9~(8)} $$\n",
    "\n",
    "$$ 1 - \\frac{10}{9} - \\frac{10}{9~(8)} $$\n",
    "\n",
    "$$ 1 - 0.9722 $$\n",
    "\n",
    "$$ 0.0277 $$"
   ]
  },
  {
   "cell_type": "markdown",
   "metadata": {},
   "source": [
    "**Part D**: Use the cdf you computed in **Part B** to determine the number of years within which $90\\%$ of all tires will need to be replaced. In other words, determine the 90th percentile of the distribution of $X$. "
   ]
  },
  {
   "cell_type": "markdown",
   "metadata": {
    "collapsed": true
   },
   "source": [
    "$$ F(y) = \\frac{10}{9} - \\frac{10}{9~y} $$\n",
    "\n",
    "$$ 0.9 = \\frac{10}{9} - \\frac{10}{9~(y)} $$\n",
    "\n",
    "$$ 0.9 - \\frac{10}{9} = - \\frac{10}{9~(y)} $$\n",
    "\n",
    "$$ 9~y = - \\frac{10}{0.9 - \\frac{10}{9}} $$\n",
    "\n",
    "$$ y = - \\frac{\\frac{10}{0.9 - \\frac{10}{9}}}{9} $$\n",
    "\n",
    "$$ y = 5.2632 $$\n",
    "\n",
    "if were asked just in years, then it will take 6 years,other wise it will take 5.2632 years  "
   ]
  },
  {
   "cell_type": "markdown",
   "metadata": {},
   "source": [
    "**Part E**: What is the probability that all four BF Goodrich Rugged Trail T/A tires on a vehicle last longer than 8 years without failing? \n"
   ]
  },
  {
   "cell_type": "markdown",
   "metadata": {
    "collapsed": true
   },
   "source": [
    "since all four tires are independent of one another and 0.0277 is the probality of one tire lasting longer then 8 years, so for all four tires we would do $ 0.0227^4 $\n",
    "witch is 0.000000265523\n"
   ]
  },
  {
   "cell_type": "markdown",
   "metadata": {},
   "source": [
    "### [20 points] Problem 3 \n",
    "***\n",
    "\n",
    "Let $X =$ the leading digit of a randomly selected number from a large accounting\n",
    "ledger. For example, if we randomly draw the number \\$20,695, then $X = 2.$\n",
    "People who make up numbers to commit accounting fraud tend to give $X$ a\n",
    "(discrete) uniform distribution, i.e., $P(X = x) = \\frac{1}{9}$, for $x \\in \\{1, ..., 9\\}$. However,\n",
    "there is empirical evidence that suggests that _naturally occurring_ numbers (e.g.,\n",
    "numbers in a non-fraudulent accounting ledgers) have leading digits that do not\n",
    "follow a uniform distribution. Instead, they follow a distribution defined by the following probability mass function:\n",
    "\n",
    "$$\n",
    "f(x) = \\log_{10}\\left( \\frac{x+1}{x} \\right) \\quad \\textrm{for } x = 1, 2, \\ldots, 9\n",
    "$$"
   ]
  },
  {
   "cell_type": "markdown",
   "metadata": {},
   "source": [
    "**Part A**: Write a function pmf_natural that implements $f(x)$. Your function should take in an integer $x$ and return $f(x) = P(X = x)$.  Use your function to argue that $f(x)$ is a well-defined probability mass function. "
   ]
  },
  {
   "cell_type": "code",
   "execution_count": 4,
   "metadata": {},
   "outputs": [
    {
     "data": {
      "text/plain": [
       "1.0"
      ]
     },
     "execution_count": 4,
     "metadata": {},
     "output_type": "execute_result"
    }
   ],
   "source": [
    "def pmf_natural(x):\n",
    "    a = math.log10((x+1)/x) \n",
    "    return a \n",
    "\n",
    "c = 0\n",
    "for i in range(9):\n",
    "    if (pmf_natural(i+1) >= 0):\n",
    "        c += pmf_natural(i+1)\n",
    "c"
   ]
  },
  {
   "cell_type": "markdown",
   "metadata": {},
   "source": [
    "In my forloop ranging from i = 1 to 9, i first test if pmf_natural(i) is positive, if it is then i sum all the results and store it in variable c, as you can see this is a valid PMF function beacuse all the results are positive and they sum up to 1 "
   ]
  },
  {
   "cell_type": "markdown",
   "metadata": {},
   "source": [
    "**Part B**: Use the function you wrote above to make stacked bar plots describing the pmf of the naturally occurring numbers as well as the discrete uniform distribution.  Make sure that the $x$- and $y$-limits on your plots are the same so that the two distributions are easy to compare. "
   ]
  },
  {
   "cell_type": "code",
   "execution_count": 10,
   "metadata": {},
   "outputs": [
    {
     "data": {
      "text/plain": [
       "<matplotlib.text.Text at 0x192cbda1b00>"
      ]
     },
     "execution_count": 10,
     "metadata": {},
     "output_type": "execute_result"
    },
    {
     "data": {
      "image/png": "[encoded data removed]",
      "text/plain": [
       "<matplotlib.figure.Figure at 0x192cbc68c50>"
      ]
     },
     "metadata": {},
     "output_type": "display_data"
    }
   ],
   "source": [
    "df = pd.DataFrame( {'RandVar_X' : range(1, 10 ,1),})\n",
    "df[\"PMF\"] = df.RandVar_X.apply(pmf_natural)\n",
    "df[\"PMF_Uniform\"] = 1/9\n",
    "fig, ax = plt.subplots()\n",
    "\n",
    "\n",
    "df.plot.bar(x=\"RandVar_X\", y=\"PMF_Uniform\",ax=ax, color=\"green\",position=1,width =.35,edgecolor=\"black\")\n",
    "df.plot.bar(x=\"RandVar_X\", y=\"PMF\",ax=ax, color=\"steelblue\",position=2,width =.35,edgecolor=\"black\")\n",
    "ax.set_xlabel(\"Random Variable X\")\n",
    "ax.set_ylabel(\"Probability\")\n",
    "\n",
    "\n",
    "\n"
   ]
  },
  {
   "cell_type": "markdown",
   "metadata": {},
   "source": [
    "**Part C**: Write a function cdf_natural that implements the cumulative distribution function $F(y)$ for $X$ and use it to compute the probability that the leading digit in a number is at most 4 and at most 5. "
   ]
  },
  {
   "cell_type": "code",
   "execution_count": 6,
   "metadata": {},
   "outputs": [
    {
     "name": "stdout",
     "output_type": "stream",
     "text": [
      "F( 4 ) = 0.6989700043360189\n",
      "F( 5 ) = 0.7781512503836436\n"
     ]
    }
   ],
   "source": [
    "def cdf_natural(y):\n",
    "    a = sum(pmf_natural(x) for x in range (1,y+1))\n",
    "    return a \n",
    "x = 4\n",
    "y= 5\n",
    "print(\"F(\",x,\") =\",cdf_natural(x))\n",
    "print(\"F(\",y,\") =\",cdf_natural(y))"
   ]
  },
  {
   "cell_type": "markdown",
   "metadata": {},
   "source": [
    "**Part D**: The data in tax_data.txt contains the taxable income for individuals in 1978. Use Pandas and the information from **Parts A-D** to determine whether or not the dataset is likely fraudulent.  In addition to code and any graphical summaries, make sure to clearly justify your conclusion in words. "
   ]
  },
  {
   "cell_type": "code",
   "execution_count": 7,
   "metadata": {},
   "outputs": [
    {
     "data": {
      "image/png": "[encoded data removed]",
      "text/plain": [
       "<matplotlib.figure.Figure at 0x240af880080>"
      ]
     },
     "metadata": {},
     "output_type": "display_data"
    }
   ],
   "source": [
    "df = pd.read_table(\"tax_data.txt\")\n",
    "df = df[df[\"Tax_Incomes\"] != 0]\n",
    "fig, ax = plt.subplots()\n",
    "\n",
    "def getfirst(x):\n",
    "    a = int(str(x)[0])\n",
    "    return a\n",
    "\n",
    "df[\"first\"] = df[\"Tax_Incomes\"].apply(getfirst)\n",
    "\n",
    "df[\"first\"].hist()\n",
    "\n",
    "ax.set_xlabel(\"first digit\")\n",
    "ax.set_ylabel(\"frequency\");\n"
   ]
  },
  {
   "cell_type": "markdown",
   "metadata": {},
   "source": [
    "if we plot the first intger from each row, we get a distribution graph that is exactly like the graph from part B. this means that the distribution is not uniform therefore this is not a fraud\n",
    "\n",
    "**NOTE for grader** for some reason there is a gap in my graph, but if you count the amount of bars or look at my dataframe all the values are infact there. i tried many ways to get rid of this but couldnt figure it out"
   ]
  },
  {
   "cell_type": "markdown",
   "metadata": {},
   "source": [
    "### [25 points] Problem 4 \n",
    "***\n",
    "\n",
    "You are a data-driven transportation engineer investigating the effect that a particular [vertical lift bridge](https://en.wikipedia.org/wiki/Vertical-lift_bridge) has on city traffic.  Every time a boat passes under the bridge, cars must stop while the bridge is raised to accommodate the height of the boat.  As both boat and car traffic increases, city planners are considering building a new taller bridge that will never impede the flow of traffic. As part of a larger simulation of traffic congestion, you need to decide how to model the arrival of boats at the bridge.  From your Intro to Data Science class you remember that the time _between_ independent arrivals are usually modeled by an Exponential distribution.  Finally, you have access to a report that says on average 20 boats cross under the bridge per day.\n",
    "\n",
    "Answer the following questions about this scenario. **Note** that for **Parts B-D** you should clearly express the computation you're doing with math, but feel free to do any fancy function evaluations with Python. \n",
    "\n",
    "**Part A**:  Assuming the between-boat times do in-fact follow $Exp(20)$, what distribution would you expect the **number** of boats that cross under the bridge on a given day to follow?  What are the parameter(s) of the distribution? \n",
    "\n",
    "\n"
   ]
  },
  {
   "cell_type": "markdown",
   "metadata": {
    "collapsed": true
   },
   "source": [
    "this is a poissan distibution, where lambda is the average rate, in our case 20, and X is the random variable representing the number of boats that pass through\n",
    "\n",
    "$$ \\frac{\\lambda^{x}~e^{-\\lambda }}{{x!}}$$"
   ]
  },
  {
   "cell_type": "markdown",
   "metadata": {},
   "source": [
    "**Part B**:  What is the probability that 25 boats cross under the bridge on a particular day?"
   ]
  },
  {
   "cell_type": "markdown",
   "metadata": {
    "collapsed": true
   },
   "source": [
    "$$ p(X=25) = \\frac{\\lambda^{x}~e^{-\\lambda }}{{x!}}$$\n",
    "$$  = \\frac{\\lambda^{25}~e^{-\\lambda }}{{25!}}$$\n",
    "\n",
    " we know that $ \\lambda $ is equal to 20 so \n",
    " \n",
    " $$  = \\frac{20^{25}~e^{-20 }}{{25!}}$$\n",
    " "
   ]
  },
  {
   "cell_type": "code",
   "execution_count": 8,
   "metadata": {
    "collapsed": true
   },
   "outputs": [],
   "source": [
    "def poisson(lam,x,CP=0):\n",
    "    a = lam ** x \n",
    "    b = math.exp(-lam)\n",
    "    c = math.factorial(x)\n",
    "    #if the optional paramater is entered, it calcuates the cumulated probality\n",
    "    # so p(X <= x)\n",
    "    if(CP == 1):\n",
    "        out = 0\n",
    "        for i in range(1,x+1):\n",
    "            out = out + poisson(lam,i)\n",
    "        return out\n",
    "    #for p(X < x)\n",
    "    elif(CP == 2):\n",
    "        out = 0\n",
    "        for i in range(1,x):\n",
    "            out = out + poisson(lam,i)\n",
    "        return out\n",
    "    else:\n",
    "        return ((a*b)/c)\n",
    "\n"
   ]
  },
  {
   "cell_type": "code",
   "execution_count": 9,
   "metadata": {},
   "outputs": [
    {
     "name": "stdout",
     "output_type": "stream",
     "text": [
      "probability that 25 boats cross under the bridge on a particular day is 0.04458764910826788\n"
     ]
    }
   ],
   "source": [
    "print(\"probability that 25 boats cross under the bridge on a particular day is\",poisson(20,25))"
   ]
  },
  {
   "cell_type": "markdown",
   "metadata": {},
   "source": [
    "my function for caluating poisson distributions takes 2 arguments (lambda and x) and one optional agrument (CP aka Cummulative poisson), it uses the math libary to find factorial and exponent. if the optional paramater CP is not inputed it calcuates the poisson distribution at x, if CP = 1 then it calcuates P(X<=x) by summing each value from 1 to x in a for loop, if CP == 1, it returns P(X < x) using the same methods "
   ]
  },
  {
   "cell_type": "markdown",
   "metadata": {},
   "source": [
    "**Part C**:  What is the probability that 15 boats or fewer cross under the bridge on a particular day?"
   ]
  },
  {
   "cell_type": "markdown",
   "metadata": {
    "collapsed": true
   },
   "source": [
    "$$ p(X \\le 15) =\\sum \\frac{\\lambda^{x}}{{x!}}~e^{-\\lambda }$$\n"
   ]
  },
  {
   "cell_type": "code",
   "execution_count": 17,
   "metadata": {},
   "outputs": [
    {
     "data": {
      "text/plain": [
       "0.9553824608200056"
      ]
     },
     "execution_count": 17,
     "metadata": {},
     "output_type": "execute_result"
    }
   ],
   "source": [
    "out = 0\n",
    "for i in range(1,16):\n",
    "    out += poisson(20,i)\n",
    "out\n",
    "\n",
    "1- poisson(6,2)\n"
   ]
  },
  {
   "cell_type": "code",
   "execution_count": 12,
   "metadata": {},
   "outputs": [
    {
     "name": "stdout",
     "output_type": "stream",
     "text": [
      "probability that 15 boats  or fewer cross under the bridge on a particular day is 0.1565131325785894\n"
     ]
    }
   ],
   "source": [
    "print(\"probability that 15 boats  or fewer cross under the bridge on a particular day is\",poisson(20,15,1))"
   ]
  },
  {
   "cell_type": "markdown",
   "metadata": {},
   "source": [
    "**Part D**: What is the probability that between 1 and 2 hours pass between two boat crossings? "
   ]
  },
  {
   "cell_type": "markdown",
   "metadata": {},
   "source": [
    "first we must change our lamda value from 20 beacuse 20 is in per day, to change it we do 20/24 and there is 0.8333333333333334 ships per hour, that is our new lamda\n",
    "\n",
    "times wating between two events is given by this formula $  1 - e^{-\\lambda t} $\n",
    "so to find the probality a boat passing between 2 hours and 1 hours we use this formula \n",
    "\n",
    "we do the following operations with our new lambda\n",
    "\n",
    "$  1 - e^{-\\lambda t}$ \n",
    "when t = 2  \n",
    "minus  \n",
    "$ 1 - e^{-\\lambda t}$  when t= 1\n",
    "\n",
    "\n",
    "\n",
    "below is the code for it"
   ]
  },
  {
   "cell_type": "code",
   "execution_count": 253,
   "metadata": {},
   "outputs": [
    {
     "name": "stdout",
     "output_type": "stream",
     "text": [
      "There is a 0.24572260566951643 probablity that a ship passes between 1 and 2 hours\n"
     ]
    }
   ],
   "source": [
    "a = (1-math.exp(-(20/24)*2)) - (1-math.exp(-(20/24)*1))\n",
    "\n",
    "print(\"There is a\",a,\"probablity that a ship passes between 1 and 2 hours\")"
   ]
  },
  {
   "cell_type": "markdown",
   "metadata": {},
   "source": [
    "**Part F**: Write a function boat_count that takes as it's sole argument the rate parameter $\\lambda$ with units boats per day. Your function should simulate boat arrivals at the bridge by sampling between-boat times from $Exp(\\lambda)$ via Numpy's [random.exponential](https://docs.scipy.org/doc/numpy-1.13.0/reference/generated/numpy.random.exponential.html) function and return the number of boats that pass under the bridge on a single simulated day. \n",
    "\n",
    "**Note**: Do not change the API for this function.  "
   ]
  },
  {
   "cell_type": "code",
   "execution_count": 250,
   "metadata": {},
   "outputs": [
    {
     "data": {
      "text/plain": [
       "22"
      ]
     },
     "execution_count": 250,
     "metadata": {},
     "output_type": "execute_result"
    }
   ],
   "source": [
    "def boat_count(lam):\n",
    "    #probality cant be above one hence my while loop\n",
    "    above1 = 0 \n",
    "    c = 0 \n",
    "    while above1 <1:\n",
    "        above1 += np.random.exponential(1/lam)\n",
    "        c += 1\n",
    "    if above1 > 1:\n",
    "        c -= 1\n",
    "    return c\n",
    "     \n",
    "boat_count(20)"
   ]
  },
  {
   "cell_type": "markdown",
   "metadata": {},
   "source": [
    "the code counts the number of boats based on weather the sum of all random.exponential is equal to 1 "
   ]
  },
  {
   "cell_type": "markdown",
   "metadata": {},
   "source": [
    "**Part G**: Write a function boat_count_sim that takes as arguments the rate parameter $\\lambda$ with units boats per day and an integer number of days to simulate. Your function should use the function you wrote in **Part F** to simulate many independent days of boat crossings and estimate the probability that 15 boats or fewer cross under the bridge on a particular day. For $\\lambda = 20$, does your estimate agree with the by-hand computation you did in **Part C**?  \n",
    "\n",
    "**Note**: Do not change the API for this function.  "
   ]
  },
  {
   "cell_type": "code",
   "execution_count": 251,
   "metadata": {},
   "outputs": [
    {
     "name": "stdout",
     "output_type": "stream",
     "text": [
      "probability that 15 boats or fewer cross under the bridge on a particular day is 0.163\n"
     ]
    }
   ],
   "source": [
    "def boat_count_sim(lam, num_days=int(1e3)):\n",
    "    df = pd.DataFrame({\"boats\":0,\"day\": range(1,num_days,1)})\n",
    "    for i in range(num_days):\n",
    "        df.loc[i,\"boats\"] = boat_count(lam)\n",
    "    return df\n",
    "a = boat_count_sim(20)\n",
    "\n",
    "le15 = np.sum(a[\"boats\"] <= 15) / 1e3\n",
    "\n",
    "a[\"round\"] = a[\"boats\"].apply(round)\n",
    "le15 = np.sum(a[\"round\"] <= 15) / 1e3\n",
    "print(\"probability that 15 boats or fewer cross under the bridge on a particular day is\",le15)"
   ]
  },
  {
   "cell_type": "markdown",
   "metadata": {},
   "source": [
    "my estimate by hand and also this fucntion agrees with eachother. my hand calcuations was 0.15651 and the function calcuations varries around my hand calcuations "
   ]
  },
  {
   "cell_type": "markdown",
   "metadata": {},
   "source": [
    "**Part H**: Write a function boat_time_sim that takes as arguments the rate parameter $\\lambda$ with units boats per day and an integer number of boat arrivals to simulate. Your function should sample boat arrivals via [np.random.exponential](https://docs.scipy.org/doc/numpy-1.13.0/reference/generated/numpy.random.exponential.html) and estimate the probability that boats arrive between 1 and 2 hours apart.  For $\\lambda = 20$, does your estimate agree with the by-hand computation you did in **Part D**?  \n",
    "\n",
    "**Note**: Do not change the API for this function.  \n"
   ]
  },
  {
   "cell_type": "code",
   "execution_count": 255,
   "metadata": {},
   "outputs": [
    {
     "name": "stdout",
     "output_type": "stream",
     "text": [
      "probability that boats arrive between 1 and 2 hours apart is 0.217\n"
     ]
    }
   ],
   "source": [
    "def boat_time_sim(lam, num_boats=int(1e3)): \n",
    "    df = pd.DataFrame({\"hours\":0,\"boats\": range(1,num_boats)})\n",
    "    for i in range(num_boats):\n",
    "        df.loc[i,\"hours\"] = hours_count(lam)\n",
    "    return df \n",
    "\n",
    "def hours_count(lam):\n",
    "    #probality cant be above one hence my while loop\n",
    "    above1 = 0 \n",
    "    c = 0 \n",
    "    while above1 <1:\n",
    "        above1 += np.random.exponential(lam)\n",
    "        c += 1\n",
    "    if above1 > 1:\n",
    "        c -= 1\n",
    "    return c\n",
    "\n",
    "a = boat_time_sim(20/24)\n",
    "b = np.sum(a[\"hours\"] == 2)\n",
    "\n",
    "\n",
    "c = b/1e3\n",
    "\n",
    "print(\"probability that boats arrive between 1 and 2 hours apart is\",c)"
   ]
  },
  {
   "cell_type": "markdown",
   "metadata": {},
   "source": [
    "i changed my boats counter function from above part f from boats per day, to day per boats by inversing the lambda value, the probality is an average 0.02 less then what i calcuated in part D"
   ]
  },
  {
   "cell_type": "markdown",
   "metadata": {},
   "source": [
    "### [20 points] Problem 5 \n",
    "***\n",
    "\n",
    "You are the team manager for the CU intramural Quidditch team, the Boulder Beaters, and you've just made it to the national championship series against the Stanford Snitching Snitches. The typical Quidditch championship is a best of 11 series, so the first team to win 6 matches is declared the winner.  Furthermore, based on a rigorous statistical analysis of regular season play, the probability that the Boulder Beaters win any one match against the Snitching Snitches is given by $p = 0.55$.  \n",
    "\n",
    "**Part A**: What is the probability that you win the 11-game series on the 8th match played? \n"
   ]
  },
  {
   "cell_type": "markdown",
   "metadata": {
    "collapsed": true
   },
   "source": [
    "$$ P(X=k) = {n \\choose k}(1-p)^{n-k} ~ p^{k} $$\n",
    "\n",
    "n = 6, k = 6 and p = .55 \n",
    "\n",
    "$$ P(X=6) = {8 \\choose 6}(1-0.55)^{8-6} ~ 0.55^{6} $$\n",
    "\n",
    "since we need to win on the 8th game, we subtract 1 from n and k in the $ {n \\choose k}$\n",
    "\n",
    "$$ P(X=6) = {7 \\choose 5}(1-0.55)^{8-6} ~ 0.55^{6} $$\n",
    "\n",
    "$$ P(X=6) = {21}~(0.45)^{2} ~ 0.55^{6} $$\n",
    "\n",
    "\n",
    "$$ P(X=6) = 0.11771192423 $$"
   ]
  },
  {
   "cell_type": "markdown",
   "metadata": {},
   "source": [
    "**Part B**: What is the probability that you win the 11-game series in any valid number of matches? "
   ]
  },
  {
   "cell_type": "code",
   "execution_count": 146,
   "metadata": {},
   "outputs": [
    {
     "data": {
      "text/plain": [
       "0.63312258082884765"
      ]
     },
     "execution_count": 146,
     "metadata": {},
     "output_type": "execute_result"
    }
   ],
   "source": [
    "def Binomial(n,k,p):\n",
    "    return binom(n,k) *  (p**k) * (1-p)**(n-k)\n",
    "\n",
    "def wingame(series,prob):\n",
    "    a = series //2 + 1\n",
    "    b = prob * np.sum([Binomial(i, a-1,prob) for i in range(a-1,series)])\n",
    "    return b\n",
    "\n",
    "wingame(11,0.55)"
   ]
  },
  {
   "cell_type": "markdown",
   "metadata": {},
   "source": [
    "**Part C**: The winner of the champsionship will take home \\$10,000 to use for equipment and victory parties in the following season. Because the stakes are so high, you've decided to hire a famous Quidditch consultant, Bludger Bob, to help you prepare for each match. With Bob's help your probability of winning any given match increases to $p = 0.7$.  Bludger Bob charges a fee of \\$100 per game, but as a testament to his confidence in his abilities, only charges you the \\$100 for games that you win and only if you win the series.  So, if you play a 11-game series and win you will take home \\$10,000 less \\$600 for Bludger Bob's fees, for a total payout of \\$9,400.  What is the expected payout for an 11-game series?   "
   ]
  },
  {
   "cell_type": "code",
   "execution_count": 145,
   "metadata": {},
   "outputs": [
    {
     "data": {
      "text/plain": [
       "0.9217752090400001"
      ]
     },
     "execution_count": 145,
     "metadata": {},
     "output_type": "execute_result"
    }
   ],
   "source": [
    "a = wingame(11,.7)\n",
    "a"
   ]
  },
  {
   "cell_type": "markdown",
   "metadata": {},
   "source": [
    "to find this we use the expted value formula, witch is the $\\sum x ~  p(x_i)$ where x is the money the team gets if they win the series, and $p(x_i)$  is the probality of them wining the game "
   ]
  },
  {
   "cell_type": "code",
   "execution_count": 144,
   "metadata": {},
   "outputs": [
    {
     "name": "stdout",
     "output_type": "stream",
     "text": [
      "The expeted payout for a 11 game series is 86646.8696498\n"
     ]
    }
   ],
   "source": [
    " print(\"The expeted payout for a 11 game series is\",94000*wingame(11,0.7))"
   ]
  },
  {
   "cell_type": "markdown",
   "metadata": {},
   "source": [
    "i used my wingame formula to find the probality of wining if wining a game is 70 precent multipied by the max payout by winning "
   ]
  },
  {
   "cell_type": "markdown",
   "metadata": {},
   "source": [
    "**Part D**: This year the National Intramural Quidditch Association (NIQA) is implementing an experimental rule.  As the team with the best record in the regular season you will get to choose the length of the championship series.  Specifically, you can choose the series length to be anywhere from $N=3, 5, 7, \\ldots, 99$ games long.  Assuming that you plan to use Bludger Bob's services and considering the fact that you have a better than even chance of winning each game, explain the trade-offs between choosing a short series vs. a long series in terms of Expected Payout. \n"
   ]
  },
  {
   "cell_type": "markdown",
   "metadata": {
    "collapsed": true
   },
   "source": [
    "The longer the serires the more chance that the team has to win the seires and the shorter the series the the less you have a chance of winning. That being said, the longer the series would mean you will win more games witch means that you pay bob more as you go along, the shoter the series, if you win you will pay bob less since you need less games won to win the series"
   ]
  },
  {
   "cell_type": "markdown",
   "metadata": {},
   "source": [
    "**Part E**: Write a function optimal_series that takes in $p$, the probability that your team wins an individual game, then computes the Expected Payout for each series of length $N=3, 5, 7, \\ldots 99$ and returns the optimal series length.  In addition to returning the optimal series length, your function should also produce a plot of Expected Payout vs Series Length. You may write any additional helper functions that you like, but you should not change the API for the function optimal_series. "
   ]
  },
  {
   "cell_type": "code",
   "execution_count": 153,
   "metadata": {},
   "outputs": [
    {
     "name": "stdout",
     "output_type": "stream",
     "text": [
      "The best series lenth to choose is 15 beacuse this series length has the higest payout at 8699.87459946\n"
     ]
    },
    {
     "data": {
      "text/html": [
       "<div>\n",
       "<style>\n",
       "    .dataframe thead tr:only-child th {\n",
       "        text-align: right;\n",
       "    }\n",
       "\n",
       "    .dataframe thead th {\n",
       "        text-align: left;\n",
       "    }\n",
       "\n",
       "    .dataframe tbody tr th {\n",
       "        vertical-align: top;\n",
       "    }\n",
       "</style>\n",
       "<table border=\"1\" class=\"dataframe\">\n",
       "  <thead>\n",
       "    <tr style=\"text-align: right;\">\n",
       "      <th></th>\n",
       "      <th>prob</th>\n",
       "      <th>seriesNum</th>\n",
       "      <th>expected</th>\n",
       "    </tr>\n",
       "  </thead>\n",
       "  <tbody>\n",
       "    <tr>\n",
       "      <th>0</th>\n",
       "      <td>0.784000</td>\n",
       "      <td>3</td>\n",
       "      <td>7640.00000</td>\n",
       "    </tr>\n",
       "    <tr>\n",
       "      <th>1</th>\n",
       "      <td>0.836920</td>\n",
       "      <td>5</td>\n",
       "      <td>8069.20000</td>\n",
       "    </tr>\n",
       "    <tr>\n",
       "      <th>2</th>\n",
       "      <td>0.873964</td>\n",
       "      <td>7</td>\n",
       "      <td>8339.64000</td>\n",
       "    </tr>\n",
       "    <tr>\n",
       "      <th>3</th>\n",
       "      <td>0.901191</td>\n",
       "      <td>9</td>\n",
       "      <td>8511.91340</td>\n",
       "    </tr>\n",
       "    <tr>\n",
       "      <th>4</th>\n",
       "      <td>0.921775</td>\n",
       "      <td>11</td>\n",
       "      <td>8617.75209</td>\n",
       "    </tr>\n",
       "  </tbody>\n",
       "</table>\n",
       "</div>"
      ],
      "text/plain": [
       "       prob  seriesNum    expected\n",
       "0  0.784000          3  7640.00000\n",
       "1  0.836920          5  8069.20000\n",
       "2  0.873964          7  8339.64000\n",
       "3  0.901191          9  8511.91340\n",
       "4  0.921775         11  8617.75209"
      ]
     },
     "execution_count": 153,
     "metadata": {},
     "output_type": "execute_result"
    },
    {
     "data": {
      "image/png": "[encoded data removed]",
      "text/plain": [
       "<matplotlib.figure.Figure at 0x24a7c475630>"
      ]
     },
     "metadata": {},
     "output_type": "display_data"
    }
   ],
   "source": [
    "def optimal_series(p):\n",
    "    df = pd.DataFrame({\"prob\":0,\"seriesNum\": range(3,100,2)})\n",
    "    a = []\n",
    "    for i in range(3,100,2):\n",
    "        a.append(wingame(i,p))\n",
    "        \n",
    "    df[\"prob\"] = a\n",
    "    df[\"expected\"] = df[\"prob\"] * (10000) - [(i //2 +1) * 100 for i in range(3,100,2) ]\n",
    "    \n",
    "    maxPayout = df[\"expected\"].max()\n",
    "    optimalSeries = df.loc[(df.expected == maxPayout).idxmax, \"seriesNum\"]\n",
    "    \n",
    "    return maxPayout,optimalSeries,df\n",
    "    \n",
    "maxPayout,OptimalSeries,df = optimal_series(0.7)\n",
    "\n",
    "print(\"The best series lenth to choose is\",OptimalSeries,\"beacuse this series length has the higest payout at\",maxPayout)\n",
    "\n",
    "fig, ax = plt.subplots()\n",
    "\n",
    "graph = df.plot.line(x=\"seriesNum\", y=\"expected\",xticks=range(3,100,6), ax=ax)\n",
    "ax.set_ylabel(\"expected profit\");\n",
    "ax.set_title(\"Expeted Payout based on series length\");\n",
    "\n",
    "df.head()"
   ]
  },
  {
   "cell_type": "markdown",
   "metadata": {},
   "source": [
    "in my functions i used range(3,100,2) to find each possible series length, and based on that length i used a forloop to determine how much bob would take for winning. To find the probality to win the game i used my function wingame from the above problem, stored that into an array for each possible series length. the function returns maxPayout( by using the max() function), optimalseries (by using loc in line 11) and the dataframe."
   ]
  },
  {
   "cell_type": "markdown",
   "metadata": {},
   "source": [
    "### Challenge Problem - Which Geyser Gushes First? \n",
    "***\n",
    "\n",
    "In every homework assignment we'll give you a Challenge Problem.  Challenge Problems never need to be turned in (and in fact, will not be graded) but we encourage you to give them a shot (after completing the required homework problems) and discuss them with your classmates and your instructors. \n",
    "\n",
    "The following Challenge Problem was a [Riddler](https://fivethirtyeight.com/tag/the-riddler/) on [FiveThirtyEight](https://fivethirtyeight.com) a few years back. \n",
    "\n",
    "You arrive at the beautiful Three Geysers National Park. You read a placard explaining that the three eponymous geysers — creatively named $A$, $B$ and $C$ — erupt at intervals of precisely two hours, four hours and six hours, respectively. However, you just got there, so you have no idea how the three eruptions are staggered. Assuming they each started erupting at some independently random point in history, what are the probabilities that A, B and C, respectively, will be the first to erupt after your arrival?\n"
   ]
  },
  {
   "cell_type": "code",
   "execution_count": null,
   "metadata": {
    "collapsed": true
   },
   "outputs": [],
   "source": []
  }
 ],
 "metadata": {
  "kernelspec": {
   "display_name": "Python 3",
   "language": "python",
   "name": "python3"
  },
  "language_info": {
   "codemirror_mode": {
    "name": "ipython",
    "version": 3
   },
   "file_extension": ".py",
   "mimetype": "text/x-python",
   "name": "python",
   "nbconvert_exporter": "python",
   "pygments_lexer": "ipython3",
   "version": "3.6.1"
  }
 },
 "nbformat": 4,
 "nbformat_minor": 2
}
