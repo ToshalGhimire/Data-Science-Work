{
 "cells": [
  {
   "cell_type": "markdown",
   "metadata": {},
   "source": [
    "# Homework 6: Hypothesis Testing, P-Hacking, and Simple Linear Regression \n",
    "***\n",
    "\n",
    "**Name**: TOSHAL GHIMIRE\n",
    "\n",
    "**Section**: 001\n",
    "***\n",
    "\n",
    "This assignment is due on Moodle by **5pm on Friday December 1st**. Your solutions to theoretical questions should be done in Markdown/MathJax directly below the associated question.  Your solutions to computational questions should include any specified Python code and results as well as written commentary on your conclusions.  Remember that you are encouraged to discuss the problems with your instructors and classmates, but **you must write all code and solutions on your own**.  For a refresher on the course **Collaboration Policy** click [here](https://github.com/chrisketelsen/csci3022/blob/master/resources/syllabus.md#collaboration-policy).  \n",
    "\n",
    "**NOTES**: \n",
    "\n",
    "- Do **NOT** load or use any Python packages that are not available in Anaconda 3.6. \n",
    "- Some problems with code may be autograded.  If we provide a function API **do not** change it.  If we do not provide a function API then you're free to structure your code however you like. \n",
    "- Because you can technically evaluate notebook cells is a non-linear order, it's a good idea to do Cell $\\rightarrow$ Run All as a check before submitting your solutions.  That way if we need to run your code you will know that it will work as expected. \n",
    "- Submit only this Jupyter notebook to Moodle.  Do not compress it using tar, rar, zip, etc. "
   ]
  },
  {
   "cell_type": "code",
   "execution_count": 1,
   "metadata": {
    "collapsed": true,
    "scrolled": true
   },
   "outputs": [],
   "source": [
    "import numpy as np\n",
    "import matplotlib.pylab as plt\n",
    "import pandas as pd\n",
    "from scipy import stats \n",
    "%matplotlib inline"
   ]
  },
  {
   "cell_type": "markdown",
   "metadata": {},
   "source": [
    "### [15 points] Problem 1 - Hypothesis Testing: Find-the-Knowledge-Bug \n",
    "***\n",
    "\n",
    "As part of your job as a seasoned data science consultant, companies often bring you in to supervise their less-experienced data science teams before new product roll-outs.  One one such occasion, you are hired by a medium-sized internet-sales company that is preparing to release a new line of smart-home products.  Prior to their product release the company wants to do a targeted ad campaign to drive traffic to their site on launch day. \n",
    "\n",
    "You are asked to pair-up and do some inference work with a new employee named Stevey McKnowsNoStats. At various points in your day you catch Stevey making the following mistakes.  In each case, clearly explain to Stevey why his testing setup or conclusion is incorrect. "
   ]
  },
  {
   "cell_type": "markdown",
   "metadata": {},
   "source": [
    "**Part A**: Stevey has pulled up some data on the characteristics of customers that visited the company's website over the previous month.  He wants to perform an analysis on the mean age of customers that visit the site.  Let $X$ be the random variable describing the age of a site visitor and suppose that the population mean for $X$ is $\\mu$. In particular, Stevey wants to see if the data suggests that the mean age of their customers is under 30 years old.   He decides to perform the test with a null hypothesis of $H_0: \\bar{x} = 30$. "
   ]
  },
  {
   "cell_type": "markdown",
   "metadata": {
    "collapsed": true
   },
   "source": [
    "**The null hypothesis should be done on the population mean $\\mu$ not the sample mean $\\bar{x}$**"
   ]
  },
  {
   "cell_type": "markdown",
   "metadata": {},
   "source": [
    "**Part B**: After the wonderful explanation you gave him after the previous debacle, Stevey has seen the error in his ways and decides instead to do his hypothesis test with a null hypothesis of $H_0: \\mu < 30$.  "
   ]
  },
  {
   "cell_type": "markdown",
   "metadata": {
    "collapsed": true
   },
   "source": [
    "**The hull hypothesis should be the one, that essentially means \"has no effect\" or the status quo, it is infact $H_1$ that should have $\\mu$ < 30. We can use $H_0: \\mu = 30$ and find the probality that the P-value is less then the significance level to prove or disprove the null hypothesis**\n"
   ]
  },
  {
   "cell_type": "markdown",
   "metadata": {},
   "source": [
    "**Part C**: Finally on track with reasonable hypotheses of $H_0: \\mu = 30$ and $H_1: \\mu < 30$, Stevey computes a normalized test-statistic of $z = -1.35$ for the mean age and concludes that since $z = -1.35 < 0.05$ there is sufficient statistical evidence at the $\\alpha = 0.05$ significance level that the mean age of their customers is less than 30.  "
   ]
  },
  {
   "cell_type": "markdown",
   "metadata": {
    "collapsed": true
   },
   "source": [
    "**we dont compare the Z value with $\\alpha$, we use the Z value of -1.35 to find the P-value and compare it (P-value) with the significance level $\\alpha$, and based on that we can reject or accept the null hypothesis**"
   ]
  },
  {
   "cell_type": "markdown",
   "metadata": {},
   "source": [
    "**Part D**: This time, with the hypotheses again $H_0: \\mu = 30$ and $H_1: \\mu < 30$, Stevey computes a p-value of $0.03$, and thus concludes that there is only a 3% probability that the null hypothesis is true. "
   ]
  },
  {
   "cell_type": "markdown",
   "metadata": {
    "collapsed": true
   },
   "source": [
    "**Steve doesnt quite understand what the p-value and hypothisis testing represent, we cannot simply say, its 3% probability that the null hypothesis is true. Instead we use the p-value to make a conclusion on the null hypotheses. smaller P-value means that their is a the greater evedience against the null hypothsis, and vice verca.**"
   ]
  },
  {
   "cell_type": "markdown",
   "metadata": {},
   "source": [
    "### [10 points] Problem 2 - Scientists vs. P-Values \n",
    "***\n",
    "\n",
    "Read the following article from **FiveThirtyEight**: [Statisticians Found One Thing They Can Agree On: It's Time to Stop Misusing P-Values](http://fivethirtyeight.com/features/statisticians-found-one-thing-they-can-agree-on-its-time-to-stop-misusing-p-values/). In what ways are scientists misusing p-values?  What suggestions are being made to use them properly? "
   ]
  },
  {
   "cell_type": "markdown",
   "metadata": {
    "collapsed": true
   },
   "source": [
    "they are misusing it in a ways where, they assume a p-value can tell you if your hypothesis is correct, also that \"p-values can tell you the probability that a result occurred by chance\". some suggestions for this misuse, is to move away from the p-values and use instead confidence intervals or Bayesian analyses. "
   ]
  },
  {
   "cell_type": "markdown",
   "metadata": {},
   "source": [
    "### [20 points] Problem 3 - Evaluating Pizza Delivery Performance \n",
    "***\n",
    "\n",
    "The manager of a pizza chain with multiple locations likes to keep meticulous data on his pizza deliveries.  The data from more than 1200 deliveries in May 2014 is stored in pizza.csv. Load this data into a Pandas DataFrame. "
   ]
  },
  {
   "cell_type": "code",
   "execution_count": 2,
   "metadata": {},
   "outputs": [
    {
     "data": {
      "text/html": [
       "<div>\n",
       "<style>\n",
       "    .dataframe thead tr:only-child th {\n",
       "        text-align: right;\n",
       "    }\n",
       "\n",
       "    .dataframe thead th {\n",
       "        text-align: left;\n",
       "    }\n",
       "\n",
       "    .dataframe tbody tr th {\n",
       "        vertical-align: top;\n",
       "    }\n",
       "</style>\n",
       "<table border=\"1\" class=\"dataframe\">\n",
       "  <thead>\n",
       "    <tr style=\"text-align: right;\">\n",
       "      <th></th>\n",
       "      <th>day</th>\n",
       "      <th>date</th>\n",
       "      <th>time</th>\n",
       "      <th>operator</th>\n",
       "      <th>branch</th>\n",
       "      <th>driver</th>\n",
       "      <th>temperature</th>\n",
       "      <th>bill</th>\n",
       "      <th>pizzas</th>\n",
       "    </tr>\n",
       "  </thead>\n",
       "  <tbody>\n",
       "    <tr>\n",
       "      <th>0</th>\n",
       "      <td>Thursday</td>\n",
       "      <td>01-May-14</td>\n",
       "      <td>33.708636</td>\n",
       "      <td>Laura</td>\n",
       "      <td>East</td>\n",
       "      <td>Bruno</td>\n",
       "      <td>71.433084</td>\n",
       "      <td>58.4</td>\n",
       "      <td>4</td>\n",
       "    </tr>\n",
       "    <tr>\n",
       "      <th>1</th>\n",
       "      <td>Thursday</td>\n",
       "      <td>01-May-14</td>\n",
       "      <td>29.382070</td>\n",
       "      <td>Melissa</td>\n",
       "      <td>East</td>\n",
       "      <td>Salvatore</td>\n",
       "      <td>64.952920</td>\n",
       "      <td>26.4</td>\n",
       "      <td>2</td>\n",
       "    </tr>\n",
       "    <tr>\n",
       "      <th>2</th>\n",
       "      <td>Thursday</td>\n",
       "      <td>01-May-14</td>\n",
       "      <td>33.580664</td>\n",
       "      <td>Melissa</td>\n",
       "      <td>West</td>\n",
       "      <td>Salvatore</td>\n",
       "      <td>49.113452</td>\n",
       "      <td>58.1</td>\n",
       "      <td>3</td>\n",
       "    </tr>\n",
       "    <tr>\n",
       "      <th>3</th>\n",
       "      <td>Thursday</td>\n",
       "      <td>01-May-14</td>\n",
       "      <td>32.505369</td>\n",
       "      <td>Melissa</td>\n",
       "      <td>East</td>\n",
       "      <td>Salvatore</td>\n",
       "      <td>64.872559</td>\n",
       "      <td>35.2</td>\n",
       "      <td>3</td>\n",
       "    </tr>\n",
       "    <tr>\n",
       "      <th>4</th>\n",
       "      <td>Thursday</td>\n",
       "      <td>01-May-14</td>\n",
       "      <td>25.493613</td>\n",
       "      <td>Melissa</td>\n",
       "      <td>West</td>\n",
       "      <td>Salvatore</td>\n",
       "      <td>59.630052</td>\n",
       "      <td>38.4</td>\n",
       "      <td>2</td>\n",
       "    </tr>\n",
       "  </tbody>\n",
       "</table>\n",
       "</div>"
      ],
      "text/plain": [
       "        day       date       time operator branch     driver  temperature  \\\n",
       "0  Thursday  01-May-14  33.708636    Laura   East      Bruno    71.433084   \n",
       "1  Thursday  01-May-14  29.382070  Melissa   East  Salvatore    64.952920   \n",
       "2  Thursday  01-May-14  33.580664  Melissa   West  Salvatore    49.113452   \n",
       "3  Thursday  01-May-14  32.505369  Melissa   East  Salvatore    64.872559   \n",
       "4  Thursday  01-May-14  25.493613  Melissa   West  Salvatore    59.630052   \n",
       "\n",
       "   bill  pizzas  \n",
       "0  58.4       4  \n",
       "1  26.4       2  \n",
       "2  58.1       3  \n",
       "3  35.2       3  \n",
       "4  38.4       2  "
      ]
     },
     "execution_count": 2,
     "metadata": {},
     "output_type": "execute_result"
    }
   ],
   "source": [
    "df = pd.read_csv('data/pizza.csv')\n",
    "df.head()\n"
   ]
  },
  {
   "cell_type": "markdown",
   "metadata": {},
   "source": [
    "**Part A**: The manager's goal is to have an average delivery time across all branches of less than 30 minutes.  Perform an appropriate hypothesis test at the $\\alpha=0.05$ significance level to evaluate whether this goal has been achieved.  Be sure to clearly state your null and alternate hypothesis, describe your testing procedure, and show all calculations in Python. "
   ]
  },
  {
   "cell_type": "markdown",
   "metadata": {},
   "source": [
    "$H_0$ = delevery time average; $\\mu = 30$ \n",
    "\n",
    "$H_1$ = delevery takes less then 30 minutes; $\\mu < 30$ \n",
    "\n",
    "from data $\\mu_{time}$ = 29.455 \n",
    "\n",
    "$$ Z = \\frac{\\bar{x} - \\mu }{\\frac{std}{\\sqrt{n}}}$$"
   ]
  },
  {
   "cell_type": "code",
   "execution_count": 3,
   "metadata": {},
   "outputs": [
    {
     "name": "stdout",
     "output_type": "stream",
     "text": [
      "Z = -3.17120774749 and its corrsponding pvalue is 0.000759032671812\n",
      "Z_alpha = -1.64485362695 and its corrsponding pvalue is 0.05\n",
      "\n",
      "The Pvalue is in the rejection region so\n",
      "Reject the null hypothesis\n"
     ]
    }
   ],
   "source": [
    "mu = df.time.mean()\n",
    "std = df.time.std()\n",
    "\n",
    "\n",
    "zValue = (mu - 30)/(std/np.sqrt(len(df.index)))\n",
    "print(\"Z =\",zValue,\"and its corrsponding pvalue is\",stats.norm.cdf(zValue))\n",
    "\n",
    "z_alpha = stats.norm.ppf(0.05)\n",
    "print(\"Z_alpha =\",z_alpha,\"and its corrsponding pvalue is\",stats.norm.cdf(z_alpha))\n",
    "\n",
    "#compare pvalues using stats.norm.cdf\n",
    "\n",
    "if(stats.norm.cdf(zValue) < stats.norm.cdf(z_alpha)):\n",
    "    print(\"\\nThe Pvalue is in the rejection region so\" )\n",
    "    print(\"Reject the null hypothesis\")\n",
    "else:\n",
    "    print(\"\\nThe Pvalue is not in the rejection region so\" )\n",
    "    print(\"Reject the altrnative hypothesis\")\n"
   ]
  },
  {
   "cell_type": "markdown",
   "metadata": {},
   "source": [
    "since -3.17120774749 < -1.64485362695 we reject the null hypothesis and conclude that there is enough evidence at the 5% significant level that the alternative hypothesis is correct and $\\mu$ is less then 30\n"
   ]
  },
  {
   "cell_type": "markdown",
   "metadata": {},
   "source": [
    "**Part B**: The manager also has the goal of having an average delivery temperature across all branches of greater than 65F.  Perform an appropriate hypothesis test at the $\\alpha=0.05$ significance level to evaluate whether this goal has been achieved.  Be sure to clearly state your null and alternate hypothesis, describe your testing procedure, and show all calculations in Python. "
   ]
  },
  {
   "cell_type": "markdown",
   "metadata": {},
   "source": [
    "$H_0$ = average temp; $\\mu = 65$ \n",
    "\n",
    "$H_1$ = average temp is greater then 65; $\\mu > 65$ \n",
    "\n",
    "from data $\\mu_{temp} = 65.274$\n",
    "$$ Z = \\frac{\\bar{x} - \\mu }{\\frac{std}{\\sqrt{n}}}$$"
   ]
  },
  {
   "cell_type": "code",
   "execution_count": 4,
   "metadata": {},
   "outputs": [
    {
     "data": {
      "text/html": [
       "<div>\n",
       "<style>\n",
       "    .dataframe thead tr:only-child th {\n",
       "        text-align: right;\n",
       "    }\n",
       "\n",
       "    .dataframe thead th {\n",
       "        text-align: left;\n",
       "    }\n",
       "\n",
       "    .dataframe tbody tr th {\n",
       "        vertical-align: top;\n",
       "    }\n",
       "</style>\n",
       "<table border=\"1\" class=\"dataframe\">\n",
       "  <thead>\n",
       "    <tr style=\"text-align: right;\">\n",
       "      <th></th>\n",
       "      <th>day</th>\n",
       "      <th>date</th>\n",
       "      <th>time</th>\n",
       "      <th>operator</th>\n",
       "      <th>branch</th>\n",
       "      <th>driver</th>\n",
       "      <th>temperature</th>\n",
       "      <th>bill</th>\n",
       "      <th>pizzas</th>\n",
       "    </tr>\n",
       "  </thead>\n",
       "  <tbody>\n",
       "    <tr>\n",
       "      <th>0</th>\n",
       "      <td>Thursday</td>\n",
       "      <td>01-May-14</td>\n",
       "      <td>33.708636</td>\n",
       "      <td>Laura</td>\n",
       "      <td>East</td>\n",
       "      <td>Bruno</td>\n",
       "      <td>71.433084</td>\n",
       "      <td>58.4</td>\n",
       "      <td>4</td>\n",
       "    </tr>\n",
       "    <tr>\n",
       "      <th>1</th>\n",
       "      <td>Thursday</td>\n",
       "      <td>01-May-14</td>\n",
       "      <td>29.382070</td>\n",
       "      <td>Melissa</td>\n",
       "      <td>East</td>\n",
       "      <td>Salvatore</td>\n",
       "      <td>64.952920</td>\n",
       "      <td>26.4</td>\n",
       "      <td>2</td>\n",
       "    </tr>\n",
       "    <tr>\n",
       "      <th>2</th>\n",
       "      <td>Thursday</td>\n",
       "      <td>01-May-14</td>\n",
       "      <td>33.580664</td>\n",
       "      <td>Melissa</td>\n",
       "      <td>West</td>\n",
       "      <td>Salvatore</td>\n",
       "      <td>49.113452</td>\n",
       "      <td>58.1</td>\n",
       "      <td>3</td>\n",
       "    </tr>\n",
       "    <tr>\n",
       "      <th>3</th>\n",
       "      <td>Thursday</td>\n",
       "      <td>01-May-14</td>\n",
       "      <td>32.505369</td>\n",
       "      <td>Melissa</td>\n",
       "      <td>East</td>\n",
       "      <td>Salvatore</td>\n",
       "      <td>64.872559</td>\n",
       "      <td>35.2</td>\n",
       "      <td>3</td>\n",
       "    </tr>\n",
       "    <tr>\n",
       "      <th>4</th>\n",
       "      <td>Thursday</td>\n",
       "      <td>01-May-14</td>\n",
       "      <td>25.493613</td>\n",
       "      <td>Melissa</td>\n",
       "      <td>West</td>\n",
       "      <td>Salvatore</td>\n",
       "      <td>59.630052</td>\n",
       "      <td>38.4</td>\n",
       "      <td>2</td>\n",
       "    </tr>\n",
       "  </tbody>\n",
       "</table>\n",
       "</div>"
      ],
      "text/plain": [
       "        day       date       time operator branch     driver  temperature  \\\n",
       "0  Thursday  01-May-14  33.708636    Laura   East      Bruno    71.433084   \n",
       "1  Thursday  01-May-14  29.382070  Melissa   East  Salvatore    64.952920   \n",
       "2  Thursday  01-May-14  33.580664  Melissa   West  Salvatore    49.113452   \n",
       "3  Thursday  01-May-14  32.505369  Melissa   East  Salvatore    64.872559   \n",
       "4  Thursday  01-May-14  25.493613  Melissa   West  Salvatore    59.630052   \n",
       "\n",
       "   bill  pizzas  \n",
       "0  58.4       4  \n",
       "1  26.4       2  \n",
       "2  58.1       3  \n",
       "3  35.2       3  \n",
       "4  38.4       2  "
      ]
     },
     "execution_count": 4,
     "metadata": {},
     "output_type": "execute_result"
    }
   ],
   "source": [
    "df.head()"
   ]
  },
  {
   "cell_type": "code",
   "execution_count": 5,
   "metadata": {},
   "outputs": [
    {
     "name": "stdout",
     "output_type": "stream",
     "text": [
      "Z = 1.3820886485 and its corrsponding pvalue is 0.916527758257\n",
      "Z_alpha = 1.64485362695 and its corrsponding pvalue is 0.95\n",
      "\n",
      "The Pvalue is not in the rejection region so\n",
      "Reject the altrnative hypothesis\n"
     ]
    }
   ],
   "source": [
    "mu = df.temperature.mean()\n",
    "std = df.temperature.std()\n",
    "\n",
    "zValue = (mu - 65)/(std/np.sqrt(1266))\n",
    "z_alpha = stats.norm.ppf(0.95)\n",
    "print(\"Z =\",zValue,\"and its corrsponding pvalue is\",stats.norm.cdf(zValue))\n",
    "\n",
    "print(\"Z_alpha =\",z_alpha,\"and its corrsponding pvalue is\",stats.norm.cdf(z_alpha))\n",
    "\n",
    "\n",
    "if(stats.norm.cdf(zValue) > stats.norm.cdf(z_alpha)):\n",
    "    print(\"\\nThe Pvalue is in the rejection region so\" )\n",
    "    print(\"Reject the null hypothesis\")\n",
    "else:\n",
    "    print(\"\\nThe Pvalue is not in the rejection region so\" )\n",
    "    print(\"Reject the altrnative hypothesis\")\n",
    "\n"
   ]
  },
  {
   "cell_type": "markdown",
   "metadata": {},
   "source": [
    "since the zvalue falls below the rejection region, this means that we cannot reject the null hypothesis"
   ]
  },
  {
   "cell_type": "markdown",
   "metadata": {},
   "source": [
    "**Part C**: The manager has enough money to give one of his delivery drivers a raise based on good performance. He knows from the data that his two best drivers are Mario and Luigi, but he's not sure if there is evidence that either one is better than the other.  Using delivery time and temperature as the criteria, perform any necessary hypothesis tests at the $\\alpha = 0.05$ significance level, to determine if one of the drivers deserves a raise. Be sure to clearly describe your hypotheses and methodology, and show any relevant computations in Python. "
   ]
  },
  {
   "cell_type": "code",
   "execution_count": 6,
   "metadata": {
    "collapsed": true
   },
   "outputs": [],
   "source": [
    "dfMario = df.loc[df[\"driver\"] ==\"Mario\"]\n",
    "dfLuigi = df.loc[df[\"driver\"] ==\"Luigi\"]\n",
    "\n",
    "AVGTime_M = dfMario.time.mean()\n",
    "STD_TIME_M = dfMario.time.std()\n",
    "\n",
    "AVGTemp_M = dfMario.temperature.mean()\n",
    "STD_TEMP_M = dfMario.temperature.std()\n",
    "\n",
    "AVGTime_L = dfLuigi.time.mean()\n",
    "STD_TIME_L = dfLuigi.time.std()\n",
    "\n",
    "AVGTemp_L = dfLuigi.temperature.mean()\n",
    "STD_TEMP_L = dfLuigi.temperature.std()\n"
   ]
  },
  {
   "cell_type": "markdown",
   "metadata": {},
   "source": [
    "We will use the same NULL and ALTRNATIVE hypothesis\n",
    "\n",
    "$H_0$ = delevery time average; $\\mu = 30$ \n",
    "\n",
    "$H_1$ = delevery takes less then 30 minutes; $\\mu < 30$ \n",
    "\n",
    "$H_0$ = average temp; $\\mu = 65$ \n",
    "\n",
    "$H_1$ = average temp is greater then 65; $\\mu > 65$ "
   ]
  },
  {
   "cell_type": "code",
   "execution_count": 7,
   "metadata": {},
   "outputs": [
    {
     "name": "stdout",
     "output_type": "stream",
     "text": [
      "Z value for Time is -2.89288695267 z value of alpha is  -1.64485362695\n",
      "Z value for Temperature is 0.951139172716 z value of alpha is  1.64485362695 \n",
      "\n",
      "Z value for Time is -1.93821949118 z value of alpha is  -1.64485362695\n",
      "Z value for Temperature is 1.70605553965 z value of alpha is  1.64485362695\n"
     ]
    }
   ],
   "source": [
    "#Marios Hypothesis tests\n",
    "ZvalueTIME_M = (AVGTime_M - 30) / (STD_TIME_M /np.sqrt(len(dfMario.index)))\n",
    "ZvalueTEMP_M = (AVGTemp_M - 65) / (STD_TEMP_M /np.sqrt(len(dfMario.index)))\n",
    "print(\"Z value for Time is\",ZvalueTIME_M, \"z value of alpha is \",-1*z_alpha)\n",
    "print(\"Z value for Temperature is\",ZvalueTEMP_M, \"z value of alpha is \",z_alpha,\"\\n\")\n",
    "\n",
    "#luigis Hypothesis tests\n",
    "ZvalueTIME_L = (AVGTime_L - 30) / (STD_TIME_L /np.sqrt(len(dfLuigi.index)))\n",
    "ZvalueTEMP_L = (AVGTemp_L - 65) / (STD_TEMP_L /np.sqrt(len(dfLuigi.index)))\n",
    "print(\"Z value for Time is\",ZvalueTIME_L, \"z value of alpha is \",-1*z_alpha)\n",
    "print(\"Z value for Temperature is\",ZvalueTEMP_L, \"z value of alpha is \",z_alpha)\n"
   ]
  },
  {
   "cell_type": "markdown",
   "metadata": {},
   "source": [
    "So i did the same hypothesis tests as part A & B but on just Marios and Luigis deliveries. From the results, i found that both of Luigis critira of temp and time suggests at the 5% significant level to reject the null hypothesis. While for mario only in the time critira we could reject the null hypothesis on a 5% significant level. This means that luigis average delivery time and average temperature was both less then 30 and greater then 65. **With this information I would suggest that Luigi is the better candiate to get a raise**"
   ]
  },
  {
   "cell_type": "markdown",
   "metadata": {},
   "source": [
    "**Part D**: On the other hand, the manager suspects that Salvatore has been underperforming as a driver.  The manager has a policy that if a pizza takes 40 minutes or longer to be delivered, he has to fork over a free bottle of wine.  This policy is only financially viable for the pizza chain if they have give out free wine on less than 5% of all pizza deliveries.  Perform a hypothesis test at the $\\alpha = 0.05$ significance level to determine if there is significant evidence that the proportion of Salvatore's deliveries that take longer than 40 minutes is greater than 5%.  "
   ]
  },
  {
   "cell_type": "code",
   "execution_count": 8,
   "metadata": {},
   "outputs": [
    {
     "name": "stdout",
     "output_type": "stream",
     "text": [
      "The Precent of TOTAL deliveries that are over 40 minutes is 3.63349131122 %\n",
      "This value is less then 5% so this policy is financially viable\n",
      "\n",
      "\n",
      "The Precent of Salvatores deliveries that are over 40 minutes is 5.52325581395 %\n",
      "This value is greater then 5% so this policy is NOT financially viable\n"
     ]
    }
   ],
   "source": [
    "#information from the data\n",
    "print(\"The Precent of TOTAL deliveries that are over 40 minutes is\",100*np.sum(df.time > 40)/len(df.index),\"%\\nThis value is less then 5% so this policy is financially viable\\n\\n\")\n",
    "\n",
    "dfSalv = df.loc[df.driver == \"Salvatore\"]\n",
    "print(\"The Precent of Salvatores deliveries that are over 40 minutes is\",100*np.sum(dfSalv.time > 40)/len(dfSalv.index),\"%\\nThis value is greater then 5% so this policy is NOT financially viable\")\n"
   ]
  },
  {
   "cell_type": "markdown",
   "metadata": {},
   "source": [
    "Hypothesis Testing \n",
    "\n",
    "$H_0 = 5\\%$\n",
    "\n",
    "$H_1 > 5\\%$"
   ]
  },
  {
   "cell_type": "code",
   "execution_count": 9,
   "metadata": {},
   "outputs": [
    {
     "name": "stdout",
     "output_type": "stream",
     "text": [
      "Zvalue for salvatars is  1.52536273895 this value is less then the Z_alpha 1.64485362695\n",
      "Thus we cannot reject the null hypothesis\n",
      "This means that salvators deliveries proportion is infact above 5%\n"
     ]
    }
   ],
   "source": [
    "percent_40 = 100*np.sum(dfSalv.time > 40)/len(dfSalv.index)\n",
    "std= dfSalv.time.std()\n",
    "z_alpha = stats.norm.ppf(0.95)\n",
    "\n",
    "#not sure what values to use for std and np.sqrt(n)\n",
    "Zvalue_S =(percent_40 - 5)/( std / np.sqrt(len(dfSalv.index)))\n",
    "\n",
    "print(\"Zvalue for salvatars is \",Zvalue_S,\"this value is less then the Z_alpha\",z_alpha)\n",
    "print(\"Thus we cannot reject the null hypothesis\\nThis means that salvators deliveries proportion is infact above 5%\")\n"
   ]
  },
  {
   "cell_type": "markdown",
   "metadata": {},
   "source": [
    "### [15 points] Problem 4 - Naps vs Coffee for Memory? \n",
    "***\n",
    "\n",
    "The consumption of coffee to benefit alertness is a common activity practiced by 90% of adults in North America. Often coffee is used to replace the need for sleep. One recent study compares students’ ability to recall memorized information after either the consumption of coffee or a brief nap. A random sample of 24 adults\n",
    "were randomly divided into two groups and verbally given a list\n",
    "of 25 words to memorize. During a break, one of the groups took a nap for an hour and a half,\n",
    "another group stayed awake and were given a coffee an hour prior to testing. Researchers measured the number of words participants were\n",
    "able to recall following the break. The summary statistics for the two groups are shown below.\n",
    "\n",
    "$$\n",
    "\\begin{array}{c|c|c|c}\n",
    "\\textrm{Group} & \\textrm{Sample Size} & \\textrm{Mean} & \\textrm{Standard Deviation} \\\\\n",
    "\\hline \n",
    "\\textrm{Nap} & 12 & 15.5 & 3.2 \\\\ \n",
    "\\textrm{Coffee} & 12 & 12.25 & 3.1 \\\\ \n",
    "\\end{array}\n",
    "$$\n",
    "\n",
    "In previous experiments the mean recall measurement was found to be normally distributed. \n",
    "\n",
    "**Part A**: Compute a 95% t-confidence interval for the mean recall measurement for participants that took a nap before the test. Do all computations in Python. \n",
    "\n",
    "$$ \\bar{x} \\pm t_{\\frac{\\alpha}{2},n-1} ~ \\frac{S}{\\sqrt{n}} $$"
   ]
  },
  {
   "cell_type": "code",
   "execution_count": 10,
   "metadata": {},
   "outputs": [
    {
     "name": "stdout",
     "output_type": "stream",
     "text": [
      "The T-Confidence interval for mean recall for naping before test is  (13.46681700054998, 17.53318299945002)\n"
     ]
    }
   ],
   "source": [
    "n = 12\n",
    "alpha = 1 - 0.05/2\n",
    "\n",
    "xbar_nap = 15.5\n",
    "xbar_coffee = 12.25\n",
    "\n",
    "std_nap = 3.2\n",
    "std_coffee = 3.1\n",
    "\n",
    "\n",
    "tvalue = stats.t.ppf(alpha, n-1)\n",
    "\n",
    "nap_T_CI = (xbar_nap - tvalue*(std_nap/np.sqrt(n))),(xbar_nap + tvalue*(std_nap/np.sqrt(n)))\n",
    "print(\"The T-Confidence interval for mean recall for naping before test is \",nap_T_CI)"
   ]
  },
  {
   "cell_type": "markdown",
   "metadata": {},
   "source": [
    "**Part B**: Is there sufficient evidence, at the $\\alpha = 0.5$ significance level, to conclude that taking a nap promotes better memory recall that drinking coffee?  Be sure to clearly explain the test that you're doing and state all hypotheses. Do all computations in Python. \n",
    "\n",
    "**I Will do a hypothesis test with the following null and altrnative hypothesis, and find the z value witht he following equation**"
   ]
  },
  {
   "cell_type": "markdown",
   "metadata": {},
   "source": [
    "$H_0: \\mu_{Coffee} = \\mu_{nap}: \\mu_{Coffee} - \\mu_{nap} = 0 $\n",
    "\n",
    "$H_1: \\mu_{Coffee} - \\mu_{nap} > 0 $\n",
    "\n",
    "we will use:\n",
    "\n",
    "$$z = \\frac{(\\mu_1 - \\mu_2) - C}{\\sqrt{\\frac{\\sigma^2_1}{m} + \\frac{\\sigma^2_2}{n}}} $$"
   ]
  },
  {
   "cell_type": "code",
   "execution_count": 11,
   "metadata": {},
   "outputs": [
    {
     "name": "stdout",
     "output_type": "stream",
     "text": [
      "Z value is  -2.52693300826  its p value is  0.005753172435\n",
      "\n",
      "The Pvalue is in the rejection region so\n",
      "Reject the null hypothesis\n"
     ]
    }
   ],
   "source": [
    "c = 0\n",
    "z = ((xbar_coffee - xbar_nap) - c)/ (np.sqrt(((std_coffee**2) / n) + ((std_nap**2)/n)))\n",
    "print(\"Z value is \",z,\" its p value is \",stats.norm.cdf(z))\n",
    "z_alpha = 0.05\n",
    "\n",
    "if(stats.norm.cdf(z) < z_alpha):\n",
    "    print(\"\\nThe Pvalue is in the rejection region so\" )\n",
    "    print(\"Reject the null hypothesis\")\n",
    "else:\n",
    "    print(\"\\nThe Pvalue is not in the rejection region so\" )\n",
    "    print(\"Reject the altrnative hypothesis\")\n"
   ]
  },
  {
   "cell_type": "markdown",
   "metadata": {},
   "source": [
    "**Part C**: Compute a 95% confidence interval for the standard deviation of memory recall for coffee drinkers. Do all computations in Python.\n",
    "\n",
    "$$\\sqrt{\\frac{(n-1)~S^{2}}{X^2_{\\frac{\\alpha}{2},n-1}}} < \\sigma < \\sqrt{\\frac{(n-1)~S^{2}}{X^2_{1-\\frac{\\alpha}{2},n-1}}} $$"
   ]
  },
  {
   "cell_type": "code",
   "execution_count": 12,
   "metadata": {},
   "outputs": [
    {
     "name": "stdout",
     "output_type": "stream",
     "text": [
      "The CI for STD is 5.26342185494 and 2.19602496767\n"
     ]
    }
   ],
   "source": [
    "n = 12\n",
    "S2 = 3.1 * 3.1\n",
    "chi_alpha = stats.chi2.ppf((0.05/2),n-1)\n",
    "chi_oneMinusalpha = stats.chi2.ppf(1-(0.05/2),n-1)\n",
    "\n",
    "print(\"The CI for STD is\",np.sqrt((n - 1)*S2/chi_alpha),\"and\", np.sqrt((n - 1)*S2/chi_oneMinusalpha))\n",
    "\n"
   ]
  },
  {
   "cell_type": "markdown",
   "metadata": {},
   "source": [
    "### [20 points] Problem 5 - Bad Science for Fun and Profit \n",
    "***\n",
    "\n",
    "[Data Dredging](https://en.wikipedia.org/wiki/Data_dredging) and [p-hacking](https://www.explainxkcd.com/wiki/index.php/882:_Significant) are umbrella terms for the dangerous practice of automatically testing a large number of hypotheses on the entirety or subsets of a single dataset in order to find statistically significant results. In this exercise we will focus on the idea of testing hypotheses on subsets of a single data set.  \n",
    "\n",
    "Johnny Nefarious has landed his first data science internship at an online marketing firm.  His primary summer project has been to design and test a new email advertisement for his company's best-selling product. To test his advertisement his supervisors have allowed him to send his ad to 4 targeted customer groups of 50 people every day for a month. \n",
    "\n",
    "The effectiveness of online advertising is typically measured by the ad's [click-through rate](https://en.wikipedia.org/wiki/Click-through_rate) (CTR), which is defined to be the _proportion_ of users that click on an advertisement. The company's standard email advertisement has a CTR of $0.05$.  Johnny is hoping to land a permanent position at the company when he graduates, so he's **really** motivated to show his supervisors that the CTR of his email advertisement is a (statistically) significant improvement over their previous ad. \n",
    "\n",
    "The data from Johnny's summer experiment can be found in email.csv. Load this dataset into Pandas. "
   ]
  },
  {
   "cell_type": "code",
   "execution_count": 13,
   "metadata": {},
   "outputs": [
    {
     "name": "stdout",
     "output_type": "stream",
     "text": [
      "MU = 0.05209677419354832\n",
      "STD = 0.030690540200561084\n"
     ]
    }
   ],
   "source": [
    "\n",
    "dfEmail = pd.read_csv(\"data/email.csv\")\n",
    "\n",
    "mu = (dfEmail.Clicked/50).mean()\n",
    "std = (dfEmail.Clicked/50).std()\n",
    "\n",
    "print(\"MU =\",mu)\n",
    "print(\"STD =\",std)\n"
   ]
  },
  {
   "cell_type": "markdown",
   "metadata": {},
   "source": [
    "**Part A**: State the null and alternate hypotheses that Johnny should test to see if his ad campaign is an improvement over the company's standard mailer with a CTR of $0.05$. \n",
    "\n",
    "$H_0 : \\mu = 0.05$\n",
    "\n",
    "$H_1 : \\mu > 0.05$"
   ]
  },
  {
   "cell_type": "markdown",
   "metadata": {},
   "source": [
    "**Part B**: Test the hypothesis from **Part A** at the $\\alpha = 0.05$ significance level using a p-value test. Is there sufficient evidence for Johnny to conclude that his ad campaign is an improvement?   "
   ]
  },
  {
   "cell_type": "code",
   "execution_count": 14,
   "metadata": {},
   "outputs": [
    {
     "name": "stdout",
     "output_type": "stream",
     "text": [
      "0.760778047923\n",
      "\n",
      "The Pvalue is not in the rejection region so\n",
      "Reject the altrnative hypothesis\n"
     ]
    }
   ],
   "source": [
    "zValue = (mu - 0.05)/(std/np.sqrt(len(dfEmail.index)))\n",
    "z_alpha = stats.norm.ppf(0.95)\n",
    "print(zValue)\n",
    "\n",
    "if(stats.norm.cdf(zValue) > stats.norm.cdf(z_alpha)):\n",
    "    print(\"\\nThe Pvalue is in the rejection region so\" )\n",
    "    print(\"Reject the null hypothesis\")\n",
    "else:\n",
    "    print(\"\\nThe Pvalue is not in the rejection region so\" )\n",
    "    print(\"Reject the altrnative hypothesis\")\n"
   ]
  },
  {
   "cell_type": "markdown",
   "metadata": {},
   "source": [
    "**Part C**: Bummer, Johnny thinks. This is the part where he decides to resort to some questionable science.  Maybe there is a reasonable subset of the data for which his alternative hypothesis is supported?  Can he find it?  Can he come up for a reasonable justification for why this subset of the data should be considered while the rest should be discarded? \n",
    "\n",
    "Here are the **rules**: Johnny cannot modify the original data (e.g. by adding nonexistent clicks to certain groups or days) because his boss will surely notice.  Instead he needs to find a subset of the data for which his hypothesis is supported by a p-value test at the $\\alpha = 0.05$ significance level _and_ be able to explain to his supervisors why his sub-selection of the data is reasonable.  \n",
    "\n",
    "In addition to your explanation of why your successful subset of the data is potentially reasonable, be sure to thoroughly explain the details of the tests that you perform and show all of your Python computation.  "
   ]
  },
  {
   "cell_type": "code",
   "execution_count": 15,
   "metadata": {},
   "outputs": [
    {
     "name": "stdout",
     "output_type": "stream",
     "text": [
      "cleaned MU = 0.05238095238095241\n",
      "cleaned STD = 0.03181165771883441\n",
      "\n",
      "The Pvalue is not in the rejection region so\n",
      "Reject the altrnative hypothesis\n"
     ]
    }
   ],
   "source": [
    "#test: subset = all values included, but the nan dates\n",
    "dfclean = dfEmail.dropna()\n",
    "\n",
    "mu = (dfclean.Clicked/50).mean()\n",
    "std = (dfclean.Clicked/50).std()\n",
    "\n",
    "\n",
    "print(\"cleaned MU =\",mu)\n",
    "print(\"cleaned STD =\",std)\n",
    "\n",
    "zValue = (mu - 0.05)/(std/np.sqrt(len(dfclean.index)))\n",
    "if(stats.norm.cdf(zValue) > stats.norm.cdf(z_alpha)):\n",
    "    print(\"\\nThe Pvalue is in the rejection region so\" )\n",
    "    print(\"Reject the null hypothesis\")\n",
    "else:\n",
    "    print(\"\\nThe Pvalue is not in the rejection region so\" )\n",
    "    print(\"Reject the altrnative hypothesis\")\n",
    "\n",
    "#The test still fails, so its not a valid subset"
   ]
  },
  {
   "cell_type": "code",
   "execution_count": 16,
   "metadata": {},
   "outputs": [
    {
     "name": "stdout",
     "output_type": "stream",
     "text": [
      "What group would you like to test?1\n",
      "\n",
      "You are testing group 1 \n",
      "\n",
      "MU = 0.04645161290322582\n",
      "STD = 0.027513437577151786\n",
      "The Z Value is : -0.718070330817 its corrsponding p value is 0.236356961368\n",
      "\n",
      "The Pvalue is not in the rejection region so\n",
      "Reject the altrnative hypothesis\n"
     ]
    },
    {
     "data": {
      "text/html": [
       "<div>\n",
       "<style>\n",
       "    .dataframe thead tr:only-child th {\n",
       "        text-align: right;\n",
       "    }\n",
       "\n",
       "    .dataframe thead th {\n",
       "        text-align: left;\n",
       "    }\n",
       "\n",
       "    .dataframe tbody tr th {\n",
       "        vertical-align: top;\n",
       "    }\n",
       "</style>\n",
       "<table border=\"1\" class=\"dataframe\">\n",
       "  <thead>\n",
       "    <tr style=\"text-align: right;\">\n",
       "      <th></th>\n",
       "      <th>Group</th>\n",
       "      <th>Date</th>\n",
       "      <th>Sent</th>\n",
       "      <th>Clicked</th>\n",
       "    </tr>\n",
       "  </thead>\n",
       "  <tbody>\n",
       "    <tr>\n",
       "      <th>0</th>\n",
       "      <td>1</td>\n",
       "      <td>NaN</td>\n",
       "      <td>50</td>\n",
       "      <td>1</td>\n",
       "    </tr>\n",
       "    <tr>\n",
       "      <th>1</th>\n",
       "      <td>1</td>\n",
       "      <td>Oct  2 2017</td>\n",
       "      <td>50</td>\n",
       "      <td>2</td>\n",
       "    </tr>\n",
       "    <tr>\n",
       "      <th>2</th>\n",
       "      <td>1</td>\n",
       "      <td>Oct  3 2017</td>\n",
       "      <td>50</td>\n",
       "      <td>4</td>\n",
       "    </tr>\n",
       "    <tr>\n",
       "      <th>3</th>\n",
       "      <td>1</td>\n",
       "      <td>NaN</td>\n",
       "      <td>50</td>\n",
       "      <td>5</td>\n",
       "    </tr>\n",
       "    <tr>\n",
       "      <th>4</th>\n",
       "      <td>1</td>\n",
       "      <td>Oct  5 2017</td>\n",
       "      <td>50</td>\n",
       "      <td>1</td>\n",
       "    </tr>\n",
       "  </tbody>\n",
       "</table>\n",
       "</div>"
      ],
      "text/plain": [
       "   Group         Date  Sent  Clicked\n",
       "0      1          NaN    50        1\n",
       "1      1  Oct  2 2017    50        2\n",
       "2      1  Oct  3 2017    50        4\n",
       "3      1          NaN    50        5\n",
       "4      1  Oct  5 2017    50        1"
      ]
     },
     "execution_count": 16,
     "metadata": {},
     "output_type": "execute_result"
    }
   ],
   "source": [
    "#Test: subset = Johnny isolates each groups into subsets\n",
    "\n",
    "group = input(\"What group would you like to test?\");\n",
    "print(\"\\nYou are testing group\",group,\"\\n\")\n",
    "dfnew = dfEmail.loc[dfEmail.Group == int(group)]\n",
    "\n",
    "mu = (dfnew.Clicked/50).mean()\n",
    "std = (dfnew.Clicked/50).std()\n",
    "\n",
    "print(\"MU =\",mu)\n",
    "print(\"STD =\",std)\n",
    "\n",
    "zValue = (mu - 0.05)/(std/np.sqrt(len(dfnew.index)))\n",
    "print(\"The Z Value is :\",zValue,\"its corrsponding p value is\",stats.norm.cdf(zValue))\n",
    "\n",
    "if(stats.norm.cdf(zValue) > stats.norm.cdf(z_alpha)):\n",
    "    print(\"\\nThe Pvalue is in the rejection region so\" )\n",
    "    print(\"Reject the null hypothesis\")\n",
    "else:\n",
    "    print(\"\\nThe Pvalue is not in the rejection region so\" )\n",
    "    print(\"Reject the altrnative hypothesis\")\n",
    "dfnew.head()\n",
    "\n",
    "#The test succedes only when group 2 was tested"
   ]
  },
  {
   "cell_type": "code",
   "execution_count": 17,
   "metadata": {},
   "outputs": [
    {
     "name": "stdout",
     "output_type": "stream",
     "text": [
      "MU = 0.06382978723404252\n",
      "STD = 0.02544681922277112\n",
      "The Z Value is : 5.26921501818 its corrsponding p value is 0.999999931496\n",
      "\n",
      "The Pvalue is in the rejection region so\n",
      "Reject the null hypothesis\n"
     ]
    },
    {
     "data": {
      "text/html": [
       "<div>\n",
       "<style>\n",
       "    .dataframe thead tr:only-child th {\n",
       "        text-align: right;\n",
       "    }\n",
       "\n",
       "    .dataframe thead th {\n",
       "        text-align: left;\n",
       "    }\n",
       "\n",
       "    .dataframe tbody tr th {\n",
       "        vertical-align: top;\n",
       "    }\n",
       "</style>\n",
       "<table border=\"1\" class=\"dataframe\">\n",
       "  <thead>\n",
       "    <tr style=\"text-align: right;\">\n",
       "      <th></th>\n",
       "      <th>Group</th>\n",
       "      <th>Date</th>\n",
       "      <th>Sent</th>\n",
       "      <th>Clicked</th>\n",
       "    </tr>\n",
       "  </thead>\n",
       "  <tbody>\n",
       "    <tr>\n",
       "      <th>1</th>\n",
       "      <td>1</td>\n",
       "      <td>Oct  2 2017</td>\n",
       "      <td>50</td>\n",
       "      <td>2</td>\n",
       "    </tr>\n",
       "    <tr>\n",
       "      <th>2</th>\n",
       "      <td>1</td>\n",
       "      <td>Oct  3 2017</td>\n",
       "      <td>50</td>\n",
       "      <td>4</td>\n",
       "    </tr>\n",
       "    <tr>\n",
       "      <th>3</th>\n",
       "      <td>1</td>\n",
       "      <td>NaN</td>\n",
       "      <td>50</td>\n",
       "      <td>5</td>\n",
       "    </tr>\n",
       "    <tr>\n",
       "      <th>5</th>\n",
       "      <td>1</td>\n",
       "      <td>Oct  6 2017</td>\n",
       "      <td>50</td>\n",
       "      <td>3</td>\n",
       "    </tr>\n",
       "    <tr>\n",
       "      <th>6</th>\n",
       "      <td>1</td>\n",
       "      <td>NaN</td>\n",
       "      <td>50</td>\n",
       "      <td>2</td>\n",
       "    </tr>\n",
       "  </tbody>\n",
       "</table>\n",
       "</div>"
      ],
      "text/plain": [
       "   Group         Date  Sent  Clicked\n",
       "1      1  Oct  2 2017    50        2\n",
       "2      1  Oct  3 2017    50        4\n",
       "3      1          NaN    50        5\n",
       "5      1  Oct  6 2017    50        3\n",
       "6      1          NaN    50        2"
      ]
     },
     "execution_count": 17,
     "metadata": {},
     "output_type": "execute_result"
    }
   ],
   "source": [
    "#test: subset where clicked is greater then 5\n",
    "dfgready = dfEmail.loc[dfEmail.Clicked > 1]\n",
    "\n",
    "mu = (dfgready.Clicked/50).mean()\n",
    "std = (dfgready.Clicked/50).std()\n",
    "\n",
    "print(\"MU =\",mu)\n",
    "print(\"STD =\",std)\n",
    "\n",
    "zValue = (mu - 0.05)/(std/np.sqrt(len(dfgready.index)))\n",
    "print(\"The Z Value is :\",zValue,\"its corrsponding p value is\",stats.norm.cdf(zValue))\n",
    "\n",
    "if(stats.norm.cdf(zValue) > stats.norm.cdf(z_alpha)):\n",
    "    print(\"\\nThe Pvalue is in the rejection region so\" )\n",
    "    print(\"Reject the null hypothesis\")\n",
    "else:\n",
    "    print(\"\\nThe Pvalue is not in the rejection region so\" )\n",
    "    print(\"Reject the altrnative hypothesis\")\n",
    "dfgready.head()\n",
    "\n",
    "#test still fails"
   ]
  },
  {
   "cell_type": "markdown",
   "metadata": {},
   "source": [
    "I was able to find that a subset in which the nan data points were removed, and where clicked value was greater then 1. those subset results in the null hypothesis being removed"
   ]
  },
  {
   "cell_type": "markdown",
   "metadata": {},
   "source": [
    "### [20 points] Problem 6 - Simple Linear Regression for Gas Mileage \n",
    "***\n",
    "\n",
    "The data in auto.csv contains information on cars from the 1970s and 1980s. In this exercise you will construct a simple linear regression model for the response variable mpg with horsepower as the feature. Load the data into a Pandas DataFrame.    \n"
   ]
  },
  {
   "cell_type": "code",
   "execution_count": 18,
   "metadata": {},
   "outputs": [
    {
     "data": {
      "text/html": [
       "<div>\n",
       "<style>\n",
       "    .dataframe thead tr:only-child th {\n",
       "        text-align: right;\n",
       "    }\n",
       "\n",
       "    .dataframe thead th {\n",
       "        text-align: left;\n",
       "    }\n",
       "\n",
       "    .dataframe tbody tr th {\n",
       "        vertical-align: top;\n",
       "    }\n",
       "</style>\n",
       "<table border=\"1\" class=\"dataframe\">\n",
       "  <thead>\n",
       "    <tr style=\"text-align: right;\">\n",
       "      <th></th>\n",
       "      <th>model</th>\n",
       "      <th>year</th>\n",
       "      <th>mpg</th>\n",
       "      <th>cylinders</th>\n",
       "      <th>horsepower</th>\n",
       "      <th>weight</th>\n",
       "    </tr>\n",
       "  </thead>\n",
       "  <tbody>\n",
       "    <tr>\n",
       "      <th>0</th>\n",
       "      <td>chevrolet chevelle malibu</td>\n",
       "      <td>70</td>\n",
       "      <td>18.0</td>\n",
       "      <td>8</td>\n",
       "      <td>130.0</td>\n",
       "      <td>3504.0</td>\n",
       "    </tr>\n",
       "    <tr>\n",
       "      <th>1</th>\n",
       "      <td>buick skylark 320</td>\n",
       "      <td>70</td>\n",
       "      <td>15.0</td>\n",
       "      <td>8</td>\n",
       "      <td>165.0</td>\n",
       "      <td>3693.0</td>\n",
       "    </tr>\n",
       "    <tr>\n",
       "      <th>2</th>\n",
       "      <td>plymouth satellite</td>\n",
       "      <td>70</td>\n",
       "      <td>18.0</td>\n",
       "      <td>8</td>\n",
       "      <td>150.0</td>\n",
       "      <td>3436.0</td>\n",
       "    </tr>\n",
       "    <tr>\n",
       "      <th>3</th>\n",
       "      <td>amc rebel sst</td>\n",
       "      <td>70</td>\n",
       "      <td>16.0</td>\n",
       "      <td>8</td>\n",
       "      <td>150.0</td>\n",
       "      <td>3433.0</td>\n",
       "    </tr>\n",
       "    <tr>\n",
       "      <th>4</th>\n",
       "      <td>ford torino</td>\n",
       "      <td>70</td>\n",
       "      <td>17.0</td>\n",
       "      <td>8</td>\n",
       "      <td>140.0</td>\n",
       "      <td>3449.0</td>\n",
       "    </tr>\n",
       "  </tbody>\n",
       "</table>\n",
       "</div>"
      ],
      "text/plain": [
       "                       model  year   mpg  cylinders  horsepower  weight\n",
       "0  chevrolet chevelle malibu    70  18.0          8       130.0  3504.0\n",
       "1          buick skylark 320    70  15.0          8       165.0  3693.0\n",
       "2         plymouth satellite    70  18.0          8       150.0  3436.0\n",
       "3              amc rebel sst    70  16.0          8       150.0  3433.0\n",
       "4                ford torino    70  17.0          8       140.0  3449.0"
      ]
     },
     "execution_count": 18,
     "metadata": {},
     "output_type": "execute_result"
    }
   ],
   "source": [
    "dfauto = pd.read_csv(\"data/auto.csv\")\n",
    "dfauto.head()"
   ]
  },
  {
   "cell_type": "markdown",
   "metadata": {},
   "source": [
    "**Part A**: Perform a simple linear regression with horsepower as the feature and mpg as the response.  Report the estimated regression model in the form $Y = \\alpha + \\beta x$. Do all computations in Python. "
   ]
  },
  {
   "cell_type": "code",
   "execution_count": 19,
   "metadata": {
    "collapsed": true
   },
   "outputs": [],
   "source": [
    "x = dfauto.horsepower\n",
    "y = dfauto.mpg\n",
    "xbar = np.mean(x)\n",
    "ybar = np.mean(y)\n",
    "\n",
    "total = len(dfauto.index)\n",
    "#regression formula from lecture notebook \n",
    "'''\n",
    "def regression(x,y):\n",
    "    xbar = np.mean(x)\n",
    "    ybar = np.mean(y)\n",
    "    numerator = np.sum((x-xbar)*(y-ybar))\n",
    "    denominator = np.sum((x-xbar)**2) \n",
    "    beta = numerator/denominator\n",
    "    alpha = ybar - beta*xbar\n",
    "    yhat = alpha + beta*x\n",
    "    return alpha,beta,yhat\n",
    "\n",
    "alpha,beta,yhat = regression(x,y)\n",
    "'''\n",
    "#altrnativly we could use \n",
    "'''\n",
    "bhat,ahat,rval,pval,stderr = stats.linregress(dfauto.horsepower,dfauto.mpg)\n",
    "'''\n",
    "#calcuations by python based on the equation below\n",
    "\n",
    "numA = np.sum(y)*np.sum(x**2) - np.sum(x)*np.sum(x*y)\n",
    "demA = 392*np.sum(x**2) - np.sum(x)**2\n",
    "\n",
    "numB = 392*np.sum(x*y) - np.sum(x)*np.sum(y)\n",
    "demB = 392*np.sum(x**2) - np.sum(x)**2\n",
    "\n",
    "alpha = numA/demA\n",
    "beta = numB/demB\n"
   ]
  },
  {
   "cell_type": "markdown",
   "metadata": {},
   "source": [
    "I used the following equation to calcuate my alpha and beta values\n",
    "\n",
    "![alt text](data/linearregressionequations.png)\n",
    "\n",
    "Doing the calcuations using np.sum I found: \n",
    "\n",
    "$\\alpha$ = 39.93586102117046 \n",
    "\n",
    "$\\beta$ = -0.15784473335365337.\n",
    "\n",
    "$$Y = \\alpha + \\beta x$$\n",
    "\n",
    "$$Y = 39.93586102117046 + -0.15784473335365337~ x$$"
   ]
  },
  {
   "cell_type": "markdown",
   "metadata": {},
   "source": [
    "**Part B**: Make a scatter-plot of the data with horsepower as the feature and mpg as the response and overlay the estimated regression line. \n"
   ]
  },
  {
   "cell_type": "code",
   "execution_count": 40,
   "metadata": {},
   "outputs": [
    {
     "data": {
      "image/png": "[encoded data removed]",
      "text/plain": [
       "<matplotlib.figure.Figure at 0x23173003cc0>"
      ]
     },
     "metadata": {},
     "output_type": "display_data"
    }
   ],
   "source": [
    "\n",
    "fig, ax = plt.subplots(figsize=(10,7))\n",
    "\n",
    "x = dfauto.horsepower\n",
    "y = dfauto.mpg\n",
    "yhat = alpha+x*beta\n",
    "\n",
    "plt.scatter(dfauto.horsepower,dfauto.mpg,color=\"lightgreen\",edgecolors=\"black\",label=\"y = 39.936 + -0.158X + NOISE\")\n",
    "plt.plot(x,yhat,color=\"red\",label=\"y = 39.936 + -0.158X\")\n",
    "plt.xlabel(\"HorsePower\")\n",
    "plt.ylabel(\"Miles Per Gallon\")\n",
    "plt.title(\"SLR With Automobile Data\")\n",
    "plt.legend()\n",
    "plt.show()\n",
    "\n"
   ]
  },
  {
   "cell_type": "markdown",
   "metadata": {},
   "source": [
    "**Part C**: Is the relationship between horsepower and mpg positive or negative? Justify your response. "
   ]
  },
  {
   "cell_type": "markdown",
   "metadata": {
    "collapsed": true
   },
   "source": [
    "This relationship is a negative relationship beacuse as the horesepower increases mpg decreases"
   ]
  },
  {
   "cell_type": "markdown",
   "metadata": {},
   "source": [
    "**Part D**: Find a 95% confidence interval for the slope parameter.  Based on this confidence interval, is there sufficient evidence to believe, at the 95% confidence level, that there is a real relationship between horsepower and mpg? \n",
    "\n",
    "confidence intervals = $$\\hat{\\beta} \\pm t_{\\frac{\\alpha}{2},n-2} ~SE(\\hat{\\beta})$$"
   ]
  },
  {
   "cell_type": "code",
   "execution_count": 37,
   "metadata": {},
   "outputs": [
    {
     "name": "stdout",
     "output_type": "stream",
     "text": [
      "The 95% confidence interval for the slope parameter is  (-0.14517245824295022, -0.17051700846435686)\n",
      "9385.91587193242\n"
     ]
    },
    {
     "data": {
      "text/plain": [
       "579293.6326530632"
      ]
     },
     "execution_count": 37,
     "metadata": {},
     "output_type": "execute_result"
    }
   ],
   "source": [
    "betaHAT = beta\n",
    "t_alphaOVERtwo = stats.t.ppf(.05/2, total-2)\n",
    "\n",
    "bhat,ahat,rval,pval,stderr = stats.linregress(dfauto.horsepower,dfauto.mpg)\n",
    "\n",
    "yhat = ahat + bhat*x\n",
    "\n",
    "SSE = np.sum((y-yhat)**2)\n",
    "varhat = SSE/(total-2)\n",
    "\n",
    "sEb = np.sqrt(varhat)/np.sqrt(np.sum((dfauto.horsepower - xbar)**2))\n",
    "\n",
    "ci = (bhat - t_alphaOVERtwo * sEb , bhat + t_alphaOVERtwo*sEb)\n",
    "\n",
    "print(\"The 95% confidence interval for the slope parameter is \",ci)\n",
    "\n",
    "print(SSE)\n",
    "\n",
    "def SSE(dfy):\n",
    "    YY = np.mean(dfy)\n",
    "    sse = np.sum((dfy - YY)**2)\n",
    "    return sse\n",
    "\n",
    "SSE(dfauto.horsepower)"
   ]
  },
  {
   "cell_type": "code",
   "execution_count": 22,
   "metadata": {},
   "outputs": [
    {
     "data": {
      "text/plain": [
       "23.943662938603108"
      ]
     },
     "execution_count": 22,
     "metadata": {},
     "output_type": "execute_result"
    }
   ],
   "source": [
    "from sklearn.metrics import mean_squared_error\n",
    "\n",
    "mean_squared_error(y, yhat)"
   ]
  },
  {
   "cell_type": "markdown",
   "metadata": {},
   "source": [
    "**Part E**: Double-check your result from **Part D** by performing an equivalent hypothesis test.  Be sure to state your null and alternative hypotheses and explain your general methodology.  Do your conclusions agree with those made in **Part D**? \n",
    "\n",
    "$H_0 : \\beta = 0 $\n",
    "\n",
    "$H_1 : \\beta \\ne 0 $\n",
    "\n",
    "i used the equation for t $$ t =\\frac {\\beta -c}{standard error} $$\n",
    "\n",
    "where c = 0 \n",
    "\n",
    "then i compared that value with the t value of significant level alpha. since its a two tail test we compare both sides to see if t falls within our rejection region"
   ]
  },
  {
   "cell_type": "code",
   "execution_count": 23,
   "metadata": {},
   "outputs": [
    {
     "name": "stdout",
     "output_type": "stream",
     "text": [
      "T falls within our rejection region.\n",
      "Therefore we Reject the null hypothesis\n"
     ]
    }
   ],
   "source": [
    "c = 0 \n",
    "t = (bhat - c)/stderr\n",
    "\n",
    "AA = stats.t.ppf(0.05,total-2),stats.t.ppf(0.95,total-2)\n",
    "\n",
    "if (t < AA[0] or t > AA[1]):\n",
    "    print(\"T falls within our rejection region.\")\n",
    "    print(\"Therefore we Reject the null hypothesis\")\n",
    "else:\n",
    "    print(\"T is not in our rejection region\")\n",
    "    print(\"Therefore we Reject the altrnative hypothesis\")\n",
    "    \n"
   ]
  },
  {
   "cell_type": "markdown",
   "metadata": {},
   "source": [
    "**Part F**: What gas mileage would your simple linear regression model predict for a car with a horsepower of $97$? "
   ]
  },
  {
   "cell_type": "code",
   "execution_count": 24,
   "metadata": {},
   "outputs": [
    {
     "name": "stdout",
     "output_type": "stream",
     "text": [
      "Simple linear regression would predict for a car with a horsepower of 97 to have mpg of 24.6249218859\n"
     ]
    }
   ],
   "source": [
    "def predictor(a,b,x):\n",
    "    y = a + b*x\n",
    "    return y\n",
    "\n",
    "print(\"Simple linear regression would predict for a car with a horsepower of 97 to have mpg of\",predictor(ahat,bhat,97))"
   ]
  }
 ],
 "metadata": {
  "kernelspec": {
   "display_name": "Python 3",
   "language": "python",
   "name": "python3"
  },
  "language_info": {
   "codemirror_mode": {
    "name": "ipython",
    "version": 3
   },
   "file_extension": ".py",
   "mimetype": "text/x-python",
   "name": "python",
   "nbconvert_exporter": "python",
   "pygments_lexer": "ipython3",
   "version": "3.6.1"
  }
 },
 "nbformat": 4,
 "nbformat_minor": 2
}
