{
 "cells": [
  {
   "cell_type": "markdown",
   "metadata": {},
   "source": [
    "we know what the the probality of the entire population that is under the freshness threshold (90) is 0.4325 from the z-table  $z=(\\frac{90-91}{6}) = -0.17 = 0.4325 $ so if we increase the sample, the diffrence between the value 0.4325 - (Z-score of new sample size) must less then 0.001\n",
    "\n",
    "using variable p as Z-score of new sample size\n",
    "\n",
    "$$ 0.001 = 0.4325 - P $$\n",
    "$$ 0.001 - 0.4325 = - P $$\n",
    "$$ P =  0.4325 - 0.001 $$\n",
    "$$ p = 0.4315 $$\n",
    "\n",
    "now we must find the z value in that corresponds to the value 0.4315 in the Z-table, the z value we must use is -0.1726 (from online zvalue finder) and solve for X\n",
    "\n",
    "$$z = \\frac{X-\\mu}{\\sigma} $$\n",
    "\n",
    "$$ -0.1726 = \\frac{X- 91}{6} $$\n",
    "\n",
    "$$ -0.1726~(6) + 91 = X $$\n",
    "$$ X = 91 - 1.0356  $$\n",
    "$$ X = 89.9644 $$\n",
    "\n",
    "as an intger it must by 90, witch is 1 below the mean, and we mulitply it by 2 since only half the sample is bellow the mean,and doubling it gives the total sample amount including when its above the mean, so the total sample is 2\n",
    "\n",
    "we must take a  minimum of 2 samples in order to get the reject probability to be less then 0.001 "
   ]
  },
  {
   "cell_type": "code",
   "execution_count": null,
   "metadata": {
    "collapsed": true
   },
   "outputs": [],
   "source": []
  }
 ],
 "metadata": {
  "kernelspec": {
   "display_name": "Python 3",
   "language": "python",
   "name": "python3"
  }
 },
 "nbformat": 4,
 "nbformat_minor": 2
}
