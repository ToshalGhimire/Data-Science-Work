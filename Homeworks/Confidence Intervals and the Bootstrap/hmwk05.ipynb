{
 "cells": [
  {
   "cell_type": "markdown",
   "metadata": {},
   "source": [
    "# Homework 5: Confidence Intervals, the Bootstrap, and Autograders\n",
    "***\n",
    "\n",
    "**Name**: Toshal Ghimire\n",
    "\n",
    "**Section**: (001 or 002)\n",
    "***\n",
    "\n",
    "This assignment is due on Moodle by **5pm on Friday November 10th**. Your solutions to theoretical questions should be done in Markdown/MathJax directly below the associated question.  Your solutions to computational questions should include any specified Python code and results as well as written commentary on your conclusions.  Remember that you are encouraged to discuss the problems with your instructors and classmates, but **you must write all code and solutions on your own**.  For a refresher on the course **Collaboration Policy** click [here](https://github.com/chrisketelsen/csci3022/blob/master/resources/syllabus.md#collaboration-policy).  \n",
    "\n",
    "**NOTES**: \n",
    "\n",
    "- Do **NOT** load or use any Python packages that are not available in Anaconda 3.6. \n",
    "- Some problems with code may be autograded.  If we provide a function API **do not** change it.  If we do not provide a function API then you're free to structure your code however you like. \n",
    "- Because you can technically evaluate notebook cells is a non-linear order, it's a good idea to do Cell $\\rightarrow$ Run All as a check before submitting your solutions.  That way if we need to run your code you will know that it will work as expected. \n",
    "- Submit only this Jupyter notebook to Moodle.  Do not compress it using tar, rar, zip, etc. "
   ]
  },
  {
   "cell_type": "markdown",
   "metadata": {},
   "source": []
  },
  {
   "cell_type": "code",
   "execution_count": 189,
   "metadata": {
    "collapsed": true,
    "scrolled": true
   },
   "outputs": [],
   "source": [
    "import numpy as np\n",
    "import matplotlib.pylab as plt\n",
    "import pandas as pd\n",
    "from scipy.stats import norm \n",
    "import math\n",
    "import random\n",
    "%matplotlib inline"
   ]
  },
  {
   "cell_type": "markdown",
   "metadata": {},
   "source": [
    "### [20 points] Problem 1 - Alcohol Content of Red vs White Wine \n",
    "***\n",
    "\n",
    "Load the data in $\\texttt{winequality-red.csv}$ and $\\texttt{winequality-white.csv}$ into Pandas DataFrames.  A description of this dataset can be found on [Berkeley's Machine Learning Repository](https://archive.ics.uci.edu/ml/datasets/Wine+Quality). The characteristic that we'll be interested in is the wine's alcohol content.  "
   ]
  },
  {
   "cell_type": "code",
   "execution_count": 3,
   "metadata": {},
   "outputs": [
    {
     "data": {
      "text/plain": [
       "fixed acidity             6.854788\n",
       "volatile acidity          0.278241\n",
       "citric acid               0.334192\n",
       "residual sugar            6.391415\n",
       "chlorides                 0.045772\n",
       "free sulfur dioxide      35.308085\n",
       "total sulfur dioxide    138.360657\n",
       "density                   0.994027\n",
       "pH                        3.188267\n",
       "sulphates                 0.489847\n",
       "alcohol                  10.514267\n",
       "quality                   5.877909\n",
       "dtype: float64"
      ]
     },
     "execution_count": 3,
     "metadata": {},
     "output_type": "execute_result"
    }
   ],
   "source": [
    "red = pd.read_csv(\"winequality-red.csv\",sep=';')\n",
    "white = pd.read_csv(\"winequality-white.csv\",sep=';') \n",
    "\n",
    "white.mean() "
   ]
  },
  {
   "cell_type": "markdown",
   "metadata": {},
   "source": [
    "**Part A**: Are we justified in using the assumptions of the Central Limit Theorem in our analysis of estimates of the mean of the data?  Justify your response. "
   ]
  },
  {
   "cell_type": "markdown",
   "metadata": {
    "collapsed": true
   },
   "source": [
    "key point of the CLT is the distribution of the sample mean tends towards the normal distribution as the sample size increases regualdless of the distributions from which we are sampling, since we are able to use a sample size that is greater than 30 , we are justified in using the assumptions of the CLT"
   ]
  },
  {
   "cell_type": "markdown",
   "metadata": {},
   "source": [
    "**Part B**: Compute a 95% confidence interval for the mean of the red wine's alcohol content.  Separately, compute a 95% confidence interval for the mean of the white wine's alcohol content. Do all computations in Python. "
   ]
  },
  {
   "cell_type": "markdown",
   "metadata": {},
   "source": [
    "confidence formula is \n",
    "\n",
    "$$ \\bar{x} \\pm Z_{\\frac{\\sigma}{2}} ~ \\frac{\\sigma}{\\sqrt{n}}$$"
   ]
  },
  {
   "cell_type": "code",
   "execution_count": 4,
   "metadata": {},
   "outputs": [
    {
     "name": "stdout",
     "output_type": "stream",
     "text": [
      "The 95% confidence interval for the mean of red wines alcohol is  (10.370750037060759, 10.475216191832246)\n",
      "The 95% confidence interval for the mean of red wines alcohol is  (10.479803270898106, 10.54873082465117)\n"
     ]
    }
   ],
   "source": [
    "std_R = red.alcohol.std()\n",
    "n_R = red.alcohol.count()\n",
    "Zscore_95 = norm.ppf(1-(.05/2))\n",
    "X_bar_R = red.alcohol.mean()\n",
    "\n",
    "CI_of_red = (X_bar_R - Zscore_95 * (std_R/ math.sqrt(n_R)) , X_bar_R + Zscore_95 * (std_R/ math.sqrt(n_R)))\n",
    "\n",
    "print(\"The 95% confidence interval for the mean of red wines alcohol is \",CI_of_red)\n",
    "\n",
    "std_W = white.alcohol.std()\n",
    "n_W = white.alcohol.count()\n",
    "Zscore_95 = norm.ppf(1-(.05/2))\n",
    "X_bar_W = white.alcohol.mean()\n",
    "\n",
    "CI_of_white = (X_bar_W - Zscore_95 * (std_W/ math.sqrt(n_W)) , X_bar_W + Zscore_95 * (std_W/ math.sqrt(n_W)))\n",
    "\n",
    "print(\"The 95% confidence interval for the mean of red wines alcohol is \",CI_of_white)\n"
   ]
  },
  {
   "cell_type": "markdown",
   "metadata": {},
   "source": [
    "**Part C**: Compute the 95% confidence interval for the difference between the means of the alcohol content of red and white wine. "
   ]
  },
  {
   "cell_type": "markdown",
   "metadata": {},
   "source": [
    "confidence formula for a diffrence is is \n",
    "\n",
    "$$ (\\bar{x_1} -\\bar{x_2}) \\pm Z_{\\frac{\\sigma}{2}} ~ \\sqrt{\\frac{\\sigma^2_1}{n_1} + \\frac{\\sigma^2_1}{n_2}}$$"
   ]
  },
  {
   "cell_type": "code",
   "execution_count": 5,
   "metadata": {},
   "outputs": [
    {
     "name": "stdout",
     "output_type": "stream",
     "text": [
      "The 95% confidence interv|al for the difference between the means of the alcohol content of red and white wine is  (0.028705612083630899, 0.15386225457263999)\n"
     ]
    }
   ],
   "source": [
    "\n",
    "CI_of_Diffrence = ((X_bar_W - X_bar_R) - Zscore_95 *  math.sqrt(( std_W**2 / n_W ) + ( std_R**2 / n_R )),(X_bar_W -X_bar_R) + Zscore_95 *  math.sqrt(( std_W**2 / n_W ) + ( std_R**2 / n_R )))\n",
    "\n",
    "print(\"The 95% confidence interv|al for the difference between the means of the alcohol content of red and white wine is \", CI_of_Diffrence)                   "
   ]
  },
  {
   "cell_type": "markdown",
   "metadata": {},
   "source": [
    "**Part D**: Interpret the confidence interval you computed in **Part C** in one or two sentences.  Can you say that it's likely that there is a difference in mean alcohol content between red and white wine?  "
   ]
  },
  {
   "cell_type": "markdown",
   "metadata": {
    "collapsed": true
   },
   "source": [
    "we are 95% confident that the difrence between the average alcohol precent of white wine and red wine is between 0.0287 and 0.1538 \n",
    "\n",
    "using white.alcohol.mean() - red.alcohol.mean() the actual diffrence turned out to be 0.0913 witch is within the the interval i calcuated in C"
   ]
  },
  {
   "cell_type": "markdown",
   "metadata": {},
   "source": [
    "### [15 points] Problem 2: Election Polling\n",
    "***\n",
    "\n",
    "On the eve of an important senate seat election, a pollster polls a simple random sample of the population and asks which candidate they plan to vote for on the following day. In particular, the pollster asks if the respondents plan to vote for Candidate A, Candidate B, or some other candidate.  The results of the poll can be found in the following table: \n",
    "\n",
    "\\begin{array}{ccc}\n",
    "\\hline \n",
    "\\textrm{Candidate A} & \\textrm{Candidate B} & \\textrm{Other} \\\\\n",
    "\\hline \n",
    "1204 & 1099 & 205  \\\\\n",
    "\\hline \n",
    "\\end{array}\n",
    "\n",
    "**Part A**: Poll results are typically reported as a predicted **percentage** of the electorate plus or minus a margin of error, i.e. $\\texttt{percentage} \\pm \\texttt{margin}$.  Express the poll results for Candidates A and B in the specified format at the 95% confidence level. \n",
    "\n",
    "$$p \\pm Z_{\\sigma /2} ~\\sqrt{\\frac{p(1-p)}{n}} $$"
   ]
  },
  {
   "cell_type": "code",
   "execution_count": 289,
   "metadata": {},
   "outputs": [
    {
     "name": "stdout",
     "output_type": "stream",
     "text": [
      "The poll results for Candidate A is 0.4800637958532695 ± 0.0195527943236\n",
      "\n",
      "The poll results for Candidate B is 0.4381977671451356 ± 0.0194182968335\n"
     ]
    }
   ],
   "source": [
    "n = 1204 + 1099 + 205\n",
    "Zscore_95 = norm.ppf(1-(.05/2))\n",
    "\n",
    "\n",
    "#Candidate A\n",
    "P_A = 1204 / n\n",
    "squareroot_A = math.sqrt((P_A *(1-P_A))/n)\n",
    "MarginOfError_A = Zscore_95*squareroot_A\n",
    "\n",
    "print(\"The poll results for Candidate A is\", P_A,\"±\",MarginOfError_A)\n",
    "\n",
    "\n",
    "#Candidate B\n",
    "P_B = 1099 / n\n",
    "squareroot_B = math.sqrt((P_B *(1-P_B))/n)\n",
    "MarginOfError_B = Zscore_95*squareroot_B\n",
    "\n",
    "print(\"\\nThe poll results for Candidate B is\", P_B,\"±\",MarginOfError_B)\n"
   ]
  },
  {
   "cell_type": "markdown",
   "metadata": {},
   "source": [
    "**Part B**: Express the poll results as 95% confidence intervals.  Based on these results, would it be responsible for a newspaper to definitely call the election for a particular candidate? Clearly justify your response.\n",
    "\n"
   ]
  },
  {
   "cell_type": "code",
   "execution_count": 68,
   "metadata": {},
   "outputs": [
    {
     "name": "stdout",
     "output_type": "stream",
     "text": [
      "The intervel for Candidate A is (0.46051100152969815, 0.4996165901768409)\n",
      "The intervel for Candidate B  is (0.41877947031164775, 0.4489198878569437)\n"
     ]
    }
   ],
   "source": [
    "Candidate_A = (P_A - MarginOfError_A,P_A + MarginOfError_A)\n",
    "Candidate_B = (P_B - MarginOfError_B,P_B + MarginOfError)\n",
    "print(\"The intervel for Candidate A is\",Candidate_A)\n",
    "print(\"The intervel for Candidate B  is\",Candidate_B)\n",
    "\n",
    "#wost case diffrence\n",
    "diff = Candidate_A[1]-Candidate_B[0]\n"
   ]
  },
  {
   "cell_type": "markdown",
   "metadata": {},
   "source": [
    "It would not be responsiable for the newespaper to call the election for a particular candinadate beacuse at worst case the diffrence between these two candiates is 0.01, witch is only 1%, at best case the diffrence between the candiates is 0.08, witch is 8%"
   ]
  },
  {
   "cell_type": "markdown",
   "metadata": {},
   "source": [
    "**Part C**: In the run-up to the next election, the pollster is designing a poll of a city council race between two relatively unknown candidates.  Without having any prior data, how many respondents does the pollster need responses from to guarantee that she will get at most a 2% margin of error at the 95% confidence level? Be sure to **clearly** justify your reasoning.  \n",
    "\n",
    "**Hint**: Recall that when computing confidence intervals for proportions we use the actual sample proportions to approximate the variance.  How can you get a worst-case scenario estimate of the variance when the sample proportion is not known _a priori_? \n"
   ]
  },
  {
   "cell_type": "markdown",
   "metadata": {},
   "source": [
    "$$ error = Z_{\\sigma /2} ~\\frac{\\sigma}{\\sqrt{n}} $$\n",
    "\n",
    "$$ 0.02 =  1.959963984540054 ~\\frac{\\sigma}{\\sqrt{n}} $$\n",
    "\n",
    "$$ 0.01020426913849308 =  \\frac{\\sigma}{\\sqrt{n}} $$\n",
    "\n",
    "\n",
    "\n",
    "\n",
    "$$ \\sqrt{n} =  {\\frac{\\sigma}{0.01020426913849308}} $$"
   ]
  },
  {
   "cell_type": "markdown",
   "metadata": {
    "collapsed": true
   },
   "source": [
    "Now we dont know the standard deviation, but we know what standard deviation is the square root of variance, $ \\sigma = \\sigma^2$  where $\\sigma^2$ = variance.\n",
    "\n",
    "according to the hint we can use the actual sample proportions to approximate the variance"
   ]
  },
  {
   "cell_type": "markdown",
   "metadata": {},
   "source": [
    "$$ S^2 = \\frac{\\sum( X - X_{average})^2}{N-1} $$\n",
    "\n",
    "$$ x_{average}  = \\frac{ 1204 + 1099 + 205}{3} = 836 $$\n",
    "\n",
    "\n",
    "$$ S^2 = \\frac{(1204 - 836)^2 + (1099 - 836)^2 + (205 - 836)^2}{2} $$\n",
    "\n",
    "$$ S^2 = \\frac{602754}{2} $$\n",
    "\n",
    "$$ S^2 = 301377 $$\n",
    "\n",
    "$$ \\sigma = \\sqrt{S^2} = \\sqrt{301377} $$\n",
    "\n",
    "$$ \\sigma = 548.978141641359 $$\n",
    "\n",
    "so we will use this sigma/standard deviation value for the equation above to solve for n\n",
    "\n",
    "$$ \\sqrt{n} =  {\\frac{548.978141641359}{0.01020426913849308}} $$\n",
    "\n",
    "$$ \\sqrt{n} =  53798.869295839606 $$\n",
    "\n",
    "$$ \\sqrt{n}^2 =  53798.869295839606^2 $$\n",
    "\n",
    "$$ n = 2894318337.5108333 $$\n",
    "\n",
    "\n",
    "another approach is using p = .5\n",
    "\n",
    "$$0.02 =  Z_{\\sigma /2} ~\\sqrt{\\frac{p(1-p)}{n}} $$\n",
    "\n",
    "$$0.02 =  Z_{\\sigma /2} ~\\sqrt{\\frac{0.5(1-0.5)}{n}} $$\n",
    "\n",
    "$$\\frac{0.02} {Z_{\\sigma /2}} =  \\sqrt{\\frac{0.5(1-0.5)}{n}} $$\n",
    "\n",
    "$${\\frac{0.02} {Z_{\\sigma /2}}}^2 =  {\\sqrt{\\frac{0.5(1-0.5)}{n}}}^2 $$\n",
    "\n",
    "$${\\frac{0.02} {Z_{\\sigma /2}}}^2 =  {\\frac{0.5(1-0.5)}{n}} $$\n",
    "\n",
    "$$ n =  {\\frac{0.5(1-0.5)}{{\\frac{0.02} {Z_{\\sigma /2}}}^2}} $$\n",
    "\n",
    "$$ n = 2400.9999999999995 $$"
   ]
  },
  {
   "cell_type": "markdown",
   "metadata": {},
   "source": [
    "### [15 points] Problem 3 - Have Opinions on Marijuana Legalization Changed? \n",
    "***\n",
    "\n",
    "The General Social Survey (GSS) has been collecting demographic, behavioral, and attitudinal information since 1972 to monitor changes within the US and to compare the US to other nations. Support for the legalization of marijuana in the US is shown for 2010 and in 2016 in the following table:\n",
    "\n",
    "\n",
    "\\begin{array}{cccc}\n",
    "\\hline\n",
    "\\textrm{Year} & \\textrm{Favor} & \\textrm{Oppose} & \\textrm{Total} \\\\ \n",
    "\\hline\n",
    "\\textrm{2010} & \\textrm{603} & \\textrm{656} & \\textrm{1259} \\\\\n",
    "\\textrm{2016} & \\textrm{1126} & \\textrm{717} & \\textrm{1843} \\\\\n",
    "\\hline\n",
    "\\end{array}\n",
    "\n",
    "\n",
    "**Part A**: Find a 95% confidence interval for the change in the proportion supporting marijuana legalization from 2010 to 2016. Use Python for all computations and show your work. \n",
    "\n",
    "$$ P_1 - P_2 \\pm Z_{\\sigma/2} ~ \\sqrt{ \\frac{P_1~(1-P_1)}{m} + \\frac{P_2~(1-P_2)}{n} }$$"
   ]
  },
  {
   "cell_type": "code",
   "execution_count": 132,
   "metadata": {},
   "outputs": [
    {
     "data": {
      "text/plain": [
       "(0.09655644289791579, 0.16746124074027999)"
      ]
     },
     "execution_count": 132,
     "metadata": {},
     "output_type": "execute_result"
    }
   ],
   "source": [
    "m = 1259\n",
    "n = 1843\n",
    "Zscore_95 = norm.ppf(1-(.05/2))\n",
    "\n",
    "p1 = 603/m\n",
    "p2 = 1126/n\n",
    "\n",
    "diff = np.abs(p1-p2)\n",
    "\n",
    "a = (p1* (1-p1))/m\n",
    "b = (p2* (1-p2))/n\n",
    "\n",
    "square_root = math.sqrt(a + b)\n",
    "\n",
    "output =((diff - Zscore_95*square_root) , (diff + Zscore_95*square_root))\n",
    "output"
   ]
  },
  {
   "cell_type": "markdown",
   "metadata": {},
   "source": [
    "**Part B**: Is it likely that the proportion supporting marijuana legalization changed between 2010 and 2016? Justify your conclusion using the ideas of statistical inference and your results from **Part A**. "
   ]
  },
  {
   "cell_type": "markdown",
   "metadata": {
    "collapsed": true
   },
   "source": [
    "yes, from part A, we are 95 percent sure that the precentage diffrence between 2010 and 2016 is within our interval of 9.6556442897915797 precent and  16.746124074028 precent, which is an increase,this means that at worst case the precentage of people who are in favor of marijuana leglization has increaced by at least 9 precent, using python i was able to figure out that the actual precentage increase is 13.2%"
   ]
  },
  {
   "cell_type": "markdown",
   "metadata": {},
   "source": [
    "### [20 points] Problem 4 - Exploring Confidence Intervals \n",
    "***\n",
    "\n",
    "The so-called [Chi-squared](https://en.wikipedia.org/wiki/Chi-squared_distribution) distribution is important in several statistical tests.  It's also fairly asymmetric, and thus interesting for investigating confidence intervals.  It is implemented in scipy.stats as [chi2](https://docs.scipy.org/doc/scipy-0.19.1/reference/generated/scipy.stats.chi2.html). \n"
   ]
  },
  {
   "cell_type": "code",
   "execution_count": 127,
   "metadata": {
    "collapsed": true
   },
   "outputs": [],
   "source": [
    "from scipy.stats import chi2"
   ]
  },
  {
   "cell_type": "markdown",
   "metadata": {},
   "source": [
    "**Part A**: Complete the following code cell to plot a histogram of realizations from the Chi-squared distribution with parameter $K=3$. "
   ]
  },
  {
   "cell_type": "code",
   "execution_count": 129,
   "metadata": {
    "scrolled": false
   },
   "outputs": [
    {
     "data": {
      "image/png": "[encoded data removed]",
      "text/plain": [
       "<matplotlib.figure.Figure at 0x2704570b390>"
      ]
     },
     "metadata": {},
     "output_type": "display_data"
    },
    {
     "data": {
      "text/plain": [
       "5.8022432479631609"
      ]
     },
     "execution_count": 129,
     "metadata": {},
     "output_type": "execute_result"
    }
   ],
   "source": [
    "k = 3 \n",
    "x = chi2.rvs(k, size=10000)\n",
    "fig, ax = plt.subplots(nrows=1, ncols=1, figsize=(12,6))\n",
    "\n",
    "plt.hist(x,bins='auto',edgecolor='white')\n",
    "plt.show()\n",
    "x.mean()\n",
    "x.var()"
   ]
  },
  {
   "cell_type": "markdown",
   "metadata": {},
   "source": [
    "**Part B**: Look up the mean and variance of the Chi-squared distribution with parameter $k=3$ and report them here. "
   ]
  },
  {
   "cell_type": "markdown",
   "metadata": {
    "collapsed": true
   },
   "source": [
    "according to the internet:\n",
    "\n",
    "    the mean of the Chi-squared distribution is the same as k, so mean of X should be 3\n",
    "    the variance of the Chi-squared distribution is 2 times k, so variance of x should be 6"
   ]
  },
  {
   "cell_type": "code",
   "execution_count": 176,
   "metadata": {},
   "outputs": [
    {
     "name": "stdout",
     "output_type": "stream",
     "text": [
      "Using python, the mean of 'x' is 2.95010869598\n",
      "Using python, the variance of 'x' is 5.80224324796\n",
      "\n",
      "These two values agree with the internet\n"
     ]
    }
   ],
   "source": [
    "print(\"Using python, the mean of 'x' is\",x.mean())\n",
    "print(\"Using python, the variance of 'x' is\",x.var())\n",
    "\n",
    "print(\"\\nThese two values agree with the internet\")"
   ]
  },
  {
   "cell_type": "markdown",
   "metadata": {},
   "source": [
    "**Part C**: In this part you'll write a function to investigate the _coverage properties_ of a confidence interval for the mean of the Chi-squared distribution. Complete the following function to randomly sample $m=500$ sample means with sample size $n=100$ for the Chi-squared distribution with parameter $k=3$.  For each random sample, compute the 95% confidence interval for the mean.  Your function should do two things: \n",
    "\n",
    "1. Report the proportion of confidence intervals that successfully cover the true mean of the distribution \n",
    "2. Make a plot of 50 randomly selected confidence intervals. Overlay the intervals on the line $y=\\mu$ where $\\mu$ is the true mean of the distribution. Color confidence intervals black if they cover the true mean, and red if they don't.  "
   ]
  },
  {
   "cell_type": "code",
   "execution_count": 194,
   "metadata": {
    "scrolled": false
   },
   "outputs": [
    {
     "name": "stdout",
     "output_type": "stream",
     "text": [
      "the proportion of successful CI = 0.98\n"
     ]
    },
    {
     "data": {
      "image/png": "[encoded data removed]",
      "text/plain": [
       "<matplotlib.figure.Figure at 0x270455f0780>"
      ]
     },
     "metadata": {},
     "output_type": "display_data"
    }
   ],
   "source": [
    "def confidence_intervals(m=500, n=100):\n",
    "    # TODO\n",
    "    a = []\n",
    "    c = np.zeros(m)\n",
    "    count = 0\n",
    "    for i in range(m):\n",
    "        x = chi2.rvs(k, size=n)\n",
    "        mean = x.mean()\n",
    "        b = 1.96*(x.std()/np.sqrt(n))\n",
    "        alower = mean - b\n",
    "        aupper = mean + b\n",
    "        a.append([alower,aupper])\n",
    "\n",
    "    fig, ax = plt.subplots(nrows=1, ncols=1, figsize=(12,6))\n",
    "    ax.plot([0,49], [3,3],color='steelblue',ls ='-',lw=3)\n",
    "    random.shuffle(a)\n",
    "    for i in range(50):\n",
    "        t = a.pop()\n",
    "        if (t[0] < 3.0 and 3.0 < t[1]):\n",
    "            c[i] = 1\n",
    "        if c[i] == 1:\n",
    "            ax.plot([i,i],[t[0],t[1]], linewidth=2, color='black')\n",
    "            count = count + 1\n",
    "        else:\n",
    "            ax.plot([i,i],[t[0],t[1]], linewidth=2, color='red')\n",
    "    prop = count/50\n",
    "    print('the proportion of successful CI =' ,prop)\n",
    "\n",
    "confidence_intervals()"
   ]
  },
  {
   "cell_type": "markdown",
   "metadata": {},
   "source": [
    "**Part D**: Does the proportion of confidence intervals that cover the true mean of the distribution agree with the theory described in class?  Justify your conclusion. "
   ]
  },
  {
   "cell_type": "markdown",
   "metadata": {
    "collapsed": true
   },
   "source": [
    "the propotions seems to fall around 95% in each run, thus we can say that the CI that covers teh true mean of the distribution agrees with the theory we described in class"
   ]
  },
  {
   "cell_type": "markdown",
   "metadata": {},
   "source": [
    "### [20 points] Problem 5 - Bootstrapped Confidence Intervals \n",
    "***\n",
    "\n",
    "An important feature in online advertising is the so-called _dwell time_, or the amount of time that a user spends viewing a particular piece of content. The data in dwell_times.csv contains the dwell times (in minutes) for 500 randomly selected users viewing an article on a website.  \n"
   ]
  },
  {
   "cell_type": "markdown",
   "metadata": {},
   "source": [
    "**Part A**: Read in the data from dwell_times.csv and create a frequency histogram with 20 bins. "
   ]
  },
  {
   "cell_type": "code",
   "execution_count": 199,
   "metadata": {},
   "outputs": [
    {
     "data": {
      "image/png": "[encoded data removed]",
      "text/plain": [
       "<matplotlib.figure.Figure at 0x27043d1bba8>"
      ]
     },
     "metadata": {},
     "output_type": "display_data"
    },
    {
     "data": {
      "text/plain": [
       "dwell time    500\n",
       "dtype: int64"
      ]
     },
     "execution_count": 199,
     "metadata": {},
     "output_type": "execute_result"
    }
   ],
   "source": [
    "data = pd.read_csv(\"dwell_times.csv\")\n",
    "plt.hist(data[\"dwell time\"],bins=20,edgecolor = \"white\")\n",
    "plt.xlabel(\"data\")\n",
    "plt.ylabel(\"Frequency\")\n",
    "plt.show()\n",
    "\n"
   ]
  },
  {
   "cell_type": "markdown",
   "metadata": {},
   "source": [
    "**Part B**: Complete the function dwell_mean below to create an empirical bootstrapped confidence interval at the 95% confidence level for the mean dwell time.  Use at least 5000 bootstrap resamples. In addition to returning the confidence interval, your function should also plot a histogram of the bootstrap resample means, along with some graphical representation of the 95% confidence interval. "
   ]
  },
  {
   "cell_type": "code",
   "execution_count": 282,
   "metadata": {},
   "outputs": [
    {
     "name": "stdout",
     "output_type": "stream",
     "text": [
      "bootstrapped 95% CI for the Mean:  [ 8.05600229  8.85298573]\n"
     ]
    },
    {
     "data": {
      "image/png": "[encoded data removed]",
      "text/plain": [
       "<matplotlib.figure.Figure at 0x270454f22b0>"
      ]
     },
     "metadata": {},
     "output_type": "display_data"
    },
    {
     "data": {
      "text/plain": [
       "array([ 8.05600229,  8.85298573])"
      ]
     },
     "execution_count": 282,
     "metadata": {},
     "output_type": "execute_result"
    }
   ],
   "source": [
    "def dwell_mean(df, num_boots=5000, isPlot=False):\n",
    "    RSample_Mean = np.zeros(num_boots)\n",
    "    \n",
    "    for i in range(num_boots):\n",
    "        RSample_Mean[i] = np.mean(np.random.choice(df,replace=True, size= df.count()))\n",
    "    \n",
    "    L = np.percentile(RSample_Mean,2.5)\n",
    "    R = np.percentile(RSample_Mean,97.5)\n",
    "    CI = np.array([L, R])\n",
    "    print(\"bootstrapped 95% CI for the Mean: \",CI)\n",
    "    \n",
    "    \n",
    "    if isPlot: \n",
    "        # TODO plot histogram \n",
    "        fig, ax = plt.subplots(nrows=1, ncols=1, figsize=(12,6))\n",
    "        ax.hist(RSample_Mean,bins=20,edgecolor = \"white\")\n",
    "        plt.axvline(x=L,color='black')\n",
    "        plt.axvline(x=R,color='black')\n",
    "        plt.show()\n",
    "    \n",
    "    return CI \n",
    "\n",
    "dwell_mean(data[\"dwell time\"],isPlot=True)\n"
   ]
  },
  {
   "cell_type": "markdown",
   "metadata": {},
   "source": [
    "**Part C**: Suppose you are told that the actual dwell times in dwell_times.csv were sampled from a [LogNormal]() distribution with parameters $\\mu=2$ and $\\sigma^2 = \\frac{1}{4}$. Go to the linked Wiki page and read about the LogNormal distribution.  Then compute the exact **mean**, **median**, and **standard deviation** of the distribution for the given parameters and report them here. "
   ]
  },
  {
   "cell_type": "markdown",
   "metadata": {},
   "source": [
    "mean = $ e^{\\mu + \\frac{\\sigma^{2}}{2}} $\n",
    "\n",
    "median = $ e^{\\mu} $\n",
    "\n",
    "standard deviation = \t$\\sqrt{e^{2\\mu+\\sigma^{2}} (e^{\\sigma^{2}} - 1)}$"
   ]
  },
  {
   "cell_type": "code",
   "execution_count": 248,
   "metadata": {},
   "outputs": [
    {
     "name": "stdout",
     "output_type": "stream",
     "text": [
      "Mean according to the wiki pages with the given paramaters mu = 2 and variance = 1/4 is 8.37289748813\n",
      "Meadian according to the wiki pages with the given paramaters mu = 2 and variance = 1/4 is 7.38905609893\n",
      "Meadian according to the wiki pages with the given paramaters mu = 2 and variance = 1/4 is 4.46225491807\n"
     ]
    }
   ],
   "source": [
    "mu = 2\n",
    "var = .25\n",
    "\n",
    "mean = np.exp(mu + (var/2))\n",
    "print(\"Mean according to the wiki pages with the given paramaters mu = 2 and variance = 1/4 is\",mean)\n",
    "\n",
    "median = np.exp(mu)\n",
    "print(\"Meadian according to the wiki pages with the given paramaters mu = 2 and variance = 1/4 is\",median)\n",
    "\n",
    "std = np.sqrt((np.exp(2*mu + var))*((np.exp(var)) -1))\n",
    "print(\"Meadian according to the wiki pages with the given paramaters mu = 2 and variance = 1/4 is\",std)\n"
   ]
  },
  {
   "cell_type": "markdown",
   "metadata": {},
   "source": [
    "**Part D**: Use the true standard deviation of the distribution to compute a traditional 95% confidence interval for the sample mean of the dwell time data.  Compare the traditional 95% confidence interval to the bootstrapped 95% confidence interval. Do both confidence intervals cover the true mean?  Do both confidence intervals have roughly the same width?   "
   ]
  },
  {
   "cell_type": "code",
   "execution_count": 263,
   "metadata": {},
   "outputs": [
    {
     "name": "stdout",
     "output_type": "stream",
     "text": [
      "The traditional 95% Confidence Interval is  (5.3528828034535074, 11.537397575971472)\n"
     ]
    }
   ],
   "source": [
    "mean_dwells = data['dwell time'].mean()\n",
    "std = data['dwell time'].std()\n",
    "Sqrt_N = math.sqrt(data['dwell time'].mean())\n",
    "\n",
    "ci = (mean_dwells - Zscore_95*(std/Sqrt_N)),(mean_dwells + Zscore_95*(std/Sqrt_N))\n",
    "print(\"The traditional 95% Confidence Interval is \",ci)"
   ]
  },
  {
   "cell_type": "markdown",
   "metadata": {},
   "source": [
    "Both Confidence intervals from bootstrapped and traditional cover the True mean, but the confidence intervals for the traditional covers a larger width, compare to the bootstraped solutoon"
   ]
  },
  {
   "cell_type": "markdown",
   "metadata": {},
   "source": [
    "**Part E**: Complete the function dwell_stdev below to create an empirical bootstrapped confidence interval at the 95% confidence level for the standard deviation of dwell time.  Use at least 5000 bootstrapped resamples. In addition to returning the confidence interval, your function should also plot a histogram of the bootstrap resample standard deviations including some graphical indication of the 95% confidence interval.  "
   ]
  },
  {
   "cell_type": "code",
   "execution_count": 283,
   "metadata": {},
   "outputs": [
    {
     "name": "stdout",
     "output_type": "stream",
     "text": [
      "The Bootstrapped 95% CI for the Standard Deviation is [ 4.05022679  5.09887051]\n"
     ]
    },
    {
     "data": {
      "image/png": "[encoded data removed]",
      "text/plain": [
       "<matplotlib.figure.Figure at 0x2704520f0f0>"
      ]
     },
     "metadata": {},
     "output_type": "display_data"
    },
    {
     "data": {
      "text/plain": [
       "array([ 4.05022679,  5.09887051])"
      ]
     },
     "execution_count": 283,
     "metadata": {},
     "output_type": "execute_result"
    }
   ],
   "source": [
    "def dwell_stdev(df, num_boots=5000, isPlot=False):\n",
    "    RSample_STD = np.zeros(num_boots)\n",
    "    for i in range (num_boots):\n",
    "        RSample_STD[i] = np.std(np.random.choice(df, replace=True, size=len(df)))\n",
    "    \n",
    "    L = np.percentile(RSample_STD, 2.5)\n",
    "    R = np.percentile(RSample_STD, 97.5)\n",
    "   \n",
    "    CI = np.array([L, R])\n",
    "    print(\"The Bootstrapped 95% CI for the Standard Deviation is\",CI)\n",
    "    if isPlot: \n",
    "        # TODO plot histogram \n",
    "        fig, ax = plt.subplots(nrows=1, ncols=1, figsize=(12,6))\n",
    "        ax.hist(RSample_STD,bins=20,edgecolor = \"white\")\n",
    "        plt.axvline(x=L,color='black')\n",
    "        plt.axvline(x=R,color='black')\n",
    "        plt.show()\n",
    "    \n",
    "    return CI\n",
    "\n",
    "dwell_stdev(data['dwell time'],isPlot=True)\n"
   ]
  },
  {
   "cell_type": "markdown",
   "metadata": {},
   "source": [
    "**Part F**: Does the true standard deviation of the distribution fall inside your 95% bootstrapped confidence interval? "
   ]
  },
  {
   "cell_type": "code",
   "execution_count": 280,
   "metadata": {},
   "outputs": [
    {
     "name": "stdout",
     "output_type": "stream",
     "text": [
      "The True Standard Deviation for data is:  4.584911700995161\n",
      "This value Falls within our bootstraped confidence interval of Standard Deviation: [ 4.04532501,  5.09890607]\n"
     ]
    }
   ],
   "source": [
    "print(\"The True Standard Deviation for data is: \",data['dwell time'].std())\n",
    "print(\"This value Falls within our bootstraped confidence interval of Standard Deviation: [ 4.04532501,  5.09890607]\")\n"
   ]
  },
  {
   "cell_type": "markdown",
   "metadata": {},
   "source": [
    "**Part G**: Complete the function dwell_med below to create an empirical bootstrapped confidence interval at the 95% confidence level for the median dwell time.  Use at least 5000 bootstrap resamples. In addition to returning the confidence interval, your function should also plot a histogram of the bootstrap resample medians including some graphical indication of the 95% confidence interval.  "
   ]
  },
  {
   "cell_type": "code",
   "execution_count": 285,
   "metadata": {},
   "outputs": [
    {
     "name": "stdout",
     "output_type": "stream",
     "text": [
      "The Bootstrapped 95% CI for the Standard Deviation is [ 7.05443759  8.03240691]\n"
     ]
    },
    {
     "data": {
      "image/png": "[encoded data removed]",
      "text/plain": [
       "<matplotlib.figure.Figure at 0x27045bcb518>"
      ]
     },
     "metadata": {},
     "output_type": "display_data"
    },
    {
     "data": {
      "text/plain": [
       "array([ 7.05443759,  8.03240691])"
      ]
     },
     "execution_count": 285,
     "metadata": {},
     "output_type": "execute_result"
    }
   ],
   "source": [
    "def dwell_med(df, num_boots=5000, isPlot=False):\n",
    "    RSample_Median = np.zeros(num_boots)\n",
    "    for i in range (num_boots):\n",
    "        RSample_Median[i] = np.median(np.random.choice(df, replace=True, size=len(df)))\n",
    "    \n",
    "    L = np.percentile(RSample_Median, 2.5)\n",
    "    R = np.percentile(RSample_Median, 97.5)\n",
    "   \n",
    "    CI = np.array([L, R])\n",
    "    print(\"The Bootstrapped 95% CI for the Standard Deviation is\",CI)\n",
    "    if isPlot: \n",
    "        # TODO plot histogram \n",
    "        fig, ax = plt.subplots(nrows=1, ncols=1, figsize=(12,6))\n",
    "        ax.hist(RSample_Median,bins=20,edgecolor = \"white\")\n",
    "        plt.axvline(x=L,color='black')\n",
    "        plt.axvline(x=R,color='black')\n",
    "        plt.show()\n",
    "    \n",
    "    return CI \n",
    "\n",
    "dwell_med(data['dwell time'],isPlot=True)"
   ]
  },
  {
   "cell_type": "markdown",
   "metadata": {},
   "source": [
    "**Part H**: Does the true median of the distribution fall inside your 95% bootstrapped confidence interval? "
   ]
  },
  {
   "cell_type": "code",
   "execution_count": 288,
   "metadata": {},
   "outputs": [
    {
     "name": "stdout",
     "output_type": "stream",
     "text": [
      "The True Median for data is:  7.511622989136676\n",
      "This value Falls within our bootstraped confidence interval of Standard Deviation: [ 7.05443759,  8.03240691]\n"
     ]
    }
   ],
   "source": [
    "print(\"The True Median for data is: \",data['dwell time'].median())\n",
    "print(\"This value Falls within our bootstraped confidence interval of Standard Deviation: [ 7.05443759,  8.03240691]\")"
   ]
  },
  {
   "cell_type": "markdown",
   "metadata": {},
   "source": [
    "### [15 points] Problem 6 - Autograding Simulation Homework \n",
    "***\n",
    "\n",
    "Suppose that you are the grader for an Introduction to Data Science course and your boss has asked you to write an autograder for a homework problem on simulation.  Specifically, students have been asked to write a simulation to estimate the expected number of rolls it will take until doubles are rolled with a pair of fair, six-sided dice (i.e. until both dice show the same value).  The students have been asked to structure their code so that it runs many trials of the experiment and returns the sample mean of the trials, as well as an array containing the result of each individual trial. \n",
    "\n",
    "The solutions submitted by three students in the course are given below. "
   ]
  },
  {
   "cell_type": "code",
   "execution_count": 50,
   "metadata": {},
   "outputs": [
    {
     "data": {
      "text/plain": [
       "array([ 3.,  1.,  1., ...,  1.,  1.,  3.])"
      ]
     },
     "execution_count": 50,
     "metadata": {},
     "output_type": "execute_result"
    }
   ],
   "source": [
    "def student1(num_trials=5000):\n",
    "    t = np.zeros(num_trials)\n",
    "    for ii in range(num_trials):\n",
    "        ctr = 0\n",
    "        while np.random.choice([1,2,3,4,5,6]) != np.random.choice([1,2,3,4,5,6]):\n",
    "            ctr += 1 \n",
    "        t[ii] = ctr \n",
    "        \n",
    "    return np.mean(t), t\n",
    "\n",
    "def student2(num_trials=5000):\n",
    "    t = np.zeros(num_trials)\n",
    "    for ii in range(num_trials):\n",
    "        ctr = 1\n",
    "        while int(6*np.random.uniform(0,1)+1) != int(6*np.random.uniform(0,1)+1):\n",
    "            ctr += 1 \n",
    "        t[ii] = ctr \n",
    "    return np.mean(t), t\n",
    "\n",
    "def student3(num_trials=5000):\n",
    "    t = np.random.exponential(6, size=num_trials)\n",
    "    return np.mean(t), t \n",
    "\n",
    "a = student1(5000)\n",
    "a[]"
   ]
  },
  {
   "cell_type": "markdown",
   "metadata": {},
   "source": [
    "Now, you landed this job at the last minute, and your probability theory is a little rusty.  Luckily, your boss has given you her solution to the problem which is shown below: "
   ]
  },
  {
   "cell_type": "code",
   "execution_count": 57,
   "metadata": {},
   "outputs": [
    {
     "data": {
      "text/plain": [
       "5000"
      ]
     },
     "execution_count": 57,
     "metadata": {},
     "output_type": "execute_result"
    }
   ],
   "source": [
    "def prof(num_trials=5000):\n",
    "    t = np.random.geometric(1/6, size=num_trials)\n",
    "    return np.mean(t), t\n",
    "\n",
    "a = prof(5000)\n",
    "len(a[1])"
   ]
  },
  {
   "cell_type": "markdown",
   "metadata": {},
   "source": [
    "Knowing that your probability theory is rusty, your boss has suggested that your autograder be constructed solely based on confidence intervals to compare the students' estimates of the expected value of the experiment to her own estimate.  Finally, although there are only examples from three students above, there are actually more than 100 students in the course, so tailoring your tests to features of individual students' code is out of the question. \n",
    "\n",
    "**Part A**: Complete the function autograder below, which takes in the realizations of the trials from your professor's code and one of the students' codes, as well as the $\\alpha$ for a $100(1-\\alpha)\\%$ confidence interval and returns a string indicating whether the student passed or failed the test. **Clearly** indicate what statistical test(s) your autograder is using and why this is a good idea.  Then demonstrate the use of your autograder to grade the three student solutions above based on a 95% confidence level. \n",
    "\n",
    "$$ \\bar{x} \\pm Z_{\\frac{\\sigma}{2}} ~ \\frac{\\sigma}{\\sqrt{n}}$$"
   ]
  },
  {
   "cell_type": "code",
   "execution_count": 219,
   "metadata": {},
   "outputs": [
    {
     "name": "stdout",
     "output_type": "stream",
     "text": [
      "The diffrence between means is -0.0432\n",
      "The Confidence intervals is  (-0.15326598748023809, 0.066865987480238726)\n"
     ]
    },
    {
     "data": {
      "text/plain": [
       "'Passed'"
      ]
     },
     "execution_count": 219,
     "metadata": {},
     "output_type": "execute_result"
    }
   ],
   "source": [
    "def autograder(pf, st, alpha=0.05):\n",
    "    z = norm.ppf(1-(alpha/2))\n",
    "    \n",
    "    studentOutput = st\n",
    "    profOutput = pf\n",
    "    \n",
    "    diff = (profOutput[1].mean() - studentOutput[1].mean()) \n",
    "    margin_of_error = math.sqrt((profOutput[1].std()**2/len(profOutput[1]))+(studentOutput[1].std()**2 /len(studentOutput[1])))\n",
    "   \n",
    "    print(\"The diffrence between means is\",diff)\n",
    "    \n",
    "    CI = ((diff - margin_of_error),(diff + margin_of_error))\n",
    "    print(\"The Confidence intervals is \",CI)\n",
    "\n",
    "    #return prof_CI,profOutput[0]\n",
    "    if (CI[0] < 0 < CI[1]):\n",
    "        return \"Passed\"\n",
    "    else:\n",
    "        return \"Failed\"\n",
    "    \n",
    "autograder(prof(5000),student2(5000))"
   ]
  },
  {
   "cell_type": "markdown",
   "metadata": {},
   "source": [
    "**[Extra Credit] Part B**: You realize that tests based solely on the estimate of the mean are not robust.  Come up with a better autograder that, again using tests based on confidence intervals, compares the students' solutions to the professor's solutions on statistical properties beyond just the mean. Again, **clearly** motivate the features of your autograder based on theory developed in class.    "
   ]
  },
  {
   "cell_type": "code",
   "execution_count": null,
   "metadata": {
    "collapsed": true
   },
   "outputs": [],
   "source": []
  }
 ],
 "metadata": {
  "kernelspec": {
   "display_name": "Python 3",
   "language": "python",
   "name": "python3"
  },
  "language_info": {
   "codemirror_mode": {
    "name": "ipython",
    "version": 3
   },
   "file_extension": ".py",
   "mimetype": "text/x-python",
   "name": "python",
   "nbconvert_exporter": "python",
   "pygments_lexer": "ipython3",
   "version": "3.6.1"
  }
 },
 "nbformat": 4,
 "nbformat_minor": 2
}
